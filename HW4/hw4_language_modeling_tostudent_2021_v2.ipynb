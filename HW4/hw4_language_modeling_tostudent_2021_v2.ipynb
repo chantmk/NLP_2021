{
  "nbformat": 4,
  "nbformat_minor": 0,
  "metadata": {
    "kernelspec": {
      "display_name": "Python 3",
      "language": "python",
      "name": "python3"
    },
    "language_info": {
      "codemirror_mode": {
        "name": "ipython",
        "version": 3
      },
      "file_extension": ".py",
      "mimetype": "text/x-python",
      "name": "python",
      "nbconvert_exporter": "python",
      "pygments_lexer": "ipython3",
      "version": "3.6.4"
    },
    "colab": {
      "name": "hw4_language_modeling_tostudent_2021_v2.ipynb",
      "provenance": [],
      "collapsed_sections": [],
      "toc_visible": true
    }
  },
  "cells": [
    {
      "cell_type": "markdown",
      "metadata": {
        "collapsed": true,
        "id": "15QfB7RAuXAc"
      },
      "source": [
        "# Language Modeling using Ngram"
      ]
    },
    {
      "cell_type": "markdown",
      "metadata": {
        "id": "gucid6KNuXAe"
      },
      "source": [
        "In this Exercise, you are going to use NLTK which is a natural language processing library for python to create a bigram language model and its variation. You will build one model for each of the following type and calculate their perplexity:\n",
        "- Unigram Model\n",
        "- Bigram Model\n",
        "- Bigram Model with Laplace smoothing\n",
        "- Bigram Model with Interpolation\n",
        "- Bigram Model with Kneser-ney Interpolation\n",
        "- Neural LM (optional)\n",
        "\n"
      ]
    },
    {
      "cell_type": "code",
      "metadata": {
        "id": "MRRrn78ZjL54"
      },
      "source": [
        "#download corpus\n",
        "!wget --no-check-certificate https://github.com/ekapolc/nlp_2019/raw/master/HW4/BEST2010.zip\n",
        "!unzip BEST2010.zip"
      ],
      "execution_count": null,
      "outputs": []
    },
    {
      "cell_type": "code",
      "metadata": {
        "id": "GjJDeG03uXAf"
      },
      "source": [
        "#First we import necessary library such as math, nltk, bigram, and collections.\n",
        "import math\n",
        "import nltk\n",
        "import io\n",
        "import random\n",
        "from random import shuffle\n",
        "from nltk import bigrams, trigrams\n",
        "from collections import Counter, defaultdict\n",
        "random.seed(999)"
      ],
      "execution_count": null,
      "outputs": []
    },
    {
      "cell_type": "markdown",
      "metadata": {
        "id": "HugXBHNEuXAh"
      },
      "source": [
        "BEST2010 is a free Thai NLP dataset by NECTEC usually use as a standard benchmark for various NLP tasks includeing language modeling. BEST2010 is separated into 4 domain article, encyclopedia, news and novel. The data is already  tokenized using '|' as a separator.\n",
        "\n",
        "For example,\n",
        "\n",
        "ตาม|ที่|นางประนอม ทองจันทร์| |กับ| |ด.ช.กิตติพงษ์ แหลมผักแว่น| |และ| |ด.ญ.กาญจนา กรองแก้ว| |ป่วย|สงสัย|ติด|เชื้อ|ไข้|ขณะ|นี้|ยัง|ไม่|ดี|ขึ้น|"
      ]
    },
    {
      "cell_type": "code",
      "metadata": {
        "id": "iu-AJSZZuXAi"
      },
      "source": [
        "# We choose news domain as our dataset\n",
        "best2010=[]\n",
        "fp= io.open('BEST2010/news.txt','r',encoding='utf-8')\n",
        "for i,line in enumerate(fp):\n",
        "    best2010.append(line.strip()[:-1])\n",
        "fp.close()\n",
        "all_vocabulary =set()\n",
        "total_word_count =0\n",
        "for line in best2010:\n",
        "    for word in line.split('|'):        \n",
        "        all_vocabulary.add(word)\n",
        "        total_word_count+=1"
      ],
      "execution_count": null,
      "outputs": []
    },
    {
      "cell_type": "code",
      "metadata": {
        "id": "3WfpGgbruXAj"
      },
      "source": [
        "#For simplicity, we assumes that each line is a sentence.\n",
        "print ('Total sentences in BEST2010 news dataset :\\t'+ str(len(best2010)))\n",
        "print ('Total word counts in BEST2010 news dataset :\\t'+ str(total_word_count))\n",
        "print ('Total vocabulary in BEST2010 news dataset :\\t'+ str(len(all_vocabulary)))"
      ],
      "execution_count": null,
      "outputs": []
    },
    {
      "cell_type": "markdown",
      "metadata": {
        "id": "_JD9iXF1uXAm"
      },
      "source": [
        "We separate out input into 2 sets, train and test data with 70:30 ratio"
      ]
    },
    {
      "cell_type": "code",
      "metadata": {
        "id": "_WGcQq_juXAm"
      },
      "source": [
        "sentences = best2010\n",
        "# The data is separated to train and test set with 70:30 ratio.\n",
        "train = sentences[:int(len(sentences)*0.7)]\n",
        "test = sentences[int(len(sentences)*0.7):]\n",
        "\n",
        "#Training data\n",
        "train_vocabulary =set()\n",
        "train_word_count =0\n",
        "for line in train:\n",
        "    for word in line.split('|'):        \n",
        "        train_vocabulary.add(word)\n",
        "        train_word_count+=1\n",
        "print ('Total sentences in BEST2010 news training dataset :\\t'+ str(len(train)))\n",
        "print ('Total word counts in BEST2010 news training dataset :\\t'+ str(train_word_count))\n",
        "print ('Total vocabuary in BEST2010 news training dataset :\\t'+ str(len(train_vocabulary)))\n",
        "# We will use 1/vocab_size as a default value for unknown word\n",
        "unk_value = math.pow(len(train_vocabulary),-1)"
      ],
      "execution_count": null,
      "outputs": []
    },
    {
      "cell_type": "markdown",
      "metadata": {
        "id": "pHtCMFMluXAo"
      },
      "source": [
        "# Unigram"
      ]
    },
    {
      "cell_type": "markdown",
      "metadata": {
        "id": "2V1WQTGzuXAp"
      },
      "source": [
        "In this section, we will demonstrate how to build a unigram language model <br>\n",
        "**Important note:** <br>\n",
        "**\\<s\\>** = sentence start symbol <br>\n",
        "**\\</s\\>** = sentence end symbol "
      ]
    },
    {
      "cell_type": "code",
      "metadata": {
        "id": "vQjO4wX_uXAp"
      },
      "source": [
        "def getUnigramModel(data):\n",
        "    model = defaultdict(lambda: 0)\n",
        "    word_count =0\n",
        "    for sentence in data:\n",
        "        sentence +=  u'|</s>' #for unigram model we can always ignore <s>, since p(w0=<s>)=1\n",
        "        for w1 in sentence.split('|'):\n",
        "            model[w1] +=1.0\n",
        "            word_count+=1\n",
        "    for w1 in model:\n",
        "        model[w1] = model[w1]/(word_count)\n",
        "    return model"
      ],
      "execution_count": null,
      "outputs": []
    },
    {
      "cell_type": "code",
      "metadata": {
        "id": "dxoVqkfuuXAr"
      },
      "source": [
        "model = getUnigramModel(train)"
      ],
      "execution_count": null,
      "outputs": []
    },
    {
      "cell_type": "code",
      "metadata": {
        "id": "6coGxSY7uXAt"
      },
      "source": [
        "def getLnValue(x):\n",
        "    if x >0.0:\n",
        "        return math.log(x)\n",
        "    else:\n",
        "        return math.log(unk_value)"
      ],
      "execution_count": null,
      "outputs": []
    },
    {
      "cell_type": "code",
      "metadata": {
        "id": "cFy8yhZjuXAv"
      },
      "source": [
        "#problability of 'นายก'\n",
        "print(getLnValue(model[u'นายก']))\n",
        "#for example, problability of 'นายกรัฐมนตรี' which is an unknown word is equal to\n",
        "print(getLnValue(model[u'นายกรัฐมนตรี']))\n",
        "#problability of 'นายก' 'ได้' 'ให้' 'สัมภาษณ์' 'กับ' 'สื่อ'\n",
        "prob = getLnValue(model[u'นายก'])+getLnValue(model[u'ได้'])+ getLnValue(model[u'ให้'])+getLnValue(model[u'สัมภาษณ์'])+getLnValue(model[u'กับ'])+getLnValue(model[u'สื่อ'])+getLnValue(model['</s>'])\n",
        "print ('Problability of a sentence', math.exp(prob))"
      ],
      "execution_count": null,
      "outputs": []
    },
    {
      "cell_type": "markdown",
      "metadata": {
        "id": "D8EfqnDsuXAw"
      },
      "source": [
        "# Perplexity\n",
        "\n",
        "In order to compare language model we need to calculate perplexity. In this task you should write a perplexity calculation code for the unigram model. The result perplexity should be around 556.39 and\n",
        "476.07 on train and test data."
      ]
    },
    {
      "cell_type": "markdown",
      "metadata": {
        "id": "qDbyLBEggie0"
      },
      "source": [
        "# TODO #0\n",
        "**Fill your name and ID here** <br>\n",
        "**Name**:\n",
        "<br>\n",
        "**ID**:"
      ]
    },
    {
      "cell_type": "markdown",
      "metadata": {
        "id": "hZHQ-6tVuXAx"
      },
      "source": [
        "## TODO #1 **Calculate perplexity**"
      ]
    },
    {
      "cell_type": "code",
      "metadata": {
        "id": "kh0DwzoouXAx"
      },
      "source": [
        "def calculate_sentence_ln_prob(sentence, model):\n",
        "    pass\n",
        "\n",
        "def perplexity(test,model):\n",
        "    pass"
      ],
      "execution_count": null,
      "outputs": []
    },
    {
      "cell_type": "code",
      "metadata": {
        "id": "KTkIoVWsuXAz"
      },
      "source": [
        "print(perplexity(train,model))\n",
        "print(perplexity(test,model))"
      ],
      "execution_count": null,
      "outputs": []
    },
    {
      "cell_type": "markdown",
      "metadata": {
        "id": "gad1QuPAHUoK"
      },
      "source": [
        "## TODO #2 **Please explain why this model give us such a high perplexity.**"
      ]
    },
    {
      "cell_type": "markdown",
      "metadata": {
        "id": "tMbhIO29HT6y"
      },
      "source": [
        "**Your answer**:  "
      ]
    },
    {
      "cell_type": "markdown",
      "metadata": {
        "id": "lK0gaMf0uXA2"
      },
      "source": [
        "# Bigram"
      ]
    },
    {
      "cell_type": "markdown",
      "metadata": {
        "id": "dmTkAY_QuXA3"
      },
      "source": [
        "Next, you will create a better language model than a unigram (which is not much to compare with). But first, it is very tedious to count every pair of words that occur in our corpus by ourselves. In this case, nltk provide us a simple library which will do it for us."
      ]
    },
    {
      "cell_type": "code",
      "metadata": {
        "id": "Lv6r2LJ1uXA4"
      },
      "source": [
        "#example of nltk usage for bigram\n",
        "sentence = 'I always search google for an answer .'\n",
        "\n",
        "print('This is how nltk generate bigram.')\n",
        "for w1,w2 in bigrams(sentence.split(), pad_right=True, pad_left=True):\n",
        "    print (w1,w2)\n",
        "print('None is used as a start and end of sentence symbol.')"
      ],
      "execution_count": null,
      "outputs": []
    },
    {
      "cell_type": "markdown",
      "metadata": {
        "id": "5R2T-6i9uXA6"
      },
      "source": [
        "Now, you should be able to implement a bigram model by yourself. Also, you must create a new perplexity calculation for bigram. The result perplexity should be around 58.78 and 146.26 on train and test data."
      ]
    },
    {
      "cell_type": "markdown",
      "metadata": {
        "id": "9aYkjzTzuXA7"
      },
      "source": [
        "## TODO #3 **Create a Bigram Model**"
      ]
    },
    {
      "cell_type": "code",
      "metadata": {
        "id": "ZhnAa1XuuXA7"
      },
      "source": [
        "def getBigramModel(data):\n",
        "    ###FILL YOUR CODE HERE###\n",
        "    return model\n",
        "\n",
        "model = getBigramModel(train)"
      ],
      "execution_count": null,
      "outputs": []
    },
    {
      "cell_type": "markdown",
      "metadata": {
        "id": "i3_Cgu6guXA-"
      },
      "source": [
        "## TODO #4 **Calculate Perplexity for Bigram Model**\n",
        "\n"
      ]
    },
    {
      "cell_type": "code",
      "metadata": {
        "id": "4i3NoQGfuXA-"
      },
      "source": [
        "def calculate_sentence_ln_prob(sentence, model):\n",
        "    pass\n",
        "\n",
        "def perplexity(test,model):\n",
        "    pass"
      ],
      "execution_count": null,
      "outputs": []
    },
    {
      "cell_type": "code",
      "metadata": {
        "id": "OC1L5YWfuXBA"
      },
      "source": [
        "print (perplexity(train,model) )\n",
        "print (perplexity(test, model))\n",
        "\n",
        "# 58.78942889767147\n",
        "# 146.26539331038614"
      ],
      "execution_count": null,
      "outputs": []
    },
    {
      "cell_type": "markdown",
      "metadata": {
        "id": "9BAF9DQbuXBC"
      },
      "source": [
        "# Smoothing"
      ]
    },
    {
      "cell_type": "markdown",
      "metadata": {
        "id": "jlm75BWLuXBC"
      },
      "source": [
        "Usually any ngram models have a sparsity problem, which means it does not have every possible ngram of words in the dataset. Smoothing techniques can alleviate this problem. In this section, you will implement two basic smoothing methods laplace smoothing and interpolation for bigram."
      ]
    },
    {
      "cell_type": "markdown",
      "metadata": {
        "id": "jwa7YQiouXBD"
      },
      "source": [
        "## TODO #5 **Bigram with Laplace smoothing (Add-One Smoothing)**"
      ]
    },
    {
      "cell_type": "code",
      "metadata": {
        "id": "hnDlweIQuXBD"
      },
      "source": [
        "#Laplace Smoothing\n",
        "def getBigramWithLaplaceSmoothing(data):\n",
        "    #Fill code here\n",
        "    return model\n",
        "\n",
        "model = getBigramWithLaplaceSmoothing(train)\n",
        "print (perplexity(train,model) )\n",
        "print (perplexity(test, model))\n",
        "\n",
        "# 974.8134581679766\n",
        "# 1098.1622194979489"
      ],
      "execution_count": null,
      "outputs": []
    },
    {
      "cell_type": "markdown",
      "metadata": {
        "id": "5JDswBSIuXBG"
      },
      "source": [
        "## TODO #6 **Bigram with Interpolation**\n",
        "lambda value is 0.7 for bigram, 0.25 for unigram, and 0.05 for unknown word"
      ]
    },
    {
      "cell_type": "code",
      "metadata": {
        "id": "pskrwklHuXBI"
      },
      "source": [
        "#interpolation\n",
        "def getBigramWithInterpolation(data):\n",
        "    #Fill code here\n",
        "    return model\n",
        "    \n",
        "model = getBigramWithInterpolation(train)\n",
        "print (perplexity(train,model))        \n",
        "print (perplexity(test,model))\n",
        "\n",
        "# 73.38409869825665\n",
        "# 172.67485908813356"
      ],
      "execution_count": null,
      "outputs": []
    },
    {
      "cell_type": "markdown",
      "metadata": {
        "id": "90FupFyQuXBL"
      },
      "source": [
        "the result perplexity on training and testing should be \n",
        "\n",
        "    974.81, 1098.16 for Laplace smoothing\n",
        "    73.38, 172.67 for Interpolation"
      ]
    },
    {
      "cell_type": "markdown",
      "metadata": {
        "id": "pUorP-EWuXBM"
      },
      "source": [
        "# Language modeling on multiple domains\n",
        "\n",
        "Sometimes, we do not have enough data to create a language model for a new domain. In that case, we can improvised by combining several models to improve result on the new domain.\n",
        "\n",
        "In this exercise you will try to merge two language models from news and article domains to create a language model for the encyclopedia domain."
      ]
    },
    {
      "cell_type": "code",
      "metadata": {
        "id": "Jel9Hx69uXBN"
      },
      "source": [
        "# create article data\n",
        "encyclo_data=[]\n",
        "fp= io.open('BEST2010/encyclopedia.txt','r',encoding='utf-8')\n",
        "for i,line in enumerate(fp):\n",
        "    encyclo_data.append(line.strip()[:-1])\n",
        "fp.close()"
      ],
      "execution_count": null,
      "outputs": []
    },
    {
      "cell_type": "markdown",
      "metadata": {
        "id": "9skdgo8muXBO"
      },
      "source": [
        "First, you should try to calculate perplexity of your bigram with interpolation using \"news data\" (train) on \"encyclopedia data\" (test). The result perplexity should be around 727.35.\n",
        "\n",
        "For your information, a bigram model with interpolation using \"ariticle data\" (train) to test on \"encyclopedia data\" (test) has a perplexity of 505.79."
      ]
    },
    {
      "cell_type": "code",
      "metadata": {
        "id": "x0l91qLEuXBP"
      },
      "source": [
        "# print perplexity of bigram with interpolation on article data        \n",
        "# 727.3502637212223\n",
        "print (perplexity(encyclo_data,model))"
      ],
      "execution_count": null,
      "outputs": []
    },
    {
      "cell_type": "markdown",
      "metadata": {
        "id": "hwV9j9U-uXBR"
      },
      "source": [
        "## TODO #7 \n",
        "Write a model that produce 450.0 or less perplexity on encyclopedia data without using data from the encyclopedia as training data. (Hint : Try to combine a model with news data and a model with article data together.)"
      ]
    },
    {
      "cell_type": "code",
      "metadata": {
        "id": "wBjmLhUcuXBS"
      },
      "source": [
        "# Fill code here\n",
        "# 428.85251789073953 (on combined data)\n",
        "print('Perplexity of combine Bigram model with interpolation smoothing on encyclopedia test data',perplexity(encyclo_data, combined_model))"
      ],
      "execution_count": null,
      "outputs": []
    },
    {
      "cell_type": "markdown",
      "metadata": {
        "id": "XNPEhD7WuXBV"
      },
      "source": [
        "## TODO #8 \n",
        "## Kneser-ney on \"News\"\n",
        "\n",
        "<!-- Reimplement equation 4.33 in SLP textbook (https://lagunita.stanford.edu/c4x/Engineering/CS-224N/asset/slp4.pdf) -->\n",
        "\n",
        "Implement Bigram Knerser-ney LM. The result perplexity should be around 55.06 and 140.76 on train and test data. \n"
      ]
    },
    {
      "cell_type": "code",
      "metadata": {
        "id": "2CzvIQ9ho7MR"
      },
      "source": [
        "# Fill codehere\n",
        "\n",
        "print (perplexity(train,model))        \n",
        "print (perplexity(test,model))\n",
        "\n",
        "# 55.069882021166585\n",
        "# 140.76248767095316"
      ],
      "execution_count": null,
      "outputs": []
    },
    {
      "cell_type": "markdown",
      "metadata": {
        "id": "iAtK3fic_DlB"
      },
      "source": [
        "## TODO #9\n",
        "## Neural LM (optional)\n",
        "do it on news corpus that we splitted into train and test sets at the beginning of this exercise. "
      ]
    },
    {
      "cell_type": "code",
      "metadata": {
        "id": "4bxt1CWO_BbF"
      },
      "source": [
        "#there are many ways to do this. e.g.:\n",
        "#https://machinelearningmastery.com/develop-word-based-neural-language-models-python-keras/"
      ],
      "execution_count": null,
      "outputs": []
    }
  ]
}