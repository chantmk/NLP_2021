{
  "nbformat": 4,
  "nbformat_minor": 0,
  "metadata": {
    "accelerator": "GPU",
    "colab": {
      "name": "hw3_pos_tagging.ipynb",
      "provenance": [],
      "collapsed_sections": [],
      "toc_visible": true
    },
    "kernelspec": {
      "display_name": "Python 3",
      "language": "python",
      "name": "python3"
    },
    "language_info": {
      "codemirror_mode": {
        "name": "ipython",
        "version": 3
      },
      "file_extension": ".py",
      "mimetype": "text/x-python",
      "name": "python",
      "nbconvert_exporter": "python",
      "pygments_lexer": "ipython3",
      "version": "3.7.3"
    }
  },
  "cells": [
    {
      "cell_type": "markdown",
      "metadata": {
        "id": "SpCKO19dhHPq"
      },
      "source": [
        "# HW 3 - Neural POS Tagger\n",
        "\n",
        "In this exercise, you are going to build a set of deep learning models on part-of-speech (POS) tagging using Tensorflow 2. Tensorflow is a deep learning framwork developed by Google to provide an easier way to use standard layers and networks.\n",
        "\n",
        "To complete this exercise, you will need to build deep learning models for POS tagging in Thai using NECTEC's ORCHID corpus. You will build one model for each of the following type:\n",
        "\n",
        "- Neural POS Tagging with Word Embedding using Fixed / non-Fixed Pretrained weights\n",
        "- Neural POS Tagging with Viterbi / Marginal CRF\n",
        "\n",
        "Pretrained word embeddding are already given for you to use (albeit, a very bad one).\n",
        "\n",
        "We also provide the code for data cleaning, preprocessing and some starter code for tensorflow 2 in this notebook but feel free to modify those parts to suit your needs. Feel free to use additional libraries (e.g. scikit-learn) as long as you have a model for each type mentioned above.\n",
        "\n",
        "### Don't forget to change hardware accelrator to GPU in runtime on Google Colab ###"
      ]
    },
    {
      "cell_type": "markdown",
      "metadata": {
        "id": "Qx0YbM_8hHPt"
      },
      "source": [
        "## 1. Setup and Preprocessing"
      ]
    },
    {
      "cell_type": "markdown",
      "metadata": {
        "id": "yF3lPNNkhHPu"
      },
      "source": [
        "We use POS data from [ORCHID corpus](https://www.nectec.or.th/corpus/index.php?league=pm), which is a POS corpus for Thai language.\n",
        "A method used to read the corpus into a list of sentences with (word, POS) pairs have been implemented already. The example usage has shown below.\n",
        "We also create a word vector for unknown word by random."
      ]
    },
    {
      "cell_type": "code",
      "metadata": {
        "id": "GS6O5yT6feRd"
      },
      "source": [
        "%tensorflow_version 2.x"
      ],
      "execution_count": null,
      "outputs": []
    },
    {
      "cell_type": "code",
      "metadata": {
        "colab": {
          "base_uri": "https://localhost:8080/"
        },
        "id": "58LvFz30zumq",
        "outputId": "45863894-81cc-44ae-f6fb-71cfe4c8d233"
      },
      "source": [
        "!wget https://www.dropbox.com/s/tuvrbsby4a5axe0/resources.zip\n",
        "!unzip resources.zip"
      ],
      "execution_count": null,
      "outputs": [
        {
          "output_type": "stream",
          "text": [
            "--2021-02-04 02:14:03--  https://www.dropbox.com/s/tuvrbsby4a5axe0/resources.zip\n",
            "Resolving www.dropbox.com (www.dropbox.com)... 162.125.1.18, 2620:100:6016:18::a27d:112\n",
            "Connecting to www.dropbox.com (www.dropbox.com)|162.125.1.18|:443... connected.\n",
            "HTTP request sent, awaiting response... 301 Moved Permanently\n",
            "Location: /s/raw/tuvrbsby4a5axe0/resources.zip [following]\n",
            "--2021-02-04 02:14:03--  https://www.dropbox.com/s/raw/tuvrbsby4a5axe0/resources.zip\n",
            "Reusing existing connection to www.dropbox.com:443.\n",
            "HTTP request sent, awaiting response... 302 Found\n",
            "Location: https://uc3ac8134718052760ec6810fdfc.dl.dropboxusercontent.com/cd/0/inline/BISwY7dAFrz7PX42nDi_cjdGsJuhtr67FtJJ-7gzXywFp67Sa124ntPAN7C7keYgOrtZ0-YOo4zp4iM1VZC9nzPy4--Cr4AD9Sune59oALlWXw/file# [following]\n",
            "--2021-02-04 02:14:03--  https://uc3ac8134718052760ec6810fdfc.dl.dropboxusercontent.com/cd/0/inline/BISwY7dAFrz7PX42nDi_cjdGsJuhtr67FtJJ-7gzXywFp67Sa124ntPAN7C7keYgOrtZ0-YOo4zp4iM1VZC9nzPy4--Cr4AD9Sune59oALlWXw/file\n",
            "Resolving uc3ac8134718052760ec6810fdfc.dl.dropboxusercontent.com (uc3ac8134718052760ec6810fdfc.dl.dropboxusercontent.com)... 162.125.1.15, 2620:100:6016:15::a27d:10f\n",
            "Connecting to uc3ac8134718052760ec6810fdfc.dl.dropboxusercontent.com (uc3ac8134718052760ec6810fdfc.dl.dropboxusercontent.com)|162.125.1.15|:443... connected.\n",
            "HTTP request sent, awaiting response... 302 Found\n",
            "Location: /cd/0/inline2/BITpGys20s-oj1zsEGbNxyWeoaKXxwNL7EZQKyGbXExnphO_AxUPk9OfZaCjxAPSmygEj0H0QmIboRtqcd_oUOiImAfv4JKlEGMykrtUkAuHr_TzlE2HqSwE76KMchlirwCTVroUkdjmyUpqvj5bKr-uzGmIAjdb5209FZNDJ7s_E9SLiViKm4N8K4UBLZpZU72GjeHsXoGT0_TJP5ZOsMTiPrU4WMzjtQqL7q_HQzo4_NCzVUWfmQZwa-fdqhgNH8Tt7Fxfc3A4GrPcSV62f2yR4xetnrUMSMmxrGZjTu7rf5w5ZzS3ylZu76-nwRxhrPmUjpBmE0G-JACTqJ_D1v7f/file [following]\n",
            "--2021-02-04 02:14:04--  https://uc3ac8134718052760ec6810fdfc.dl.dropboxusercontent.com/cd/0/inline2/BITpGys20s-oj1zsEGbNxyWeoaKXxwNL7EZQKyGbXExnphO_AxUPk9OfZaCjxAPSmygEj0H0QmIboRtqcd_oUOiImAfv4JKlEGMykrtUkAuHr_TzlE2HqSwE76KMchlirwCTVroUkdjmyUpqvj5bKr-uzGmIAjdb5209FZNDJ7s_E9SLiViKm4N8K4UBLZpZU72GjeHsXoGT0_TJP5ZOsMTiPrU4WMzjtQqL7q_HQzo4_NCzVUWfmQZwa-fdqhgNH8Tt7Fxfc3A4GrPcSV62f2yR4xetnrUMSMmxrGZjTu7rf5w5ZzS3ylZu76-nwRxhrPmUjpBmE0G-JACTqJ_D1v7f/file\n",
            "Reusing existing connection to uc3ac8134718052760ec6810fdfc.dl.dropboxusercontent.com:443.\n",
            "HTTP request sent, awaiting response... 200 OK\n",
            "Length: 151484222 (144M) [application/zip]\n",
            "Saving to: ‘resources.zip’\n",
            "\n",
            "resources.zip       100%[===================>] 144.47M  81.3MB/s    in 1.8s    \n",
            "\n",
            "2021-02-04 02:14:06 (81.3 MB/s) - ‘resources.zip’ saved [151484222/151484222]\n",
            "\n",
            "Archive:  resources.zip\n",
            "  inflating: basic_ff_embedding.pt   \n",
            "   creating: model/\n",
            "  inflating: model/_DS_Store         \n",
            "  inflating: model/crf_basic.model   \n",
            "  inflating: model/crf_neural.model  \n"
          ],
          "name": "stdout"
        }
      ]
    },
    {
      "cell_type": "code",
      "metadata": {
        "colab": {
          "base_uri": "https://localhost:8080/"
        },
        "id": "H2a9b92hYTg2",
        "outputId": "cc9d961b-2cff-49d7-a55f-9d84f62ffa18"
      },
      "source": [
        "!pip install python-crfsuite\n",
        "!pip install tensorflow-addons\n",
        "!pip install tf2crf"
      ],
      "execution_count": null,
      "outputs": [
        {
          "output_type": "stream",
          "text": [
            "Collecting python-crfsuite\n",
            "\u001b[?25l  Downloading https://files.pythonhosted.org/packages/95/99/869dde6dbf3e0d07a013c8eebfb0a3d30776334e0097f8432b631a9a3a19/python_crfsuite-0.9.7-cp36-cp36m-manylinux1_x86_64.whl (743kB)\n",
            "\r\u001b[K     |▍                               | 10kB 22.1MB/s eta 0:00:01\r\u001b[K     |▉                               | 20kB 26.6MB/s eta 0:00:01\r\u001b[K     |█▎                              | 30kB 20.5MB/s eta 0:00:01\r\u001b[K     |█▊                              | 40kB 16.6MB/s eta 0:00:01\r\u001b[K     |██▏                             | 51kB 10.4MB/s eta 0:00:01\r\u001b[K     |██▋                             | 61kB 10.5MB/s eta 0:00:01\r\u001b[K     |███                             | 71kB 9.4MB/s eta 0:00:01\r\u001b[K     |███▌                            | 81kB 10.4MB/s eta 0:00:01\r\u001b[K     |████                            | 92kB 10.8MB/s eta 0:00:01\r\u001b[K     |████▍                           | 102kB 9.3MB/s eta 0:00:01\r\u001b[K     |████▉                           | 112kB 9.3MB/s eta 0:00:01\r\u001b[K     |█████▎                          | 122kB 9.3MB/s eta 0:00:01\r\u001b[K     |█████▊                          | 133kB 9.3MB/s eta 0:00:01\r\u001b[K     |██████▏                         | 143kB 9.3MB/s eta 0:00:01\r\u001b[K     |██████▋                         | 153kB 9.3MB/s eta 0:00:01\r\u001b[K     |███████                         | 163kB 9.3MB/s eta 0:00:01\r\u001b[K     |███████▌                        | 174kB 9.3MB/s eta 0:00:01\r\u001b[K     |████████                        | 184kB 9.3MB/s eta 0:00:01\r\u001b[K     |████████▍                       | 194kB 9.3MB/s eta 0:00:01\r\u001b[K     |████████▉                       | 204kB 9.3MB/s eta 0:00:01\r\u001b[K     |█████████▎                      | 215kB 9.3MB/s eta 0:00:01\r\u001b[K     |█████████▊                      | 225kB 9.3MB/s eta 0:00:01\r\u001b[K     |██████████▏                     | 235kB 9.3MB/s eta 0:00:01\r\u001b[K     |██████████▋                     | 245kB 9.3MB/s eta 0:00:01\r\u001b[K     |███████████                     | 256kB 9.3MB/s eta 0:00:01\r\u001b[K     |███████████▌                    | 266kB 9.3MB/s eta 0:00:01\r\u001b[K     |████████████                    | 276kB 9.3MB/s eta 0:00:01\r\u001b[K     |████████████▎                   | 286kB 9.3MB/s eta 0:00:01\r\u001b[K     |████████████▊                   | 296kB 9.3MB/s eta 0:00:01\r\u001b[K     |█████████████▏                  | 307kB 9.3MB/s eta 0:00:01\r\u001b[K     |█████████████▋                  | 317kB 9.3MB/s eta 0:00:01\r\u001b[K     |██████████████                  | 327kB 9.3MB/s eta 0:00:01\r\u001b[K     |██████████████▌                 | 337kB 9.3MB/s eta 0:00:01\r\u001b[K     |███████████████                 | 348kB 9.3MB/s eta 0:00:01\r\u001b[K     |███████████████▍                | 358kB 9.3MB/s eta 0:00:01\r\u001b[K     |███████████████▉                | 368kB 9.3MB/s eta 0:00:01\r\u001b[K     |████████████████▎               | 378kB 9.3MB/s eta 0:00:01\r\u001b[K     |████████████████▊               | 389kB 9.3MB/s eta 0:00:01\r\u001b[K     |█████████████████▏              | 399kB 9.3MB/s eta 0:00:01\r\u001b[K     |█████████████████▋              | 409kB 9.3MB/s eta 0:00:01\r\u001b[K     |██████████████████              | 419kB 9.3MB/s eta 0:00:01\r\u001b[K     |██████████████████▌             | 430kB 9.3MB/s eta 0:00:01\r\u001b[K     |███████████████████             | 440kB 9.3MB/s eta 0:00:01\r\u001b[K     |███████████████████▍            | 450kB 9.3MB/s eta 0:00:01\r\u001b[K     |███████████████████▉            | 460kB 9.3MB/s eta 0:00:01\r\u001b[K     |████████████████████▎           | 471kB 9.3MB/s eta 0:00:01\r\u001b[K     |████████████████████▊           | 481kB 9.3MB/s eta 0:00:01\r\u001b[K     |█████████████████████▏          | 491kB 9.3MB/s eta 0:00:01\r\u001b[K     |█████████████████████▋          | 501kB 9.3MB/s eta 0:00:01\r\u001b[K     |██████████████████████          | 512kB 9.3MB/s eta 0:00:01\r\u001b[K     |██████████████████████▌         | 522kB 9.3MB/s eta 0:00:01\r\u001b[K     |███████████████████████         | 532kB 9.3MB/s eta 0:00:01\r\u001b[K     |███████████████████████▍        | 542kB 9.3MB/s eta 0:00:01\r\u001b[K     |███████████████████████▉        | 552kB 9.3MB/s eta 0:00:01\r\u001b[K     |████████████████████████▎       | 563kB 9.3MB/s eta 0:00:01\r\u001b[K     |████████████████████████▋       | 573kB 9.3MB/s eta 0:00:01\r\u001b[K     |█████████████████████████       | 583kB 9.3MB/s eta 0:00:01\r\u001b[K     |█████████████████████████▌      | 593kB 9.3MB/s eta 0:00:01\r\u001b[K     |██████████████████████████      | 604kB 9.3MB/s eta 0:00:01\r\u001b[K     |██████████████████████████▍     | 614kB 9.3MB/s eta 0:00:01\r\u001b[K     |██████████████████████████▉     | 624kB 9.3MB/s eta 0:00:01\r\u001b[K     |███████████████████████████▎    | 634kB 9.3MB/s eta 0:00:01\r\u001b[K     |███████████████████████████▊    | 645kB 9.3MB/s eta 0:00:01\r\u001b[K     |████████████████████████████▏   | 655kB 9.3MB/s eta 0:00:01\r\u001b[K     |████████████████████████████▋   | 665kB 9.3MB/s eta 0:00:01\r\u001b[K     |█████████████████████████████   | 675kB 9.3MB/s eta 0:00:01\r\u001b[K     |█████████████████████████████▌  | 686kB 9.3MB/s eta 0:00:01\r\u001b[K     |██████████████████████████████  | 696kB 9.3MB/s eta 0:00:01\r\u001b[K     |██████████████████████████████▍ | 706kB 9.3MB/s eta 0:00:01\r\u001b[K     |██████████████████████████████▉ | 716kB 9.3MB/s eta 0:00:01\r\u001b[K     |███████████████████████████████▎| 727kB 9.3MB/s eta 0:00:01\r\u001b[K     |███████████████████████████████▊| 737kB 9.3MB/s eta 0:00:01\r\u001b[K     |████████████████████████████████| 747kB 9.3MB/s \n",
            "\u001b[?25hInstalling collected packages: python-crfsuite\n",
            "Successfully installed python-crfsuite-0.9.7\n",
            "Requirement already satisfied: tensorflow-addons in /usr/local/lib/python3.6/dist-packages (0.8.3)\n",
            "Requirement already satisfied: typeguard in /usr/local/lib/python3.6/dist-packages (from tensorflow-addons) (2.7.1)\n",
            "Collecting tf2crf\n",
            "  Downloading https://files.pythonhosted.org/packages/eb/f5/e9f972be845a2b0ea93c76d26ed6b7bde599a48f70554a30a528117731c8/tf2crf-0.1.29-py2.py3-none-any.whl\n",
            "Requirement already satisfied: tensorflow-addons>=0.8.2 in /usr/local/lib/python3.6/dist-packages (from tf2crf) (0.8.3)\n",
            "Requirement already satisfied: tensorflow>=2.1.0 in /usr/local/lib/python3.6/dist-packages (from tf2crf) (2.4.1)\n",
            "Requirement already satisfied: typeguard in /usr/local/lib/python3.6/dist-packages (from tensorflow-addons>=0.8.2->tf2crf) (2.7.1)\n",
            "Requirement already satisfied: tensorboard~=2.4 in /usr/local/lib/python3.6/dist-packages (from tensorflow>=2.1.0->tf2crf) (2.4.1)\n",
            "Requirement already satisfied: astunparse~=1.6.3 in /usr/local/lib/python3.6/dist-packages (from tensorflow>=2.1.0->tf2crf) (1.6.3)\n",
            "Requirement already satisfied: keras-preprocessing~=1.1.2 in /usr/local/lib/python3.6/dist-packages (from tensorflow>=2.1.0->tf2crf) (1.1.2)\n",
            "Requirement already satisfied: tensorflow-estimator<2.5.0,>=2.4.0 in /usr/local/lib/python3.6/dist-packages (from tensorflow>=2.1.0->tf2crf) (2.4.0)\n",
            "Requirement already satisfied: absl-py~=0.10 in /usr/local/lib/python3.6/dist-packages (from tensorflow>=2.1.0->tf2crf) (0.10.0)\n",
            "Requirement already satisfied: six~=1.15.0 in /usr/local/lib/python3.6/dist-packages (from tensorflow>=2.1.0->tf2crf) (1.15.0)\n",
            "Requirement already satisfied: typing-extensions~=3.7.4 in /usr/local/lib/python3.6/dist-packages (from tensorflow>=2.1.0->tf2crf) (3.7.4.3)\n",
            "Requirement already satisfied: flatbuffers~=1.12.0 in /usr/local/lib/python3.6/dist-packages (from tensorflow>=2.1.0->tf2crf) (1.12)\n",
            "Requirement already satisfied: opt-einsum~=3.3.0 in /usr/local/lib/python3.6/dist-packages (from tensorflow>=2.1.0->tf2crf) (3.3.0)\n",
            "Requirement already satisfied: termcolor~=1.1.0 in /usr/local/lib/python3.6/dist-packages (from tensorflow>=2.1.0->tf2crf) (1.1.0)\n",
            "Requirement already satisfied: wrapt~=1.12.1 in /usr/local/lib/python3.6/dist-packages (from tensorflow>=2.1.0->tf2crf) (1.12.1)\n",
            "Requirement already satisfied: h5py~=2.10.0 in /usr/local/lib/python3.6/dist-packages (from tensorflow>=2.1.0->tf2crf) (2.10.0)\n",
            "Requirement already satisfied: google-pasta~=0.2 in /usr/local/lib/python3.6/dist-packages (from tensorflow>=2.1.0->tf2crf) (0.2.0)\n",
            "Requirement already satisfied: grpcio~=1.32.0 in /usr/local/lib/python3.6/dist-packages (from tensorflow>=2.1.0->tf2crf) (1.32.0)\n",
            "Requirement already satisfied: protobuf>=3.9.2 in /usr/local/lib/python3.6/dist-packages (from tensorflow>=2.1.0->tf2crf) (3.12.4)\n",
            "Requirement already satisfied: gast==0.3.3 in /usr/local/lib/python3.6/dist-packages (from tensorflow>=2.1.0->tf2crf) (0.3.3)\n",
            "Requirement already satisfied: numpy~=1.19.2 in /usr/local/lib/python3.6/dist-packages (from tensorflow>=2.1.0->tf2crf) (1.19.5)\n",
            "Requirement already satisfied: wheel~=0.35 in /usr/local/lib/python3.6/dist-packages (from tensorflow>=2.1.0->tf2crf) (0.36.2)\n",
            "Requirement already satisfied: google-auth-oauthlib<0.5,>=0.4.1 in /usr/local/lib/python3.6/dist-packages (from tensorboard~=2.4->tensorflow>=2.1.0->tf2crf) (0.4.2)\n",
            "Requirement already satisfied: requests<3,>=2.21.0 in /usr/local/lib/python3.6/dist-packages (from tensorboard~=2.4->tensorflow>=2.1.0->tf2crf) (2.23.0)\n",
            "Requirement already satisfied: tensorboard-plugin-wit>=1.6.0 in /usr/local/lib/python3.6/dist-packages (from tensorboard~=2.4->tensorflow>=2.1.0->tf2crf) (1.8.0)\n",
            "Requirement already satisfied: markdown>=2.6.8 in /usr/local/lib/python3.6/dist-packages (from tensorboard~=2.4->tensorflow>=2.1.0->tf2crf) (3.3.3)\n",
            "Requirement already satisfied: setuptools>=41.0.0 in /usr/local/lib/python3.6/dist-packages (from tensorboard~=2.4->tensorflow>=2.1.0->tf2crf) (53.0.0)\n",
            "Requirement already satisfied: werkzeug>=0.11.15 in /usr/local/lib/python3.6/dist-packages (from tensorboard~=2.4->tensorflow>=2.1.0->tf2crf) (1.0.1)\n",
            "Requirement already satisfied: google-auth<2,>=1.6.3 in /usr/local/lib/python3.6/dist-packages (from tensorboard~=2.4->tensorflow>=2.1.0->tf2crf) (1.24.0)\n",
            "Requirement already satisfied: requests-oauthlib>=0.7.0 in /usr/local/lib/python3.6/dist-packages (from google-auth-oauthlib<0.5,>=0.4.1->tensorboard~=2.4->tensorflow>=2.1.0->tf2crf) (1.3.0)\n",
            "Requirement already satisfied: certifi>=2017.4.17 in /usr/local/lib/python3.6/dist-packages (from requests<3,>=2.21.0->tensorboard~=2.4->tensorflow>=2.1.0->tf2crf) (2020.12.5)\n",
            "Requirement already satisfied: idna<3,>=2.5 in /usr/local/lib/python3.6/dist-packages (from requests<3,>=2.21.0->tensorboard~=2.4->tensorflow>=2.1.0->tf2crf) (2.10)\n",
            "Requirement already satisfied: urllib3!=1.25.0,!=1.25.1,<1.26,>=1.21.1 in /usr/local/lib/python3.6/dist-packages (from requests<3,>=2.21.0->tensorboard~=2.4->tensorflow>=2.1.0->tf2crf) (1.24.3)\n",
            "Requirement already satisfied: chardet<4,>=3.0.2 in /usr/local/lib/python3.6/dist-packages (from requests<3,>=2.21.0->tensorboard~=2.4->tensorflow>=2.1.0->tf2crf) (3.0.4)\n",
            "Requirement already satisfied: importlib-metadata; python_version < \"3.8\" in /usr/local/lib/python3.6/dist-packages (from markdown>=2.6.8->tensorboard~=2.4->tensorflow>=2.1.0->tf2crf) (3.4.0)\n",
            "Requirement already satisfied: pyasn1-modules>=0.2.1 in /usr/local/lib/python3.6/dist-packages (from google-auth<2,>=1.6.3->tensorboard~=2.4->tensorflow>=2.1.0->tf2crf) (0.2.8)\n",
            "Requirement already satisfied: cachetools<5.0,>=2.0.0 in /usr/local/lib/python3.6/dist-packages (from google-auth<2,>=1.6.3->tensorboard~=2.4->tensorflow>=2.1.0->tf2crf) (4.2.1)\n",
            "Requirement already satisfied: rsa<5,>=3.1.4; python_version >= \"3.6\" in /usr/local/lib/python3.6/dist-packages (from google-auth<2,>=1.6.3->tensorboard~=2.4->tensorflow>=2.1.0->tf2crf) (4.7)\n",
            "Requirement already satisfied: oauthlib>=3.0.0 in /usr/local/lib/python3.6/dist-packages (from requests-oauthlib>=0.7.0->google-auth-oauthlib<0.5,>=0.4.1->tensorboard~=2.4->tensorflow>=2.1.0->tf2crf) (3.1.0)\n",
            "Requirement already satisfied: zipp>=0.5 in /usr/local/lib/python3.6/dist-packages (from importlib-metadata; python_version < \"3.8\"->markdown>=2.6.8->tensorboard~=2.4->tensorflow>=2.1.0->tf2crf) (3.4.0)\n",
            "Requirement already satisfied: pyasn1<0.5.0,>=0.4.6 in /usr/local/lib/python3.6/dist-packages (from pyasn1-modules>=0.2.1->google-auth<2,>=1.6.3->tensorboard~=2.4->tensorflow>=2.1.0->tf2crf) (0.4.8)\n",
            "Installing collected packages: tf2crf\n",
            "Successfully installed tf2crf-0.1.29\n"
          ],
          "name": "stdout"
        }
      ]
    },
    {
      "cell_type": "code",
      "metadata": {
        "id": "_c7upY0fYsdt"
      },
      "source": [
        "%tensorflow_version 2.x"
      ],
      "execution_count": null,
      "outputs": []
    },
    {
      "cell_type": "code",
      "metadata": {
        "id": "rJpCbSvJhHPv"
      },
      "source": [
        "from data.orchid_corpus import get_sentences\n",
        "import numpy as np\n",
        "import numpy.random\n",
        "import tensorflow as tf\n",
        "np.random.seed(42)"
      ],
      "execution_count": null,
      "outputs": []
    },
    {
      "cell_type": "code",
      "metadata": {
        "colab": {
          "base_uri": "https://localhost:8080/"
        },
        "id": "U4SZz56ThHP0",
        "scrolled": false,
        "outputId": "7521ebf0-e593-4de6-98cc-7e0376f44221"
      },
      "source": [
        "yunk_emb =np.random.randn(32)\n",
        "train_data = get_sentences('train')\n",
        "test_data = get_sentences('test')\n",
        "print(train_data[0])"
      ],
      "execution_count": null,
      "outputs": [
        {
          "output_type": "stream",
          "text": [
            "[('การ', 'FIXN'), ('ประชุม', 'VACT'), ('ทาง', 'NCMN'), ('วิชาการ', 'NCMN'), ('<space>', 'PUNC'), ('ครั้ง', 'CFQC'), ('ที่ 1', 'DONM')]\n"
          ],
          "name": "stdout"
        }
      ]
    },
    {
      "cell_type": "markdown",
      "metadata": {
        "id": "awxn_GRIhHP3"
      },
      "source": [
        "Next, we load pretrained weight embedding using pickle. The pretrained weight is a dictionary which map a word to its embedding."
      ]
    },
    {
      "cell_type": "code",
      "metadata": {
        "id": "0GS3lTZshHP4"
      },
      "source": [
        "import pickle\n",
        "fp = open('basic_ff_embedding.pt', 'rb')\n",
        "embeddings = pickle.load(fp)\n",
        "fp.close()"
      ],
      "execution_count": null,
      "outputs": []
    },
    {
      "cell_type": "markdown",
      "metadata": {
        "id": "5CqTNKsChHP7"
      },
      "source": [
        "The given code below generates an indexed dataset(each word is represented by a number) for training and testing data. The index 0 is reserved for padding to help with variable length sequence. (Additionally, You can read more about padding here [https://machinelearningmastery.com/data-preparation-variable-length-input-sequences-sequence-prediction/])"
      ]
    },
    {
      "cell_type": "markdown",
      "metadata": {
        "id": "IPGUNEZyhHP8"
      },
      "source": [
        "## 2. Prepare Data"
      ]
    },
    {
      "cell_type": "code",
      "metadata": {
        "id": "7fMWn8qehHP9"
      },
      "source": [
        "word_to_idx ={}\n",
        "idx_to_word ={}\n",
        "label_to_idx = {}\n",
        "for sentence in train_data:\n",
        "    for word,pos in sentence:\n",
        "        if word not in word_to_idx:\n",
        "            word_to_idx[word] = len(word_to_idx)+1\n",
        "            idx_to_word[word_to_idx[word]] = word\n",
        "        if pos not in label_to_idx:\n",
        "            label_to_idx[pos] = len(label_to_idx)+1\n",
        "word_to_idx['UNK'] = len(word_to_idx)\n",
        "\n",
        "n_classes = len(label_to_idx.keys())+1"
      ],
      "execution_count": null,
      "outputs": []
    },
    {
      "cell_type": "markdown",
      "metadata": {
        "id": "QgvZ8v_2hHP_"
      },
      "source": [
        "This section is tweaked a little from the demo, word2features will return word index instead of features, and sent2labels will return a sequence of word indices in the sentence."
      ]
    },
    {
      "cell_type": "code",
      "metadata": {
        "id": "ktf2KkJghHQA"
      },
      "source": [
        "def word2features(sent, i, emb):\n",
        "    word = sent[i][0]\n",
        "    if word in word_to_idx :\n",
        "        return word_to_idx[word]\n",
        "    else :\n",
        "        return word_to_idx['UNK']\n",
        "\n",
        "def sent2features(sent, emb_dict):\n",
        "    return np.asarray([word2features(sent, i, emb_dict) for i in range(len(sent))])\n",
        "\n",
        "def sent2labels(sent):\n",
        "    return numpy.asarray([label_to_idx[label] for (word, label) in sent],dtype='int32')\n",
        "\n",
        "def sent2tokens(sent):\n",
        "    return [word for (word, label) in sent]"
      ],
      "execution_count": null,
      "outputs": []
    },
    {
      "cell_type": "code",
      "metadata": {
        "colab": {
          "base_uri": "https://localhost:8080/"
        },
        "id": "cgBw3I9ShHQD",
        "outputId": "d5982a2b-9e20-4de1-aedc-fd586b9e0e3d"
      },
      "source": [
        "sent2features(train_data[100], embeddings)"
      ],
      "execution_count": null,
      "outputs": [
        {
          "output_type": "execute_result",
          "data": {
            "text/plain": [
              "array([ 29, 327,   5, 328])"
            ]
          },
          "metadata": {
            "tags": []
          },
          "execution_count": 10
        }
      ]
    },
    {
      "cell_type": "markdown",
      "metadata": {
        "id": "3O7oClK-hHQG"
      },
      "source": [
        "Next we create train and test dataset, then we use tensorflow 2 to post-pad the sequence to max sequence with 0. Our labels are changed to a one-hot vector."
      ]
    },
    {
      "cell_type": "code",
      "metadata": {
        "colab": {
          "base_uri": "https://localhost:8080/"
        },
        "id": "0tJxtPtohHQH",
        "outputId": "5a699838-a999-4bab-a30a-a00552edde6b"
      },
      "source": [
        "%%time\n",
        "x_train = np.asarray([sent2features(sent, embeddings) for sent in train_data])\n",
        "y_train = [sent2labels(sent) for sent in train_data]\n",
        "x_test = [sent2features(sent, embeddings) for sent in test_data]\n",
        "y_test = [sent2labels(sent) for sent in test_data]"
      ],
      "execution_count": null,
      "outputs": [
        {
          "output_type": "stream",
          "text": [
            "CPU times: user 277 ms, sys: 1.15 ms, total: 278 ms\n",
            "Wall time: 283 ms\n"
          ],
          "name": "stdout"
        },
        {
          "output_type": "stream",
          "text": [
            "/usr/local/lib/python3.6/dist-packages/numpy/core/_asarray.py:83: VisibleDeprecationWarning: Creating an ndarray from ragged nested sequences (which is a list-or-tuple of lists-or-tuples-or ndarrays with different lengths or shapes) is deprecated. If you meant to do this, you must specify 'dtype=object' when creating the ndarray\n",
            "  return array(a, dtype, copy=False, order=order)\n"
          ],
          "name": "stderr"
        }
      ]
    },
    {
      "cell_type": "code",
      "metadata": {
        "id": "DG1gvJ4mhHQJ"
      },
      "source": [
        "x_train=tf.keras.preprocessing.sequence.pad_sequences(x_train, maxlen=None, dtype='int32', padding='post', truncating='pre', value=0.)\n",
        "y_train=tf.keras.preprocessing.sequence.pad_sequences(y_train, maxlen=None, dtype='int32', padding='post', truncating='pre', value=0.)\n",
        "x_test=tf.keras.preprocessing.sequence.pad_sequences(x_test, maxlen=102, dtype='int32', padding='post', truncating='pre', value=0.)\n",
        "y_temp =[]\n",
        "for i in range(len(y_train)):\n",
        "    y_temp.append(np.eye(n_classes)[y_train[i]][np.newaxis,:])\n",
        "y_train = np.asarray(y_temp).reshape(-1,102,n_classes)\n",
        "del(y_temp)"
      ],
      "execution_count": null,
      "outputs": []
    },
    {
      "cell_type": "code",
      "metadata": {
        "colab": {
          "base_uri": "https://localhost:8080/"
        },
        "id": "ZU9x6VdehHQM",
        "outputId": "5bd5cdca-c449-40a5-aafe-ac47393dd516"
      },
      "source": [
        "print(x_train[100],x_train.shape)\n",
        "print(y_train[100][3],y_train.shape)"
      ],
      "execution_count": null,
      "outputs": [
        {
          "output_type": "stream",
          "text": [
            "[ 29 327   5 328   0   0   0   0   0   0   0   0   0   0   0   0   0   0\n",
            "   0   0   0   0   0   0   0   0   0   0   0   0   0   0   0   0   0   0\n",
            "   0   0   0   0   0   0   0   0   0   0   0   0   0   0   0   0   0   0\n",
            "   0   0   0   0   0   0   0   0   0   0   0   0   0   0   0   0   0   0\n",
            "   0   0   0   0   0   0   0   0   0   0   0   0   0   0   0   0   0   0\n",
            "   0   0   0   0   0   0   0   0   0   0   0   0] (18500, 102)\n",
            "[0. 0. 0. 1. 0. 0. 0. 0. 0. 0. 0. 0. 0. 0. 0. 0. 0. 0. 0. 0. 0. 0. 0. 0.\n",
            " 0. 0. 0. 0. 0. 0. 0. 0. 0. 0. 0. 0. 0. 0. 0. 0. 0. 0. 0. 0. 0. 0. 0. 0.] (18500, 102, 48)\n"
          ],
          "name": "stdout"
        }
      ]
    },
    {
      "cell_type": "markdown",
      "metadata": {
        "id": "dx_c3-LwhHQP"
      },
      "source": [
        "## 3. Evaluate"
      ]
    },
    {
      "cell_type": "markdown",
      "metadata": {
        "id": "tvCW24orhHQP"
      },
      "source": [
        "Our output from tf keras is a distribution of problabilities on all possible label. outputToLabel will return an indices of maximum problability from output sequence.\n",
        "\n",
        "evaluation_report is the same as in the demo"
      ]
    },
    {
      "cell_type": "code",
      "metadata": {
        "id": "Iqgp2gd4hHQQ"
      },
      "source": [
        "def outputToLabel(yt,seq_len):\n",
        "    out = []\n",
        "    for i in range(0,len(yt)):\n",
        "        if(i==seq_len):\n",
        "            break\n",
        "        out.append(np.argmax(yt[i]))\n",
        "    return out"
      ],
      "execution_count": null,
      "outputs": []
    },
    {
      "cell_type": "code",
      "metadata": {
        "id": "pzIL_rsAhHQT"
      },
      "source": [
        "import pandas as pd\n",
        "from IPython.display import display\n",
        "\n",
        "def evaluation_report(y_true, y_pred):\n",
        "    # retrieve all tags in y_true\n",
        "    tag_set = set()\n",
        "    for sent in y_true:\n",
        "        for tag in sent:\n",
        "            tag_set.add(tag)\n",
        "    for sent in y_pred:\n",
        "        for tag in sent:\n",
        "            tag_set.add(tag)\n",
        "    tag_list = sorted(list(tag_set)) \n",
        "    \n",
        "    # count correct points\n",
        "    tag_info = dict()\n",
        "    for tag in tag_list:\n",
        "        tag_info[tag] = {'correct_tagged': 0, 'y_true': 0, 'y_pred': 0}\n",
        "\n",
        "    all_correct = 0\n",
        "    all_count = sum([len(sent) for sent in y_true])\n",
        "    for sent_true, sent_pred in zip(y_true, y_pred):\n",
        "        for tag_true, tag_pred in zip(sent_true, sent_pred):\n",
        "            if tag_true == tag_pred:\n",
        "                tag_info[tag_true]['correct_tagged'] += 1\n",
        "                all_correct += 1\n",
        "            tag_info[tag_true]['y_true'] += 1\n",
        "            tag_info[tag_pred]['y_pred'] += 1\n",
        "    accuracy = (all_correct / all_count) * 100\n",
        "            \n",
        "    # summarize and make evaluation result\n",
        "    eval_list = list()\n",
        "    for tag in tag_list:\n",
        "        eval_result = dict()\n",
        "        eval_result['tag'] = tag\n",
        "        eval_result['correct_count'] = tag_info[tag]['correct_tagged']\n",
        "        precision = (tag_info[tag]['correct_tagged']/tag_info[tag]['y_pred'])*100 if tag_info[tag]['y_pred'] else '-'\n",
        "        recall = (tag_info[tag]['correct_tagged']/tag_info[tag]['y_true'])*100 if (tag_info[tag]['y_true'] > 0) else 0\n",
        "        eval_result['precision'] = precision\n",
        "        eval_result['recall'] = recall\n",
        "        eval_result['f_score'] = (2*precision*recall)/(precision+recall) if (type(precision) is float and recall > 0) else '-'\n",
        "        \n",
        "        eval_list.append(eval_result)\n",
        "\n",
        "    eval_list.append({'tag': 'accuracy=%.2f' % accuracy, 'correct_count': '', 'precision': '', 'recall': '', 'f_score': ''})\n",
        "    \n",
        "    df = pd.DataFrame.from_dict(eval_list)\n",
        "    df = df[['tag', 'precision', 'recall', 'f_score', 'correct_count']]\n",
        "    display(df)\n",
        "    return df"
      ],
      "execution_count": null,
      "outputs": []
    },
    {
      "cell_type": "markdown",
      "metadata": {
        "id": "4YG-RiHdhHQV"
      },
      "source": [
        "## 4. Train a model"
      ]
    },
    {
      "cell_type": "code",
      "metadata": {
        "id": "2HrkAiMFhHQW"
      },
      "source": [
        "from tensorflow.keras.models import Sequential, Model\n",
        "from tensorflow.keras.layers import Embedding, Reshape, Activation, Input, Dense,GRU,Reshape,TimeDistributed,Bidirectional,Dropout,Masking\n",
        "from tensorflow.keras.optimizers import Adam"
      ],
      "execution_count": null,
      "outputs": []
    },
    {
      "cell_type": "markdown",
      "metadata": {
        "id": "U75Ivn2vhHQZ"
      },
      "source": [
        "The model is this section is separated to two groups\n",
        "\n",
        "- Neural POS Tagger (4.1)\n",
        "- Neural CRF POS Tagger (4.2)"
      ]
    },
    {
      "cell_type": "markdown",
      "metadata": {
        "id": "CLwL3B7rhHQZ"
      },
      "source": [
        "## 4.1.1 Neural POS Tagger  (Example)"
      ]
    },
    {
      "cell_type": "markdown",
      "metadata": {
        "id": "pVoB-1XVhHQa"
      },
      "source": [
        "We create a simple Neural POS Tagger as an example for you. This model dosen't use any pretrained word embbeding so it need to use Embedding layer to train the word embedding from scratch.\n",
        "\n",
        "Instead of using tensorflow.keras.models.Sequential, we use tensorflow.keras.models.Model. The latter is better as it can have multiple input/output, of which Sequential model could not. Due to this reason, the Model class is widely used for building a complex deep learning model."
      ]
    },
    {
      "cell_type": "code",
      "metadata": {
        "colab": {
          "base_uri": "https://localhost:8080/"
        },
        "id": "DxBvv9qfhHQb",
        "outputId": "426381db-16e5-49bf-f283-b994e7b9fb0d"
      },
      "source": [
        "inputs = Input(shape=(102,), dtype='int32')\n",
        "output = (Embedding(len(word_to_idx),32,input_length=102,mask_zero=True))(inputs)\n",
        "output = Bidirectional(GRU(32, return_sequences=True))(output)\n",
        "output = Dropout(0.2)(output)\n",
        "output = TimeDistributed(Dense(n_classes,activation='softmax'))(output)\n",
        "model = Model(inputs, output)\n",
        "model.compile(optimizer=Adam(lr=0.001),  loss='categorical_crossentropy', metrics=['categorical_accuracy'])\n",
        "\n",
        "model.summary()\n",
        "model.fit(x_train,y=y_train, batch_size=64,epochs=10,verbose=1)"
      ],
      "execution_count": null,
      "outputs": [
        {
          "output_type": "stream",
          "text": [
            "Model: \"model_2\"\n",
            "_________________________________________________________________\n",
            "Layer (type)                 Output Shape              Param #   \n",
            "=================================================================\n",
            "input_4 (InputLayer)         [(None, 102)]             0         \n",
            "_________________________________________________________________\n",
            "embedding_2 (Embedding)      (None, 102, 32)           480608    \n",
            "_________________________________________________________________\n",
            "bidirectional_2 (Bidirection (None, 102, 64)           12672     \n",
            "_________________________________________________________________\n",
            "dropout_2 (Dropout)          (None, 102, 64)           0         \n",
            "_________________________________________________________________\n",
            "time_distributed_2 (TimeDist (None, 102, 48)           3120      \n",
            "=================================================================\n",
            "Total params: 496,400\n",
            "Trainable params: 496,400\n",
            "Non-trainable params: 0\n",
            "_________________________________________________________________\n",
            "Epoch 1/10\n",
            "290/290 [==============================] - 13s 23ms/step - loss: 0.3913 - categorical_accuracy: 0.3572\n",
            "Epoch 2/10\n",
            "290/290 [==============================] - 6s 22ms/step - loss: 0.0691 - categorical_accuracy: 0.8919\n",
            "Epoch 3/10\n",
            "290/290 [==============================] - 7s 23ms/step - loss: 0.0390 - categorical_accuracy: 0.9318\n",
            "Epoch 4/10\n",
            "290/290 [==============================] - 7s 24ms/step - loss: 0.0295 - categorical_accuracy: 0.9443\n",
            "Epoch 5/10\n",
            "290/290 [==============================] - 6s 22ms/step - loss: 0.0253 - categorical_accuracy: 0.9509\n",
            "Epoch 6/10\n",
            "290/290 [==============================] - 6s 22ms/step - loss: 0.0229 - categorical_accuracy: 0.9537\n",
            "Epoch 7/10\n",
            "290/290 [==============================] - 6s 21ms/step - loss: 0.0215 - categorical_accuracy: 0.9557\n",
            "Epoch 8/10\n",
            "290/290 [==============================] - 7s 22ms/step - loss: 0.0201 - categorical_accuracy: 0.9584\n",
            "Epoch 9/10\n",
            "290/290 [==============================] - 6s 22ms/step - loss: 0.0193 - categorical_accuracy: 0.9595\n",
            "Epoch 10/10\n",
            "290/290 [==============================] - 6s 22ms/step - loss: 0.0187 - categorical_accuracy: 0.9607\n"
          ],
          "name": "stdout"
        },
        {
          "output_type": "execute_result",
          "data": {
            "text/plain": [
              "<tensorflow.python.keras.callbacks.History at 0x7f066e6ca358>"
            ]
          },
          "metadata": {
            "tags": []
          },
          "execution_count": 33
        }
      ]
    },
    {
      "cell_type": "code",
      "metadata": {
        "colab": {
          "base_uri": "https://localhost:8080/"
        },
        "id": "Wo9Da8MThHQf",
        "outputId": "86c918df-5701-4f99-d65a-6f02e4b78ea3"
      },
      "source": [
        "%%time\n",
        "model.fit(x_train,y_train,batch_size=64,epochs=10,verbose=1)"
      ],
      "execution_count": null,
      "outputs": [
        {
          "output_type": "stream",
          "text": [
            "Epoch 1/10\n",
            "290/290 [==============================] - 7s 23ms/step - loss: 0.0178 - categorical_accuracy: 0.9625\n",
            "Epoch 2/10\n",
            "290/290 [==============================] - 6s 22ms/step - loss: 0.0171 - categorical_accuracy: 0.9636\n",
            "Epoch 3/10\n",
            "290/290 [==============================] - 6s 22ms/step - loss: 0.0165 - categorical_accuracy: 0.9648\n",
            "Epoch 4/10\n",
            "290/290 [==============================] - 6s 22ms/step - loss: 0.0158 - categorical_accuracy: 0.9660\n",
            "Epoch 5/10\n",
            "290/290 [==============================] - 7s 23ms/step - loss: 0.0153 - categorical_accuracy: 0.9671\n",
            "Epoch 6/10\n",
            "290/290 [==============================] - 6s 21ms/step - loss: 0.0148 - categorical_accuracy: 0.9680\n",
            "Epoch 7/10\n",
            "290/290 [==============================] - 7s 22ms/step - loss: 0.0143 - categorical_accuracy: 0.9689\n",
            "Epoch 8/10\n",
            "290/290 [==============================] - 6s 22ms/step - loss: 0.0139 - categorical_accuracy: 0.9700\n",
            "Epoch 9/10\n",
            "290/290 [==============================] - 6s 22ms/step - loss: 0.0135 - categorical_accuracy: 0.9705\n",
            "Epoch 10/10\n",
            "290/290 [==============================] - 6s 22ms/step - loss: 0.0131 - categorical_accuracy: 0.9716\n",
            "CPU times: user 1min 30s, sys: 8.83 s, total: 1min 39s\n",
            "Wall time: 1min 4s\n"
          ],
          "name": "stdout"
        },
        {
          "output_type": "execute_result",
          "data": {
            "text/plain": [
              "<tensorflow.python.keras.callbacks.History at 0x7f066dab91d0>"
            ]
          },
          "metadata": {
            "tags": []
          },
          "execution_count": 34
        }
      ]
    },
    {
      "cell_type": "code",
      "metadata": {
        "colab": {
          "base_uri": "https://localhost:8080/",
          "height": 1000
        },
        "id": "yusa214hhHQh",
        "outputId": "7eca7a04-bd1e-499a-e08c-507b449795cc"
      },
      "source": [
        "%%time\n",
        "#model.save_weights('/data/my_pos_no_crf.h5')\n",
        "#model.load_weights('/data/my_pos_no_crf.h5')\n",
        "y_pred = model.predict(x_test)\n",
        "ypred = [outputToLabel(y_pred[i],len(y_test[i])) for i in range(len(y_pred))]\n",
        "report = evaluation_report(y_test, ypred)"
      ],
      "execution_count": null,
      "outputs": [
        {
          "output_type": "display_data",
          "data": {
            "text/html": [
              "<div>\n",
              "<style scoped>\n",
              "    .dataframe tbody tr th:only-of-type {\n",
              "        vertical-align: middle;\n",
              "    }\n",
              "\n",
              "    .dataframe tbody tr th {\n",
              "        vertical-align: top;\n",
              "    }\n",
              "\n",
              "    .dataframe thead th {\n",
              "        text-align: right;\n",
              "    }\n",
              "</style>\n",
              "<table border=\"1\" class=\"dataframe\">\n",
              "  <thead>\n",
              "    <tr style=\"text-align: right;\">\n",
              "      <th></th>\n",
              "      <th>tag</th>\n",
              "      <th>precision</th>\n",
              "      <th>recall</th>\n",
              "      <th>f_score</th>\n",
              "      <th>correct_count</th>\n",
              "    </tr>\n",
              "  </thead>\n",
              "  <tbody>\n",
              "    <tr>\n",
              "      <th>0</th>\n",
              "      <td>1</td>\n",
              "      <td>99.756</td>\n",
              "      <td>99.8372</td>\n",
              "      <td>99.7966</td>\n",
              "      <td>3679</td>\n",
              "    </tr>\n",
              "    <tr>\n",
              "      <th>1</th>\n",
              "      <td>2</td>\n",
              "      <td>94.8671</td>\n",
              "      <td>93.4408</td>\n",
              "      <td>94.1485</td>\n",
              "      <td>7707</td>\n",
              "    </tr>\n",
              "    <tr>\n",
              "      <th>2</th>\n",
              "      <td>3</td>\n",
              "      <td>90.8686</td>\n",
              "      <td>95.3935</td>\n",
              "      <td>93.0761</td>\n",
              "      <td>16111</td>\n",
              "    </tr>\n",
              "    <tr>\n",
              "      <th>3</th>\n",
              "      <td>4</td>\n",
              "      <td>99.8991</td>\n",
              "      <td>99.6518</td>\n",
              "      <td>99.7753</td>\n",
              "      <td>12877</td>\n",
              "    </tr>\n",
              "    <tr>\n",
              "      <th>4</th>\n",
              "      <td>5</td>\n",
              "      <td>95.6522</td>\n",
              "      <td>98.5075</td>\n",
              "      <td>97.0588</td>\n",
              "      <td>66</td>\n",
              "    </tr>\n",
              "    <tr>\n",
              "      <th>5</th>\n",
              "      <td>6</td>\n",
              "      <td>98.1443</td>\n",
              "      <td>91.1877</td>\n",
              "      <td>94.5382</td>\n",
              "      <td>476</td>\n",
              "    </tr>\n",
              "    <tr>\n",
              "      <th>6</th>\n",
              "      <td>7</td>\n",
              "      <td>98.0507</td>\n",
              "      <td>96.7773</td>\n",
              "      <td>97.4098</td>\n",
              "      <td>2012</td>\n",
              "    </tr>\n",
              "    <tr>\n",
              "      <th>7</th>\n",
              "      <td>8</td>\n",
              "      <td>75.502</td>\n",
              "      <td>45.3012</td>\n",
              "      <td>56.6265</td>\n",
              "      <td>188</td>\n",
              "    </tr>\n",
              "    <tr>\n",
              "      <th>8</th>\n",
              "      <td>9</td>\n",
              "      <td>63.1868</td>\n",
              "      <td>62.5</td>\n",
              "      <td>62.8415</td>\n",
              "      <td>230</td>\n",
              "    </tr>\n",
              "    <tr>\n",
              "      <th>9</th>\n",
              "      <td>10</td>\n",
              "      <td>62.0387</td>\n",
              "      <td>42.0739</td>\n",
              "      <td>50.142</td>\n",
              "      <td>353</td>\n",
              "    </tr>\n",
              "    <tr>\n",
              "      <th>10</th>\n",
              "      <td>11</td>\n",
              "      <td>83.4951</td>\n",
              "      <td>100</td>\n",
              "      <td>91.0053</td>\n",
              "      <td>86</td>\n",
              "    </tr>\n",
              "    <tr>\n",
              "      <th>11</th>\n",
              "      <td>12</td>\n",
              "      <td>94.5718</td>\n",
              "      <td>97.8777</td>\n",
              "      <td>96.1963</td>\n",
              "      <td>784</td>\n",
              "    </tr>\n",
              "    <tr>\n",
              "      <th>12</th>\n",
              "      <td>13</td>\n",
              "      <td>88.4561</td>\n",
              "      <td>86.5609</td>\n",
              "      <td>87.4982</td>\n",
              "      <td>3111</td>\n",
              "    </tr>\n",
              "    <tr>\n",
              "      <th>13</th>\n",
              "      <td>14</td>\n",
              "      <td>93.1911</td>\n",
              "      <td>95.5001</td>\n",
              "      <td>94.3315</td>\n",
              "      <td>5242</td>\n",
              "    </tr>\n",
              "    <tr>\n",
              "      <th>14</th>\n",
              "      <td>15</td>\n",
              "      <td>81.8276</td>\n",
              "      <td>70.2317</td>\n",
              "      <td>75.5875</td>\n",
              "      <td>788</td>\n",
              "    </tr>\n",
              "    <tr>\n",
              "      <th>15</th>\n",
              "      <td>16</td>\n",
              "      <td>88.5714</td>\n",
              "      <td>86.4696</td>\n",
              "      <td>87.5079</td>\n",
              "      <td>2077</td>\n",
              "    </tr>\n",
              "    <tr>\n",
              "      <th>16</th>\n",
              "      <td>17</td>\n",
              "      <td>97.6147</td>\n",
              "      <td>91.0959</td>\n",
              "      <td>94.2427</td>\n",
              "      <td>532</td>\n",
              "    </tr>\n",
              "    <tr>\n",
              "      <th>17</th>\n",
              "      <td>18</td>\n",
              "      <td>96.4646</td>\n",
              "      <td>99.2208</td>\n",
              "      <td>97.8233</td>\n",
              "      <td>1146</td>\n",
              "    </tr>\n",
              "    <tr>\n",
              "      <th>18</th>\n",
              "      <td>19</td>\n",
              "      <td>97.8916</td>\n",
              "      <td>94.2029</td>\n",
              "      <td>96.0118</td>\n",
              "      <td>325</td>\n",
              "    </tr>\n",
              "    <tr>\n",
              "      <th>19</th>\n",
              "      <td>20</td>\n",
              "      <td>98.2818</td>\n",
              "      <td>96.9492</td>\n",
              "      <td>97.6109</td>\n",
              "      <td>286</td>\n",
              "    </tr>\n",
              "    <tr>\n",
              "      <th>20</th>\n",
              "      <td>21</td>\n",
              "      <td>96.6925</td>\n",
              "      <td>90.6931</td>\n",
              "      <td>93.5967</td>\n",
              "      <td>1374</td>\n",
              "    </tr>\n",
              "    <tr>\n",
              "      <th>21</th>\n",
              "      <td>22</td>\n",
              "      <td>78.5109</td>\n",
              "      <td>80.9108</td>\n",
              "      <td>79.6928</td>\n",
              "      <td>1297</td>\n",
              "    </tr>\n",
              "    <tr>\n",
              "      <th>22</th>\n",
              "      <td>23</td>\n",
              "      <td>89.3503</td>\n",
              "      <td>94.5429</td>\n",
              "      <td>91.8733</td>\n",
              "      <td>1334</td>\n",
              "    </tr>\n",
              "    <tr>\n",
              "      <th>23</th>\n",
              "      <td>24</td>\n",
              "      <td>83.778</td>\n",
              "      <td>85.7923</td>\n",
              "      <td>84.7732</td>\n",
              "      <td>785</td>\n",
              "    </tr>\n",
              "    <tr>\n",
              "      <th>24</th>\n",
              "      <td>25</td>\n",
              "      <td>85.9327</td>\n",
              "      <td>68.0387</td>\n",
              "      <td>75.9459</td>\n",
              "      <td>281</td>\n",
              "    </tr>\n",
              "    <tr>\n",
              "      <th>25</th>\n",
              "      <td>26</td>\n",
              "      <td>92.2222</td>\n",
              "      <td>94.3182</td>\n",
              "      <td>93.2584</td>\n",
              "      <td>166</td>\n",
              "    </tr>\n",
              "    <tr>\n",
              "      <th>26</th>\n",
              "      <td>27</td>\n",
              "      <td>91.6667</td>\n",
              "      <td>83.9695</td>\n",
              "      <td>87.6494</td>\n",
              "      <td>110</td>\n",
              "    </tr>\n",
              "    <tr>\n",
              "      <th>27</th>\n",
              "      <td>29</td>\n",
              "      <td>93.9103</td>\n",
              "      <td>92.7215</td>\n",
              "      <td>93.3121</td>\n",
              "      <td>293</td>\n",
              "    </tr>\n",
              "    <tr>\n",
              "      <th>28</th>\n",
              "      <td>30</td>\n",
              "      <td>72.4771</td>\n",
              "      <td>77.451</td>\n",
              "      <td>74.8815</td>\n",
              "      <td>79</td>\n",
              "    </tr>\n",
              "    <tr>\n",
              "      <th>29</th>\n",
              "      <td>31</td>\n",
              "      <td>63.7037</td>\n",
              "      <td>83.4951</td>\n",
              "      <td>72.2689</td>\n",
              "      <td>86</td>\n",
              "    </tr>\n",
              "    <tr>\n",
              "      <th>30</th>\n",
              "      <td>32</td>\n",
              "      <td>74.3056</td>\n",
              "      <td>60.1124</td>\n",
              "      <td>66.4596</td>\n",
              "      <td>107</td>\n",
              "    </tr>\n",
              "    <tr>\n",
              "      <th>31</th>\n",
              "      <td>33</td>\n",
              "      <td>77.7778</td>\n",
              "      <td>51.4706</td>\n",
              "      <td>61.9469</td>\n",
              "      <td>35</td>\n",
              "    </tr>\n",
              "    <tr>\n",
              "      <th>32</th>\n",
              "      <td>34</td>\n",
              "      <td>87.4327</td>\n",
              "      <td>86.6548</td>\n",
              "      <td>87.042</td>\n",
              "      <td>487</td>\n",
              "    </tr>\n",
              "    <tr>\n",
              "      <th>33</th>\n",
              "      <td>35</td>\n",
              "      <td>71.4286</td>\n",
              "      <td>55.5556</td>\n",
              "      <td>62.5</td>\n",
              "      <td>5</td>\n",
              "    </tr>\n",
              "    <tr>\n",
              "      <th>34</th>\n",
              "      <td>36</td>\n",
              "      <td>100</td>\n",
              "      <td>68.75</td>\n",
              "      <td>81.4815</td>\n",
              "      <td>11</td>\n",
              "    </tr>\n",
              "    <tr>\n",
              "      <th>35</th>\n",
              "      <td>37</td>\n",
              "      <td>92.6606</td>\n",
              "      <td>99.0196</td>\n",
              "      <td>95.7346</td>\n",
              "      <td>101</td>\n",
              "    </tr>\n",
              "    <tr>\n",
              "      <th>36</th>\n",
              "      <td>38</td>\n",
              "      <td>67.7419</td>\n",
              "      <td>53.8462</td>\n",
              "      <td>60</td>\n",
              "      <td>21</td>\n",
              "    </tr>\n",
              "    <tr>\n",
              "      <th>37</th>\n",
              "      <td>39</td>\n",
              "      <td>73.0994</td>\n",
              "      <td>89.2857</td>\n",
              "      <td>80.3859</td>\n",
              "      <td>125</td>\n",
              "    </tr>\n",
              "    <tr>\n",
              "      <th>38</th>\n",
              "      <td>40</td>\n",
              "      <td>100</td>\n",
              "      <td>100</td>\n",
              "      <td>100</td>\n",
              "      <td>280</td>\n",
              "    </tr>\n",
              "    <tr>\n",
              "      <th>39</th>\n",
              "      <td>41</td>\n",
              "      <td>88.8889</td>\n",
              "      <td>80</td>\n",
              "      <td>84.2105</td>\n",
              "      <td>16</td>\n",
              "    </tr>\n",
              "    <tr>\n",
              "      <th>40</th>\n",
              "      <td>42</td>\n",
              "      <td>100</td>\n",
              "      <td>100</td>\n",
              "      <td>100</td>\n",
              "      <td>17</td>\n",
              "    </tr>\n",
              "    <tr>\n",
              "      <th>41</th>\n",
              "      <td>43</td>\n",
              "      <td>25</td>\n",
              "      <td>11.1111</td>\n",
              "      <td>15.3846</td>\n",
              "      <td>1</td>\n",
              "    </tr>\n",
              "    <tr>\n",
              "      <th>42</th>\n",
              "      <td>45</td>\n",
              "      <td>-</td>\n",
              "      <td>0</td>\n",
              "      <td>-</td>\n",
              "      <td>0</td>\n",
              "    </tr>\n",
              "    <tr>\n",
              "      <th>43</th>\n",
              "      <td>46</td>\n",
              "      <td>-</td>\n",
              "      <td>0</td>\n",
              "      <td>-</td>\n",
              "      <td>0</td>\n",
              "    </tr>\n",
              "    <tr>\n",
              "      <th>44</th>\n",
              "      <td>accuracy=92.93</td>\n",
              "      <td></td>\n",
              "      <td></td>\n",
              "      <td></td>\n",
              "      <td></td>\n",
              "    </tr>\n",
              "  </tbody>\n",
              "</table>\n",
              "</div>"
            ],
            "text/plain": [
              "               tag precision   recall  f_score correct_count\n",
              "0                1    99.756  99.8372  99.7966          3679\n",
              "1                2   94.8671  93.4408  94.1485          7707\n",
              "2                3   90.8686  95.3935  93.0761         16111\n",
              "3                4   99.8991  99.6518  99.7753         12877\n",
              "4                5   95.6522  98.5075  97.0588            66\n",
              "5                6   98.1443  91.1877  94.5382           476\n",
              "6                7   98.0507  96.7773  97.4098          2012\n",
              "7                8    75.502  45.3012  56.6265           188\n",
              "8                9   63.1868     62.5  62.8415           230\n",
              "9               10   62.0387  42.0739   50.142           353\n",
              "10              11   83.4951      100  91.0053            86\n",
              "11              12   94.5718  97.8777  96.1963           784\n",
              "12              13   88.4561  86.5609  87.4982          3111\n",
              "13              14   93.1911  95.5001  94.3315          5242\n",
              "14              15   81.8276  70.2317  75.5875           788\n",
              "15              16   88.5714  86.4696  87.5079          2077\n",
              "16              17   97.6147  91.0959  94.2427           532\n",
              "17              18   96.4646  99.2208  97.8233          1146\n",
              "18              19   97.8916  94.2029  96.0118           325\n",
              "19              20   98.2818  96.9492  97.6109           286\n",
              "20              21   96.6925  90.6931  93.5967          1374\n",
              "21              22   78.5109  80.9108  79.6928          1297\n",
              "22              23   89.3503  94.5429  91.8733          1334\n",
              "23              24    83.778  85.7923  84.7732           785\n",
              "24              25   85.9327  68.0387  75.9459           281\n",
              "25              26   92.2222  94.3182  93.2584           166\n",
              "26              27   91.6667  83.9695  87.6494           110\n",
              "27              29   93.9103  92.7215  93.3121           293\n",
              "28              30   72.4771   77.451  74.8815            79\n",
              "29              31   63.7037  83.4951  72.2689            86\n",
              "30              32   74.3056  60.1124  66.4596           107\n",
              "31              33   77.7778  51.4706  61.9469            35\n",
              "32              34   87.4327  86.6548   87.042           487\n",
              "33              35   71.4286  55.5556     62.5             5\n",
              "34              36       100    68.75  81.4815            11\n",
              "35              37   92.6606  99.0196  95.7346           101\n",
              "36              38   67.7419  53.8462       60            21\n",
              "37              39   73.0994  89.2857  80.3859           125\n",
              "38              40       100      100      100           280\n",
              "39              41   88.8889       80  84.2105            16\n",
              "40              42       100      100      100            17\n",
              "41              43        25  11.1111  15.3846             1\n",
              "42              45         -        0        -             0\n",
              "43              46         -        0        -             0\n",
              "44  accuracy=92.93                                          "
            ]
          },
          "metadata": {
            "tags": []
          }
        },
        {
          "output_type": "stream",
          "text": [
            "CPU times: user 3.26 s, sys: 109 ms, total: 3.37 s\n",
            "Wall time: 3.05 s\n"
          ],
          "name": "stdout"
        }
      ]
    },
    {
      "cell_type": "markdown",
      "metadata": {
        "id": "H0NKka14hHQw"
      },
      "source": [
        "## 4.2 CRF Viterbi"
      ]
    },
    {
      "cell_type": "markdown",
      "metadata": {
        "id": "ijd1rwTghHQx"
      },
      "source": [
        "Your next task is to incorporate Conditional random fields (CRF) to your model.\n",
        "\n",
        "To use the CRF layer, you need to use an extension repository for tensorflow library, call tf2crf. If you want to see the detailed implementation, you should read the official tensorflow extention of CRF (https://www.tensorflow.org/addons/api_docs/python/tfa/text).\n",
        "\n",
        "tf2crf link :  https://github.com/xuxingya/tf2crf\n",
        "\n",
        "For inference, you should look at crf.py at the method call and view the input/output argmunets. \n",
        "Link : https://github.com/xuxingya/tf2crf/blob/master/tf2crf/crf.py\n",
        "\n"
      ]
    },
    {
      "cell_type": "markdown",
      "metadata": {
        "id": "KuybajePhHQy"
      },
      "source": [
        "### 4.2.1 CRF without pretrained weight\n",
        "### #TODO 1\n",
        "Incoperate CRF layer to your model in 4.1. CRF is quite complex compare to previous example model, so you should train it with more epoch, so it can converge.\n",
        "\n",
        "To finish this excercise you must train the model and show the evaluation report with this model as shown in the example.\n",
        "\n",
        "Do not forget to save this model weight."
      ]
    },
    {
      "cell_type": "code",
      "metadata": {
        "id": "AgPsxaZAmmTl"
      },
      "source": [
        "from tf2crf import CRF, ModelWithCRFLoss\r\n",
        "from tensorflow.keras.callbacks import TensorBoard, EarlyStopping"
      ],
      "execution_count": null,
      "outputs": []
    },
    {
      "cell_type": "code",
      "metadata": {
        "id": "AhUOaxhD7TBq"
      },
      "source": [
        "from tensorflow.keras import backend as K\r\n",
        "K.clear_session()"
      ],
      "execution_count": null,
      "outputs": []
    },
    {
      "cell_type": "code",
      "metadata": {
        "id": "cCqNc7I11BnK"
      },
      "source": [
        "input = Input(shape=(102,), dtype='int32')\r\n",
        "output = Embedding(input_dim=len(word_to_idx), output_dim=32,input_length=102,mask_zero=True)(input)\r\n",
        "output = Bidirectional(GRU(32, return_sequences=True))(output)\r\n",
        "output = Dropout(0.2)(output)\r\n",
        "output = TimeDistributed(Dense(n_classes,activation=None))(output)\r\n",
        "crf = CRF(dtype='float32')\r\n",
        "output =crf(output)\r\n",
        "\r\n",
        "model_crf = Model(input, output)\r\n",
        "model_crf = ModelWithCRFLoss(model_crf)\r\n",
        "model_crf.compile(optimizer=Adam(lr=0.001),\r\n",
        "                loss='categorical_crossentropy',\r\n",
        "                metrics=['categorical_accuracy'])\r\n",
        "\r\n",
        "callback_crf = [TensorBoard(log_dir='./Graph/crf', histogram_freq=1, write_graph=True, write_grads=False)]"
      ],
      "execution_count": null,
      "outputs": []
    },
    {
      "cell_type": "code",
      "metadata": {
        "colab": {
          "base_uri": "https://localhost:8080/"
        },
        "id": "vwJMVSGgqrmz",
        "outputId": "1dd9053b-18d1-4aa0-f14d-e9bc9883cd8f"
      },
      "source": [
        "# change it to list of int insteadd of one hot\r\n",
        "# model_crf.fit(x=x_train,y=y_train.argmax(axis=2), batch_size=64, epochs=20, verbose=1, validation_split=0.3, callbacks=callback_crf)"
      ],
      "execution_count": null,
      "outputs": [
        {
          "output_type": "stream",
          "text": [
            "Epoch 1/20\n",
            "203/203 [==============================] - 71s 310ms/step - crf_loss: 32.8417 - accuracy: 0.4467 - val_crf_loss_val: 13.0591 - val_val_accuracy: 0.8003\n",
            "Epoch 2/20\n",
            "203/203 [==============================] - 59s 290ms/step - crf_loss: 8.4812 - accuracy: 0.8769 - val_crf_loss_val: 5.8174 - val_val_accuracy: 0.8949\n",
            "Epoch 3/20\n",
            "203/203 [==============================] - 59s 290ms/step - crf_loss: 4.6046 - accuracy: 0.9246 - val_crf_loss_val: 4.5227 - val_val_accuracy: 0.9114\n",
            "Epoch 4/20\n",
            "203/203 [==============================] - 59s 289ms/step - crf_loss: 3.4094 - accuracy: 0.9408 - val_crf_loss_val: 3.8996 - val_val_accuracy: 0.9176\n",
            "Epoch 5/20\n",
            "203/203 [==============================] - 59s 290ms/step - crf_loss: 2.8643 - accuracy: 0.9469 - val_crf_loss_val: 3.5299 - val_val_accuracy: 0.9210\n",
            "Epoch 6/20\n",
            "203/203 [==============================] - 60s 293ms/step - crf_loss: 2.5345 - accuracy: 0.9521 - val_crf_loss_val: 3.3194 - val_val_accuracy: 0.9230\n",
            "Epoch 7/20\n",
            "203/203 [==============================] - 59s 289ms/step - crf_loss: 2.3338 - accuracy: 0.9545 - val_crf_loss_val: 3.2046 - val_val_accuracy: 0.9238\n",
            "Epoch 8/20\n",
            "203/203 [==============================] - 59s 290ms/step - crf_loss: 2.1846 - accuracy: 0.9568 - val_crf_loss_val: 3.1348 - val_val_accuracy: 0.9243\n",
            "Epoch 9/20\n",
            "203/203 [==============================] - 59s 290ms/step - crf_loss: 2.0637 - accuracy: 0.9581 - val_crf_loss_val: 2.9863 - val_val_accuracy: 0.9243\n",
            "Epoch 10/20\n",
            "203/203 [==============================] - 59s 290ms/step - crf_loss: 1.9711 - accuracy: 0.9594 - val_crf_loss_val: 2.9813 - val_val_accuracy: 0.9249\n",
            "Epoch 11/20\n",
            "203/203 [==============================] - 59s 291ms/step - crf_loss: 1.9064 - accuracy: 0.9610 - val_crf_loss_val: 3.0017 - val_val_accuracy: 0.9248\n",
            "Epoch 12/20\n",
            "203/203 [==============================] - 59s 289ms/step - crf_loss: 1.8254 - accuracy: 0.9624 - val_crf_loss_val: 2.9929 - val_val_accuracy: 0.9257\n",
            "Epoch 13/20\n",
            "203/203 [==============================] - 59s 289ms/step - crf_loss: 1.7452 - accuracy: 0.9633 - val_crf_loss_val: 3.0283 - val_val_accuracy: 0.9257\n",
            "Epoch 14/20\n",
            "203/203 [==============================] - 58s 288ms/step - crf_loss: 1.6807 - accuracy: 0.9644 - val_crf_loss_val: 3.0616 - val_val_accuracy: 0.9257\n",
            "Epoch 15/20\n",
            "203/203 [==============================] - 59s 290ms/step - crf_loss: 1.6168 - accuracy: 0.9658 - val_crf_loss_val: 3.1491 - val_val_accuracy: 0.9245\n",
            "Epoch 16/20\n",
            "203/203 [==============================] - 59s 292ms/step - crf_loss: 1.5568 - accuracy: 0.9672 - val_crf_loss_val: 3.1188 - val_val_accuracy: 0.9245\n",
            "Epoch 17/20\n",
            "203/203 [==============================] - 59s 291ms/step - crf_loss: 1.5039 - accuracy: 0.9680 - val_crf_loss_val: 3.1345 - val_val_accuracy: 0.9252\n",
            "Epoch 18/20\n",
            "203/203 [==============================] - 59s 289ms/step - crf_loss: 1.4598 - accuracy: 0.9693 - val_crf_loss_val: 3.3875 - val_val_accuracy: 0.9239\n",
            "Epoch 19/20\n",
            "203/203 [==============================] - 59s 289ms/step - crf_loss: 1.4022 - accuracy: 0.9701 - val_crf_loss_val: 3.2948 - val_val_accuracy: 0.9232\n",
            "Epoch 20/20\n",
            "203/203 [==============================] - 59s 290ms/step - crf_loss: 1.3584 - accuracy: 0.9713 - val_crf_loss_val: 3.3451 - val_val_accuracy: 0.9227\n"
          ],
          "name": "stdout"
        },
        {
          "output_type": "execute_result",
          "data": {
            "text/plain": [
              "<tensorflow.python.keras.callbacks.History at 0x7f6947a9d630>"
            ]
          },
          "metadata": {
            "tags": []
          },
          "execution_count": 108
        }
      ]
    },
    {
      "cell_type": "code",
      "metadata": {
        "id": "cvObufom09Z1"
      },
      "source": [
        "model_crf.build((102,None))\r\n",
        "model_crf.load_weights(\"crf.h5\")"
      ],
      "execution_count": null,
      "outputs": []
    },
    {
      "cell_type": "code",
      "metadata": {
        "colab": {
          "base_uri": "https://localhost:8080/",
          "height": 1000
        },
        "id": "nfGQXhAL1J00",
        "outputId": "f36d6b10-f691-4777-b197-1afab25989a3"
      },
      "source": [
        "%%time\r\n",
        "y_pred2 = model_crf.predict(x_test)\r\n",
        "ypred2 = [outputToLabel(y_pred2[1][i],len(y_test[i])) for i in range(len(y_pred2[1]))]\r\n",
        "report2 = evaluation_report(y_test, ypred2)"
      ],
      "execution_count": null,
      "outputs": [
        {
          "output_type": "display_data",
          "data": {
            "text/html": [
              "<div>\n",
              "<style scoped>\n",
              "    .dataframe tbody tr th:only-of-type {\n",
              "        vertical-align: middle;\n",
              "    }\n",
              "\n",
              "    .dataframe tbody tr th {\n",
              "        vertical-align: top;\n",
              "    }\n",
              "\n",
              "    .dataframe thead th {\n",
              "        text-align: right;\n",
              "    }\n",
              "</style>\n",
              "<table border=\"1\" class=\"dataframe\">\n",
              "  <thead>\n",
              "    <tr style=\"text-align: right;\">\n",
              "      <th></th>\n",
              "      <th>tag</th>\n",
              "      <th>precision</th>\n",
              "      <th>recall</th>\n",
              "      <th>f_score</th>\n",
              "      <th>correct_count</th>\n",
              "    </tr>\n",
              "  </thead>\n",
              "  <tbody>\n",
              "    <tr>\n",
              "      <th>0</th>\n",
              "      <td>1</td>\n",
              "      <td>99.81</td>\n",
              "      <td>99.7829</td>\n",
              "      <td>99.7964</td>\n",
              "      <td>3677</td>\n",
              "    </tr>\n",
              "    <tr>\n",
              "      <th>1</th>\n",
              "      <td>2</td>\n",
              "      <td>93.5277</td>\n",
              "      <td>93.7318</td>\n",
              "      <td>93.6296</td>\n",
              "      <td>7731</td>\n",
              "    </tr>\n",
              "    <tr>\n",
              "      <th>2</th>\n",
              "      <td>3</td>\n",
              "      <td>90.3055</td>\n",
              "      <td>95.1981</td>\n",
              "      <td>92.6873</td>\n",
              "      <td>16078</td>\n",
              "    </tr>\n",
              "    <tr>\n",
              "      <th>3</th>\n",
              "      <td>4</td>\n",
              "      <td>99.8991</td>\n",
              "      <td>99.6208</td>\n",
              "      <td>99.7598</td>\n",
              "      <td>12873</td>\n",
              "    </tr>\n",
              "    <tr>\n",
              "      <th>4</th>\n",
              "      <td>5</td>\n",
              "      <td>81.25</td>\n",
              "      <td>97.0149</td>\n",
              "      <td>88.4354</td>\n",
              "      <td>65</td>\n",
              "    </tr>\n",
              "    <tr>\n",
              "      <th>5</th>\n",
              "      <td>6</td>\n",
              "      <td>98.2833</td>\n",
              "      <td>87.7395</td>\n",
              "      <td>92.7126</td>\n",
              "      <td>458</td>\n",
              "    </tr>\n",
              "    <tr>\n",
              "      <th>6</th>\n",
              "      <td>7</td>\n",
              "      <td>97.6317</td>\n",
              "      <td>97.1621</td>\n",
              "      <td>97.3963</td>\n",
              "      <td>2020</td>\n",
              "    </tr>\n",
              "    <tr>\n",
              "      <th>7</th>\n",
              "      <td>8</td>\n",
              "      <td>56.7976</td>\n",
              "      <td>45.3012</td>\n",
              "      <td>50.4021</td>\n",
              "      <td>188</td>\n",
              "    </tr>\n",
              "    <tr>\n",
              "      <th>8</th>\n",
              "      <td>9</td>\n",
              "      <td>69.8925</td>\n",
              "      <td>52.9891</td>\n",
              "      <td>60.2782</td>\n",
              "      <td>195</td>\n",
              "    </tr>\n",
              "    <tr>\n",
              "      <th>9</th>\n",
              "      <td>10</td>\n",
              "      <td>60.4736</td>\n",
              "      <td>39.5709</td>\n",
              "      <td>47.8386</td>\n",
              "      <td>332</td>\n",
              "    </tr>\n",
              "    <tr>\n",
              "      <th>10</th>\n",
              "      <td>11</td>\n",
              "      <td>84.0909</td>\n",
              "      <td>86.0465</td>\n",
              "      <td>85.0575</td>\n",
              "      <td>74</td>\n",
              "    </tr>\n",
              "    <tr>\n",
              "      <th>11</th>\n",
              "      <td>12</td>\n",
              "      <td>95.092</td>\n",
              "      <td>96.7541</td>\n",
              "      <td>95.9158</td>\n",
              "      <td>775</td>\n",
              "    </tr>\n",
              "    <tr>\n",
              "      <th>12</th>\n",
              "      <td>13</td>\n",
              "      <td>86.7065</td>\n",
              "      <td>84.7524</td>\n",
              "      <td>85.7183</td>\n",
              "      <td>3046</td>\n",
              "    </tr>\n",
              "    <tr>\n",
              "      <th>13</th>\n",
              "      <td>14</td>\n",
              "      <td>95.4204</td>\n",
              "      <td>92.6216</td>\n",
              "      <td>94.0002</td>\n",
              "      <td>5084</td>\n",
              "    </tr>\n",
              "    <tr>\n",
              "      <th>14</th>\n",
              "      <td>15</td>\n",
              "      <td>78.2741</td>\n",
              "      <td>68.7166</td>\n",
              "      <td>73.1846</td>\n",
              "      <td>771</td>\n",
              "    </tr>\n",
              "    <tr>\n",
              "      <th>15</th>\n",
              "      <td>16</td>\n",
              "      <td>86.0465</td>\n",
              "      <td>87.8018</td>\n",
              "      <td>86.9153</td>\n",
              "      <td>2109</td>\n",
              "    </tr>\n",
              "    <tr>\n",
              "      <th>16</th>\n",
              "      <td>17</td>\n",
              "      <td>98.3838</td>\n",
              "      <td>83.3904</td>\n",
              "      <td>90.2688</td>\n",
              "      <td>487</td>\n",
              "    </tr>\n",
              "    <tr>\n",
              "      <th>17</th>\n",
              "      <td>18</td>\n",
              "      <td>96.4676</td>\n",
              "      <td>99.3074</td>\n",
              "      <td>97.8669</td>\n",
              "      <td>1147</td>\n",
              "    </tr>\n",
              "    <tr>\n",
              "      <th>18</th>\n",
              "      <td>19</td>\n",
              "      <td>97.076</td>\n",
              "      <td>96.2319</td>\n",
              "      <td>96.6521</td>\n",
              "      <td>332</td>\n",
              "    </tr>\n",
              "    <tr>\n",
              "      <th>19</th>\n",
              "      <td>20</td>\n",
              "      <td>97.9452</td>\n",
              "      <td>96.9492</td>\n",
              "      <td>97.4446</td>\n",
              "      <td>286</td>\n",
              "    </tr>\n",
              "    <tr>\n",
              "      <th>20</th>\n",
              "      <td>21</td>\n",
              "      <td>92.3927</td>\n",
              "      <td>93.7954</td>\n",
              "      <td>93.0888</td>\n",
              "      <td>1421</td>\n",
              "    </tr>\n",
              "    <tr>\n",
              "      <th>21</th>\n",
              "      <td>22</td>\n",
              "      <td>79.1922</td>\n",
              "      <td>80.7236</td>\n",
              "      <td>79.9506</td>\n",
              "      <td>1294</td>\n",
              "    </tr>\n",
              "    <tr>\n",
              "      <th>22</th>\n",
              "      <td>23</td>\n",
              "      <td>87.7922</td>\n",
              "      <td>95.8186</td>\n",
              "      <td>91.63</td>\n",
              "      <td>1352</td>\n",
              "    </tr>\n",
              "    <tr>\n",
              "      <th>23</th>\n",
              "      <td>24</td>\n",
              "      <td>88.6968</td>\n",
              "      <td>72.8962</td>\n",
              "      <td>80.024</td>\n",
              "      <td>667</td>\n",
              "    </tr>\n",
              "    <tr>\n",
              "      <th>24</th>\n",
              "      <td>25</td>\n",
              "      <td>85</td>\n",
              "      <td>65.8596</td>\n",
              "      <td>74.2156</td>\n",
              "      <td>272</td>\n",
              "    </tr>\n",
              "    <tr>\n",
              "      <th>25</th>\n",
              "      <td>26</td>\n",
              "      <td>95.2381</td>\n",
              "      <td>90.9091</td>\n",
              "      <td>93.0233</td>\n",
              "      <td>160</td>\n",
              "    </tr>\n",
              "    <tr>\n",
              "      <th>26</th>\n",
              "      <td>27</td>\n",
              "      <td>92.1739</td>\n",
              "      <td>80.916</td>\n",
              "      <td>86.1789</td>\n",
              "      <td>106</td>\n",
              "    </tr>\n",
              "    <tr>\n",
              "      <th>27</th>\n",
              "      <td>29</td>\n",
              "      <td>91.4956</td>\n",
              "      <td>98.7342</td>\n",
              "      <td>94.9772</td>\n",
              "      <td>312</td>\n",
              "    </tr>\n",
              "    <tr>\n",
              "      <th>28</th>\n",
              "      <td>30</td>\n",
              "      <td>73.5294</td>\n",
              "      <td>73.5294</td>\n",
              "      <td>73.5294</td>\n",
              "      <td>75</td>\n",
              "    </tr>\n",
              "    <tr>\n",
              "      <th>29</th>\n",
              "      <td>31</td>\n",
              "      <td>47.7528</td>\n",
              "      <td>82.5243</td>\n",
              "      <td>60.4982</td>\n",
              "      <td>85</td>\n",
              "    </tr>\n",
              "    <tr>\n",
              "      <th>30</th>\n",
              "      <td>32</td>\n",
              "      <td>71.5278</td>\n",
              "      <td>57.8652</td>\n",
              "      <td>63.9752</td>\n",
              "      <td>103</td>\n",
              "    </tr>\n",
              "    <tr>\n",
              "      <th>31</th>\n",
              "      <td>33</td>\n",
              "      <td>100</td>\n",
              "      <td>11.7647</td>\n",
              "      <td>21.0526</td>\n",
              "      <td>8</td>\n",
              "    </tr>\n",
              "    <tr>\n",
              "      <th>32</th>\n",
              "      <td>34</td>\n",
              "      <td>78.0526</td>\n",
              "      <td>89.8577</td>\n",
              "      <td>83.5401</td>\n",
              "      <td>505</td>\n",
              "    </tr>\n",
              "    <tr>\n",
              "      <th>33</th>\n",
              "      <td>35</td>\n",
              "      <td>62.5</td>\n",
              "      <td>55.5556</td>\n",
              "      <td>58.8235</td>\n",
              "      <td>5</td>\n",
              "    </tr>\n",
              "    <tr>\n",
              "      <th>34</th>\n",
              "      <td>36</td>\n",
              "      <td>100</td>\n",
              "      <td>100</td>\n",
              "      <td>100</td>\n",
              "      <td>16</td>\n",
              "    </tr>\n",
              "    <tr>\n",
              "      <th>35</th>\n",
              "      <td>37</td>\n",
              "      <td>88.5965</td>\n",
              "      <td>99.0196</td>\n",
              "      <td>93.5185</td>\n",
              "      <td>101</td>\n",
              "    </tr>\n",
              "    <tr>\n",
              "      <th>36</th>\n",
              "      <td>38</td>\n",
              "      <td>66.6667</td>\n",
              "      <td>51.2821</td>\n",
              "      <td>57.971</td>\n",
              "      <td>20</td>\n",
              "    </tr>\n",
              "    <tr>\n",
              "      <th>37</th>\n",
              "      <td>39</td>\n",
              "      <td>74.3421</td>\n",
              "      <td>80.7143</td>\n",
              "      <td>77.3973</td>\n",
              "      <td>113</td>\n",
              "    </tr>\n",
              "    <tr>\n",
              "      <th>38</th>\n",
              "      <td>40</td>\n",
              "      <td>100</td>\n",
              "      <td>100</td>\n",
              "      <td>100</td>\n",
              "      <td>280</td>\n",
              "    </tr>\n",
              "    <tr>\n",
              "      <th>39</th>\n",
              "      <td>41</td>\n",
              "      <td>76.1905</td>\n",
              "      <td>80</td>\n",
              "      <td>78.0488</td>\n",
              "      <td>16</td>\n",
              "    </tr>\n",
              "    <tr>\n",
              "      <th>40</th>\n",
              "      <td>42</td>\n",
              "      <td>100</td>\n",
              "      <td>64.7059</td>\n",
              "      <td>78.5714</td>\n",
              "      <td>11</td>\n",
              "    </tr>\n",
              "    <tr>\n",
              "      <th>41</th>\n",
              "      <td>43</td>\n",
              "      <td>57.1429</td>\n",
              "      <td>44.4444</td>\n",
              "      <td>50</td>\n",
              "      <td>4</td>\n",
              "    </tr>\n",
              "    <tr>\n",
              "      <th>42</th>\n",
              "      <td>45</td>\n",
              "      <td>-</td>\n",
              "      <td>0</td>\n",
              "      <td>-</td>\n",
              "      <td>0</td>\n",
              "    </tr>\n",
              "    <tr>\n",
              "      <th>43</th>\n",
              "      <td>46</td>\n",
              "      <td>-</td>\n",
              "      <td>0</td>\n",
              "      <td>-</td>\n",
              "      <td>0</td>\n",
              "    </tr>\n",
              "    <tr>\n",
              "      <th>44</th>\n",
              "      <td>accuracy=92.31</td>\n",
              "      <td></td>\n",
              "      <td></td>\n",
              "      <td></td>\n",
              "      <td></td>\n",
              "    </tr>\n",
              "  </tbody>\n",
              "</table>\n",
              "</div>"
            ],
            "text/plain": [
              "               tag precision   recall  f_score correct_count\n",
              "0                1     99.81  99.7829  99.7964          3677\n",
              "1                2   93.5277  93.7318  93.6296          7731\n",
              "2                3   90.3055  95.1981  92.6873         16078\n",
              "3                4   99.8991  99.6208  99.7598         12873\n",
              "4                5     81.25  97.0149  88.4354            65\n",
              "5                6   98.2833  87.7395  92.7126           458\n",
              "6                7   97.6317  97.1621  97.3963          2020\n",
              "7                8   56.7976  45.3012  50.4021           188\n",
              "8                9   69.8925  52.9891  60.2782           195\n",
              "9               10   60.4736  39.5709  47.8386           332\n",
              "10              11   84.0909  86.0465  85.0575            74\n",
              "11              12    95.092  96.7541  95.9158           775\n",
              "12              13   86.7065  84.7524  85.7183          3046\n",
              "13              14   95.4204  92.6216  94.0002          5084\n",
              "14              15   78.2741  68.7166  73.1846           771\n",
              "15              16   86.0465  87.8018  86.9153          2109\n",
              "16              17   98.3838  83.3904  90.2688           487\n",
              "17              18   96.4676  99.3074  97.8669          1147\n",
              "18              19    97.076  96.2319  96.6521           332\n",
              "19              20   97.9452  96.9492  97.4446           286\n",
              "20              21   92.3927  93.7954  93.0888          1421\n",
              "21              22   79.1922  80.7236  79.9506          1294\n",
              "22              23   87.7922  95.8186    91.63          1352\n",
              "23              24   88.6968  72.8962   80.024           667\n",
              "24              25        85  65.8596  74.2156           272\n",
              "25              26   95.2381  90.9091  93.0233           160\n",
              "26              27   92.1739   80.916  86.1789           106\n",
              "27              29   91.4956  98.7342  94.9772           312\n",
              "28              30   73.5294  73.5294  73.5294            75\n",
              "29              31   47.7528  82.5243  60.4982            85\n",
              "30              32   71.5278  57.8652  63.9752           103\n",
              "31              33       100  11.7647  21.0526             8\n",
              "32              34   78.0526  89.8577  83.5401           505\n",
              "33              35      62.5  55.5556  58.8235             5\n",
              "34              36       100      100      100            16\n",
              "35              37   88.5965  99.0196  93.5185           101\n",
              "36              38   66.6667  51.2821   57.971            20\n",
              "37              39   74.3421  80.7143  77.3973           113\n",
              "38              40       100      100      100           280\n",
              "39              41   76.1905       80  78.0488            16\n",
              "40              42       100  64.7059  78.5714            11\n",
              "41              43   57.1429  44.4444       50             4\n",
              "42              45         -        0        -             0\n",
              "43              46         -        0        -             0\n",
              "44  accuracy=92.31                                          "
            ]
          },
          "metadata": {
            "tags": []
          }
        },
        {
          "output_type": "stream",
          "text": [
            "CPU times: user 20.7 s, sys: 2.79 s, total: 23.5 s\n",
            "Wall time: 19.4 s\n"
          ],
          "name": "stdout"
        }
      ]
    },
    {
      "cell_type": "code",
      "metadata": {
        "id": "_T_ROP1D3twh"
      },
      "source": [
        "model_crf.save_weights(\"crf.h5\")"
      ],
      "execution_count": null,
      "outputs": []
    },
    {
      "cell_type": "code",
      "metadata": {
        "id": "q2AuCDCXLCv2"
      },
      "source": [
        "%load_ext tensorboard\r\n",
        "%tensorboard --logdir='./Graph/crf'"
      ],
      "execution_count": null,
      "outputs": []
    },
    {
      "cell_type": "markdown",
      "metadata": {
        "id": "qOnHO-__kj7T"
      },
      "source": [
        "\n",
        "### 4.2.2 CRF with pretrained weight\n",
        "\n",
        "### #TODO 2\n",
        "\n",
        "We would like you create a neural CRF POS tagger model  with the pretrained word embedding as an input and the word embedding is trainable (not fixed). To finish this excercise you must train the model and show the evaluation report with this model as shown in the example.\n",
        "\n",
        "Please note that the given pretrained word embedding only have weights for the vocabuary in BEST corpus.\n",
        "\n",
        "Optionally, you can use your own pretrained word embedding.\n",
        "\n",
        "#### Hint: You can get the embedding from get_embeddings function from embeddings/emb_reader.py . \n",
        "\n",
        "(You may want to read about Tensorflow Masking layer and Trainable parameter)"
      ]
    },
    {
      "cell_type": "code",
      "metadata": {
        "id": "lejP0oLGAriu"
      },
      "source": [
        "from embeddings.emb_reader import get_embeddings\r\n",
        "from tensorflow.keras.initializers import Constant"
      ],
      "execution_count": null,
      "outputs": []
    },
    {
      "cell_type": "code",
      "metadata": {
        "colab": {
          "base_uri": "https://localhost:8080/"
        },
        "id": "lPr1xtSCxjgE",
        "outputId": "fe0e7a15-38ea-47c1-8b64-92951aaf3396"
      },
      "source": [
        "embeddings_index = get_embeddings()\r\n",
        "num_tokens = len(word_to_idx)\r\n",
        "embedding_dim = 64\r\n",
        "hits = 0\r\n",
        "misses = 0\r\n",
        "\r\n",
        "# Prepare embedding matrix\r\n",
        "embedding_matrix = np.zeros((num_tokens, embedding_dim))\r\n",
        "for word, i in word_to_idx.items():\r\n",
        "    embedding_vector = embeddings_index.get(word)\r\n",
        "    if embedding_vector is not None:\r\n",
        "        # Words not found in embedding index will be all-zeros.\r\n",
        "        # This includes the representation for \"padding\" and \"OOV\"\r\n",
        "        embedding_matrix[i] = embedding_vector\r\n",
        "        hits += 1\r\n",
        "    else:\r\n",
        "        misses += 1\r\n",
        "print(\"Converted %d words (%d misses)\" % (hits, misses))"
      ],
      "execution_count": null,
      "outputs": [
        {
          "output_type": "stream",
          "text": [
            "Converted 3706 words (11313 misses)\n"
          ],
          "name": "stdout"
        }
      ]
    },
    {
      "cell_type": "code",
      "metadata": {
        "id": "cohoMfbg1nkn"
      },
      "source": [
        "input = Input(shape=(102,), dtype='int32')\r\n",
        "output = Embedding(input_dim=len(word_to_idx), output_dim=64,input_length=102,mask_zero=True, embeddings_initializer=Constant(embedding_matrix), trainable=True)(input)\r\n",
        "output = Bidirectional(GRU(32, return_sequences=True))(output)\r\n",
        "output = Dropout(0.2)(output)\r\n",
        "output = TimeDistributed(Dense(n_classes,activation=None))(output)\r\n",
        "crf_emb = CRF(dtype='float32')\r\n",
        "output = crf_emb(output)\r\n",
        "\r\n",
        "model_crf_emb = Model(input, output)\r\n",
        "model_crf_emb = ModelWithCRFLoss(model_crf_emb)\r\n",
        "model_crf_emb.compile(optimizer=Adam(lr=0.001),  loss='categorical_crossentropy', metrics=['categorical_accuracy'])\r\n",
        "\r\n",
        "callback_crf_emb = [TensorBoard(log_dir='./Graph/crf_emb', histogram_freq=1, write_graph=True, write_grads=False)]"
      ],
      "execution_count": null,
      "outputs": []
    },
    {
      "cell_type": "code",
      "metadata": {
        "colab": {
          "base_uri": "https://localhost:8080/"
        },
        "id": "KVBAv3a9kanH",
        "outputId": "5a842855-161d-4ecf-fd65-c8f0a150680c"
      },
      "source": [
        "# change it to list of int insteadd of one hot\r\n",
        "model_crf_emb.fit(x_train, y_train.argmax(axis=2), batch_size=64, epochs=20, verbose=1, validation_split=0.3, callbacks=callback_crf_emb)"
      ],
      "execution_count": null,
      "outputs": [
        {
          "output_type": "stream",
          "text": [
            "Epoch 1/20\n",
            "203/203 [==============================] - 71s 313ms/step - crf_loss: 27.8068 - accuracy: 0.5361 - val_crf_loss_val: 9.1507 - val_val_accuracy: 0.8302\n",
            "Epoch 2/20\n",
            "203/203 [==============================] - 59s 292ms/step - crf_loss: 6.7552 - accuracy: 0.8954 - val_crf_loss_val: 4.6284 - val_val_accuracy: 0.9052\n",
            "Epoch 3/20\n",
            "203/203 [==============================] - 59s 293ms/step - crf_loss: 3.7928 - accuracy: 0.9359 - val_crf_loss_val: 3.7067 - val_val_accuracy: 0.9185\n",
            "Epoch 4/20\n",
            "203/203 [==============================] - 60s 294ms/step - crf_loss: 2.9135 - accuracy: 0.9470 - val_crf_loss_val: 3.2713 - val_val_accuracy: 0.9231\n",
            "Epoch 5/20\n",
            "203/203 [==============================] - 60s 294ms/step - crf_loss: 2.5130 - accuracy: 0.9526 - val_crf_loss_val: 3.1146 - val_val_accuracy: 0.9248\n",
            "Epoch 6/20\n",
            "203/203 [==============================] - 59s 293ms/step - crf_loss: 2.2884 - accuracy: 0.9560 - val_crf_loss_val: 2.9352 - val_val_accuracy: 0.9264\n",
            "Epoch 7/20\n",
            "203/203 [==============================] - 60s 294ms/step - crf_loss: 2.1120 - accuracy: 0.9576 - val_crf_loss_val: 2.8229 - val_val_accuracy: 0.9265\n",
            "Epoch 8/20\n",
            "203/203 [==============================] - 60s 294ms/step - crf_loss: 1.9919 - accuracy: 0.9594 - val_crf_loss_val: 2.7952 - val_val_accuracy: 0.9262\n",
            "Epoch 9/20\n",
            "203/203 [==============================] - 59s 292ms/step - crf_loss: 1.8924 - accuracy: 0.9613 - val_crf_loss_val: 2.7646 - val_val_accuracy: 0.9264\n",
            "Epoch 10/20\n",
            "203/203 [==============================] - 59s 292ms/step - crf_loss: 1.8066 - accuracy: 0.9627 - val_crf_loss_val: 2.7357 - val_val_accuracy: 0.9263\n",
            "Epoch 11/20\n",
            "203/203 [==============================] - 60s 293ms/step - crf_loss: 1.7219 - accuracy: 0.9641 - val_crf_loss_val: 2.7467 - val_val_accuracy: 0.9258\n",
            "Epoch 12/20\n",
            "203/203 [==============================] - 59s 292ms/step - crf_loss: 1.6508 - accuracy: 0.9653 - val_crf_loss_val: 2.6841 - val_val_accuracy: 0.9261\n",
            "Epoch 13/20\n",
            "203/203 [==============================] - 59s 293ms/step - crf_loss: 1.5787 - accuracy: 0.9664 - val_crf_loss_val: 2.7244 - val_val_accuracy: 0.9261\n",
            "Epoch 14/20\n",
            "203/203 [==============================] - 59s 293ms/step - crf_loss: 1.5301 - accuracy: 0.9677 - val_crf_loss_val: 2.7623 - val_val_accuracy: 0.9250\n",
            "Epoch 15/20\n",
            "203/203 [==============================] - 59s 292ms/step - crf_loss: 1.4772 - accuracy: 0.9690 - val_crf_loss_val: 2.8848 - val_val_accuracy: 0.9249\n",
            "Epoch 16/20\n",
            "203/203 [==============================] - 60s 294ms/step - crf_loss: 1.4078 - accuracy: 0.9700 - val_crf_loss_val: 2.9049 - val_val_accuracy: 0.9244\n",
            "Epoch 17/20\n",
            "203/203 [==============================] - 59s 293ms/step - crf_loss: 1.3595 - accuracy: 0.9708 - val_crf_loss_val: 2.8792 - val_val_accuracy: 0.9253\n",
            "Epoch 18/20\n",
            "203/203 [==============================] - 59s 291ms/step - crf_loss: 1.3161 - accuracy: 0.9719 - val_crf_loss_val: 2.8644 - val_val_accuracy: 0.9245\n",
            "Epoch 19/20\n",
            "203/203 [==============================] - 59s 292ms/step - crf_loss: 1.2708 - accuracy: 0.9728 - val_crf_loss_val: 2.8561 - val_val_accuracy: 0.9240\n",
            "Epoch 20/20\n",
            "203/203 [==============================] - 59s 292ms/step - crf_loss: 1.2250 - accuracy: 0.9737 - val_crf_loss_val: 3.0787 - val_val_accuracy: 0.9251\n"
          ],
          "name": "stdout"
        },
        {
          "output_type": "execute_result",
          "data": {
            "text/plain": [
              "<tensorflow.python.keras.callbacks.History at 0x7f694666d1d0>"
            ]
          },
          "metadata": {
            "tags": []
          },
          "execution_count": 114
        }
      ]
    },
    {
      "cell_type": "code",
      "metadata": {
        "id": "wpJ4H2gf1vWq"
      },
      "source": [
        "model_crf_emb.build((102, None))\r\n",
        "model_crf_emb.load_weights(\"crf_emb.h5\")"
      ],
      "execution_count": null,
      "outputs": []
    },
    {
      "cell_type": "code",
      "metadata": {
        "colab": {
          "base_uri": "https://localhost:8080/",
          "height": 1000
        },
        "id": "D7gScR0Zs4qt",
        "outputId": "8a1e5f0c-c684-45ff-e258-d97605921cca"
      },
      "source": [
        "%%time\r\n",
        "y_pred3 = model_crf_emb.predict(x_test)\r\n",
        "ypred3 = [outputToLabel(y_pred3[1][i],len(y_test[i])) for i in range(len(y_pred3[1]))]\r\n",
        "report3 = evaluation_report(y_test, ypred3)"
      ],
      "execution_count": null,
      "outputs": [
        {
          "output_type": "display_data",
          "data": {
            "text/html": [
              "<div>\n",
              "<style scoped>\n",
              "    .dataframe tbody tr th:only-of-type {\n",
              "        vertical-align: middle;\n",
              "    }\n",
              "\n",
              "    .dataframe tbody tr th {\n",
              "        vertical-align: top;\n",
              "    }\n",
              "\n",
              "    .dataframe thead th {\n",
              "        text-align: right;\n",
              "    }\n",
              "</style>\n",
              "<table border=\"1\" class=\"dataframe\">\n",
              "  <thead>\n",
              "    <tr style=\"text-align: right;\">\n",
              "      <th></th>\n",
              "      <th>tag</th>\n",
              "      <th>precision</th>\n",
              "      <th>recall</th>\n",
              "      <th>f_score</th>\n",
              "      <th>correct_count</th>\n",
              "    </tr>\n",
              "  </thead>\n",
              "  <tbody>\n",
              "    <tr>\n",
              "      <th>0</th>\n",
              "      <td>1</td>\n",
              "      <td>99.891</td>\n",
              "      <td>99.4844</td>\n",
              "      <td>99.6873</td>\n",
              "      <td>3666</td>\n",
              "    </tr>\n",
              "    <tr>\n",
              "      <th>1</th>\n",
              "      <td>2</td>\n",
              "      <td>93.1919</td>\n",
              "      <td>94.2653</td>\n",
              "      <td>93.7255</td>\n",
              "      <td>7775</td>\n",
              "    </tr>\n",
              "    <tr>\n",
              "      <th>2</th>\n",
              "      <td>3</td>\n",
              "      <td>90.3651</td>\n",
              "      <td>95.8494</td>\n",
              "      <td>93.0265</td>\n",
              "      <td>16188</td>\n",
              "    </tr>\n",
              "    <tr>\n",
              "      <th>3</th>\n",
              "      <td>4</td>\n",
              "      <td>99.9612</td>\n",
              "      <td>99.6131</td>\n",
              "      <td>99.7868</td>\n",
              "      <td>12872</td>\n",
              "    </tr>\n",
              "    <tr>\n",
              "      <th>4</th>\n",
              "      <td>5</td>\n",
              "      <td>88</td>\n",
              "      <td>98.5075</td>\n",
              "      <td>92.9577</td>\n",
              "      <td>66</td>\n",
              "    </tr>\n",
              "    <tr>\n",
              "      <th>5</th>\n",
              "      <td>6</td>\n",
              "      <td>97.2632</td>\n",
              "      <td>88.5057</td>\n",
              "      <td>92.678</td>\n",
              "      <td>462</td>\n",
              "    </tr>\n",
              "    <tr>\n",
              "      <th>6</th>\n",
              "      <td>7</td>\n",
              "      <td>97.2102</td>\n",
              "      <td>97.2102</td>\n",
              "      <td>97.2102</td>\n",
              "      <td>2021</td>\n",
              "    </tr>\n",
              "    <tr>\n",
              "      <th>7</th>\n",
              "      <td>8</td>\n",
              "      <td>62.6062</td>\n",
              "      <td>53.253</td>\n",
              "      <td>57.5521</td>\n",
              "      <td>221</td>\n",
              "    </tr>\n",
              "    <tr>\n",
              "      <th>8</th>\n",
              "      <td>9</td>\n",
              "      <td>77.1218</td>\n",
              "      <td>56.7935</td>\n",
              "      <td>65.4147</td>\n",
              "      <td>209</td>\n",
              "    </tr>\n",
              "    <tr>\n",
              "      <th>9</th>\n",
              "      <td>10</td>\n",
              "      <td>60.9665</td>\n",
              "      <td>39.0942</td>\n",
              "      <td>47.6398</td>\n",
              "      <td>328</td>\n",
              "    </tr>\n",
              "    <tr>\n",
              "      <th>10</th>\n",
              "      <td>11</td>\n",
              "      <td>83.908</td>\n",
              "      <td>84.8837</td>\n",
              "      <td>84.3931</td>\n",
              "      <td>73</td>\n",
              "    </tr>\n",
              "    <tr>\n",
              "      <th>11</th>\n",
              "      <td>12</td>\n",
              "      <td>96.2312</td>\n",
              "      <td>95.6305</td>\n",
              "      <td>95.9299</td>\n",
              "      <td>766</td>\n",
              "    </tr>\n",
              "    <tr>\n",
              "      <th>12</th>\n",
              "      <td>13</td>\n",
              "      <td>88.3776</td>\n",
              "      <td>83.3612</td>\n",
              "      <td>85.7961</td>\n",
              "      <td>2996</td>\n",
              "    </tr>\n",
              "    <tr>\n",
              "      <th>13</th>\n",
              "      <td>14</td>\n",
              "      <td>94.1749</td>\n",
              "      <td>93.3686</td>\n",
              "      <td>93.77</td>\n",
              "      <td>5125</td>\n",
              "    </tr>\n",
              "    <tr>\n",
              "      <th>14</th>\n",
              "      <td>15</td>\n",
              "      <td>75</td>\n",
              "      <td>67.9144</td>\n",
              "      <td>71.2816</td>\n",
              "      <td>762</td>\n",
              "    </tr>\n",
              "    <tr>\n",
              "      <th>15</th>\n",
              "      <td>16</td>\n",
              "      <td>88.4731</td>\n",
              "      <td>85.637</td>\n",
              "      <td>87.0319</td>\n",
              "      <td>2057</td>\n",
              "    </tr>\n",
              "    <tr>\n",
              "      <th>16</th>\n",
              "      <td>17</td>\n",
              "      <td>97.8346</td>\n",
              "      <td>85.1027</td>\n",
              "      <td>91.0256</td>\n",
              "      <td>497</td>\n",
              "    </tr>\n",
              "    <tr>\n",
              "      <th>17</th>\n",
              "      <td>18</td>\n",
              "      <td>95.8996</td>\n",
              "      <td>99.2208</td>\n",
              "      <td>97.5319</td>\n",
              "      <td>1146</td>\n",
              "    </tr>\n",
              "    <tr>\n",
              "      <th>18</th>\n",
              "      <td>19</td>\n",
              "      <td>97.3451</td>\n",
              "      <td>95.6522</td>\n",
              "      <td>96.4912</td>\n",
              "      <td>330</td>\n",
              "    </tr>\n",
              "    <tr>\n",
              "      <th>19</th>\n",
              "      <td>20</td>\n",
              "      <td>98.2818</td>\n",
              "      <td>96.9492</td>\n",
              "      <td>97.6109</td>\n",
              "      <td>286</td>\n",
              "    </tr>\n",
              "    <tr>\n",
              "      <th>20</th>\n",
              "      <td>21</td>\n",
              "      <td>93.3377</td>\n",
              "      <td>93.3993</td>\n",
              "      <td>93.3685</td>\n",
              "      <td>1415</td>\n",
              "    </tr>\n",
              "    <tr>\n",
              "      <th>21</th>\n",
              "      <td>22</td>\n",
              "      <td>81.8241</td>\n",
              "      <td>77.7916</td>\n",
              "      <td>79.757</td>\n",
              "      <td>1247</td>\n",
              "    </tr>\n",
              "    <tr>\n",
              "      <th>22</th>\n",
              "      <td>23</td>\n",
              "      <td>87.3368</td>\n",
              "      <td>94.8264</td>\n",
              "      <td>90.9276</td>\n",
              "      <td>1338</td>\n",
              "    </tr>\n",
              "    <tr>\n",
              "      <th>23</th>\n",
              "      <td>24</td>\n",
              "      <td>89.9876</td>\n",
              "      <td>79.5628</td>\n",
              "      <td>84.4548</td>\n",
              "      <td>728</td>\n",
              "    </tr>\n",
              "    <tr>\n",
              "      <th>24</th>\n",
              "      <td>25</td>\n",
              "      <td>84.9398</td>\n",
              "      <td>68.2809</td>\n",
              "      <td>75.7047</td>\n",
              "      <td>282</td>\n",
              "    </tr>\n",
              "    <tr>\n",
              "      <th>25</th>\n",
              "      <td>26</td>\n",
              "      <td>93.0233</td>\n",
              "      <td>90.9091</td>\n",
              "      <td>91.954</td>\n",
              "      <td>160</td>\n",
              "    </tr>\n",
              "    <tr>\n",
              "      <th>26</th>\n",
              "      <td>27</td>\n",
              "      <td>92.0354</td>\n",
              "      <td>79.3893</td>\n",
              "      <td>85.2459</td>\n",
              "      <td>104</td>\n",
              "    </tr>\n",
              "    <tr>\n",
              "      <th>27</th>\n",
              "      <td>29</td>\n",
              "      <td>93.5385</td>\n",
              "      <td>96.2025</td>\n",
              "      <td>94.8518</td>\n",
              "      <td>304</td>\n",
              "    </tr>\n",
              "    <tr>\n",
              "      <th>28</th>\n",
              "      <td>30</td>\n",
              "      <td>73.5849</td>\n",
              "      <td>76.4706</td>\n",
              "      <td>75</td>\n",
              "      <td>78</td>\n",
              "    </tr>\n",
              "    <tr>\n",
              "      <th>29</th>\n",
              "      <td>31</td>\n",
              "      <td>50.8772</td>\n",
              "      <td>84.466</td>\n",
              "      <td>63.5036</td>\n",
              "      <td>87</td>\n",
              "    </tr>\n",
              "    <tr>\n",
              "      <th>30</th>\n",
              "      <td>32</td>\n",
              "      <td>71.9424</td>\n",
              "      <td>56.1798</td>\n",
              "      <td>63.0915</td>\n",
              "      <td>100</td>\n",
              "    </tr>\n",
              "    <tr>\n",
              "      <th>31</th>\n",
              "      <td>33</td>\n",
              "      <td>90.9091</td>\n",
              "      <td>14.7059</td>\n",
              "      <td>25.3165</td>\n",
              "      <td>10</td>\n",
              "    </tr>\n",
              "    <tr>\n",
              "      <th>32</th>\n",
              "      <td>34</td>\n",
              "      <td>80.9302</td>\n",
              "      <td>92.8826</td>\n",
              "      <td>86.4954</td>\n",
              "      <td>522</td>\n",
              "    </tr>\n",
              "    <tr>\n",
              "      <th>33</th>\n",
              "      <td>35</td>\n",
              "      <td>38.4615</td>\n",
              "      <td>55.5556</td>\n",
              "      <td>45.4545</td>\n",
              "      <td>5</td>\n",
              "    </tr>\n",
              "    <tr>\n",
              "      <th>34</th>\n",
              "      <td>36</td>\n",
              "      <td>100</td>\n",
              "      <td>100</td>\n",
              "      <td>100</td>\n",
              "      <td>16</td>\n",
              "    </tr>\n",
              "    <tr>\n",
              "      <th>35</th>\n",
              "      <td>37</td>\n",
              "      <td>85.4701</td>\n",
              "      <td>98.0392</td>\n",
              "      <td>91.3242</td>\n",
              "      <td>100</td>\n",
              "    </tr>\n",
              "    <tr>\n",
              "      <th>36</th>\n",
              "      <td>38</td>\n",
              "      <td>51.3514</td>\n",
              "      <td>48.7179</td>\n",
              "      <td>50</td>\n",
              "      <td>19</td>\n",
              "    </tr>\n",
              "    <tr>\n",
              "      <th>37</th>\n",
              "      <td>39</td>\n",
              "      <td>73.5099</td>\n",
              "      <td>79.2857</td>\n",
              "      <td>76.2887</td>\n",
              "      <td>111</td>\n",
              "    </tr>\n",
              "    <tr>\n",
              "      <th>38</th>\n",
              "      <td>40</td>\n",
              "      <td>100</td>\n",
              "      <td>100</td>\n",
              "      <td>100</td>\n",
              "      <td>280</td>\n",
              "    </tr>\n",
              "    <tr>\n",
              "      <th>39</th>\n",
              "      <td>41</td>\n",
              "      <td>76.1905</td>\n",
              "      <td>80</td>\n",
              "      <td>78.0488</td>\n",
              "      <td>16</td>\n",
              "    </tr>\n",
              "    <tr>\n",
              "      <th>40</th>\n",
              "      <td>42</td>\n",
              "      <td>100</td>\n",
              "      <td>64.7059</td>\n",
              "      <td>78.5714</td>\n",
              "      <td>11</td>\n",
              "    </tr>\n",
              "    <tr>\n",
              "      <th>41</th>\n",
              "      <td>43</td>\n",
              "      <td>23.0769</td>\n",
              "      <td>33.3333</td>\n",
              "      <td>27.2727</td>\n",
              "      <td>3</td>\n",
              "    </tr>\n",
              "    <tr>\n",
              "      <th>42</th>\n",
              "      <td>45</td>\n",
              "      <td>-</td>\n",
              "      <td>0</td>\n",
              "      <td>-</td>\n",
              "      <td>0</td>\n",
              "    </tr>\n",
              "    <tr>\n",
              "      <th>43</th>\n",
              "      <td>46</td>\n",
              "      <td>-</td>\n",
              "      <td>0</td>\n",
              "      <td>-</td>\n",
              "      <td>0</td>\n",
              "    </tr>\n",
              "    <tr>\n",
              "      <th>44</th>\n",
              "      <td>accuracy=92.50</td>\n",
              "      <td></td>\n",
              "      <td></td>\n",
              "      <td></td>\n",
              "      <td></td>\n",
              "    </tr>\n",
              "  </tbody>\n",
              "</table>\n",
              "</div>"
            ],
            "text/plain": [
              "               tag precision   recall  f_score correct_count\n",
              "0                1    99.891  99.4844  99.6873          3666\n",
              "1                2   93.1919  94.2653  93.7255          7775\n",
              "2                3   90.3651  95.8494  93.0265         16188\n",
              "3                4   99.9612  99.6131  99.7868         12872\n",
              "4                5        88  98.5075  92.9577            66\n",
              "5                6   97.2632  88.5057   92.678           462\n",
              "6                7   97.2102  97.2102  97.2102          2021\n",
              "7                8   62.6062   53.253  57.5521           221\n",
              "8                9   77.1218  56.7935  65.4147           209\n",
              "9               10   60.9665  39.0942  47.6398           328\n",
              "10              11    83.908  84.8837  84.3931            73\n",
              "11              12   96.2312  95.6305  95.9299           766\n",
              "12              13   88.3776  83.3612  85.7961          2996\n",
              "13              14   94.1749  93.3686    93.77          5125\n",
              "14              15        75  67.9144  71.2816           762\n",
              "15              16   88.4731   85.637  87.0319          2057\n",
              "16              17   97.8346  85.1027  91.0256           497\n",
              "17              18   95.8996  99.2208  97.5319          1146\n",
              "18              19   97.3451  95.6522  96.4912           330\n",
              "19              20   98.2818  96.9492  97.6109           286\n",
              "20              21   93.3377  93.3993  93.3685          1415\n",
              "21              22   81.8241  77.7916   79.757          1247\n",
              "22              23   87.3368  94.8264  90.9276          1338\n",
              "23              24   89.9876  79.5628  84.4548           728\n",
              "24              25   84.9398  68.2809  75.7047           282\n",
              "25              26   93.0233  90.9091   91.954           160\n",
              "26              27   92.0354  79.3893  85.2459           104\n",
              "27              29   93.5385  96.2025  94.8518           304\n",
              "28              30   73.5849  76.4706       75            78\n",
              "29              31   50.8772   84.466  63.5036            87\n",
              "30              32   71.9424  56.1798  63.0915           100\n",
              "31              33   90.9091  14.7059  25.3165            10\n",
              "32              34   80.9302  92.8826  86.4954           522\n",
              "33              35   38.4615  55.5556  45.4545             5\n",
              "34              36       100      100      100            16\n",
              "35              37   85.4701  98.0392  91.3242           100\n",
              "36              38   51.3514  48.7179       50            19\n",
              "37              39   73.5099  79.2857  76.2887           111\n",
              "38              40       100      100      100           280\n",
              "39              41   76.1905       80  78.0488            16\n",
              "40              42       100  64.7059  78.5714            11\n",
              "41              43   23.0769  33.3333  27.2727             3\n",
              "42              45         -        0        -             0\n",
              "43              46         -        0        -             0\n",
              "44  accuracy=92.50                                          "
            ]
          },
          "metadata": {
            "tags": []
          }
        },
        {
          "output_type": "stream",
          "text": [
            "CPU times: user 20.3 s, sys: 2.12 s, total: 22.4 s\n",
            "Wall time: 13.7 s\n"
          ],
          "name": "stdout"
        }
      ]
    },
    {
      "cell_type": "code",
      "metadata": {
        "id": "sPsL9NQkLH1H"
      },
      "source": [
        "%load_ext tensorboard\r\n",
        "%tensorboard --logdir='./Graph/crf_emb'"
      ],
      "execution_count": null,
      "outputs": []
    },
    {
      "cell_type": "code",
      "metadata": {
        "id": "yoBExOIpiJZd"
      },
      "source": [
        "model_crf_emb.save_weights(\"crf_emb.h5\")"
      ],
      "execution_count": null,
      "outputs": []
    },
    {
      "cell_type": "markdown",
      "metadata": {
        "id": "BYX749sbkzA-"
      },
      "source": [
        "## #TODO 3\n",
        "Compare the result between all neural tagger models in 4.1 and 4.2.x and provide a convincing reason and example for the result of these models (which model perform better, why?)\n",
        "\n",
        "(If you use your own weight please state so in the answer)"
      ]
    },
    {
      "cell_type": "code",
      "metadata": {
        "id": "VKb963x_4f49"
      },
      "source": [
        "import seaborn as sn\r\n",
        "import matplotlib.pyplot as plt"
      ],
      "execution_count": null,
      "outputs": []
    },
    {
      "cell_type": "code",
      "metadata": {
        "id": "3T1pXScWokRK"
      },
      "source": [
        "tag_set = set()\r\n",
        "for a,b in label_to_idx.items() :\r\n",
        "    tag_set.add((b,a))\r\n",
        "tagDF = pd.DataFrame(sorted(tag_set), columns=[\"tag\", \"tag_name\"])\r\n",
        "tagDF = pd.concat([pd.DataFrame([{\"tag\":0, \"tag_name\":\"\"}]), tagDF], ignore_index=True)\r\n",
        "tagDF"
      ],
      "execution_count": null,
      "outputs": []
    },
    {
      "cell_type": "code",
      "metadata": {
        "id": "AiG6WwkNfys1"
      },
      "source": [
        "_report = report.drop(len(report)-1).replace(\"-\", 0)\r\n",
        "_report2 = report2.drop(len(report)-1).replace(\"-\", 0)\r\n",
        "_report3 = report3.drop(len(report)-1).replace(\"-\",0)"
      ],
      "execution_count": null,
      "outputs": []
    },
    {
      "cell_type": "code",
      "metadata": {
        "id": "GTRObGGOGUVq"
      },
      "source": [
        "_report_n = _report.merge(tagDF, how=\"right\", on=\"tag\").dropna()\r\n",
        "_report_n2 = _report2.merge(tagDF, how=\"right\", on=\"tag\").dropna()\r\n",
        "_report_n3 = _report3.merge(tagDF, how=\"right\", on=\"tag\").dropna()"
      ],
      "execution_count": 161,
      "outputs": []
    },
    {
      "cell_type": "markdown",
      "metadata": {
        "id": "wMQW2VsYA-Qe"
      },
      "source": [
        "### 4.1, 4.2.1, 4.2.2's  f_score comparison\r\n",
        "From the line chart that compare f_score of 4.1, 4.2.1 and 4.2.2 below we could se that f_score of 4.1 are slightly better than the others follow by 4.2.2 then 4.2.1 which mean overall POS tagger without CRF is the best follow by CRF with pretrained embedding then with out it.\r\n"
      ]
    },
    {
      "cell_type": "code",
      "metadata": {
        "colab": {
          "base_uri": "https://localhost:8080/"
        },
        "id": "mwXCmHV_yaLF",
        "outputId": "49a7488e-a5d7-4c9b-dbb8-b3f47afd368c"
      },
      "source": [
        "acc = report.tag[len(report)-1][-5:]\r\n",
        "acc2 = report2.tag[len(report)-1][-5:]\r\n",
        "acc3 = report3.tag[len(report)-1][-5:]\r\n",
        "print(acc, acc2, acc3)"
      ],
      "execution_count": 177,
      "outputs": [
        {
          "output_type": "stream",
          "text": [
            "92.93 92.31 92.50\n"
          ],
          "name": "stdout"
        }
      ]
    },
    {
      "cell_type": "code",
      "metadata": {
        "colab": {
          "base_uri": "https://localhost:8080/",
          "height": 400
        },
        "id": "7HKyMwTzGnll",
        "outputId": "2c28696f-a29f-428c-ebb7-d128f91fbe41"
      },
      "source": [
        "plt.figure(figsize=(30,10))\r\n",
        "plt.plot(_report_n.tag_name, _report_n.f_score, label=\"report\")\r\n",
        "plt.plot(_report_n2.tag_name, _report_n2.f_score, label=\"report2\")\r\n",
        "plt.plot(_report_n3.tag_name, _report_n3.f_score, label=\"report3\")\r\n",
        "plt.legend()\r\n",
        "plt.title(\"f_score comparison between 4.1, 4.2.1 and 4.2.2\")\r\n",
        "plt.show()"
      ],
      "execution_count": 162,
      "outputs": [
        {
          "output_type": "display_data",
          "data": {
            "image/png": "[encoded data removed]",
            "text/plain": [
              "<Figure size 2160x720 with 1 Axes>"
            ]
          },
          "metadata": {
            "tags": [],
            "needs_background": "light"
          }
        }
      ]
    },
    {
      "cell_type": "markdown",
      "metadata": {
        "id": "OFcbOxONA_7K"
      },
      "source": [
        "### Different of 4.1 to 4.2.1 and 4.1 to 4.2.2\r\n",
        "both line chart show that most of the time POS tagger without CRF is better than with CRF with or without pretrained-embedding but on some tag the tagger without CRF is worse such as CMTR@PUNC or DDAQ tag and some is much better\r\n"
      ]
    },
    {
      "cell_type": "code",
      "metadata": {
        "id": "RY1NQS7_N3Oz"
      },
      "source": [
        "def subtractAndTagName(report1, report2, tagDF):\r\n",
        "    sub = pd.DataFrame(report1.f_score.subtract(report2.f_score))\r\n",
        "    merged = sub.merge(tagDF, how=\"right\", left_on=_report_n.index, right_on=\"tag\") \r\n",
        "    return merged.dropna()"
      ],
      "execution_count": 132,
      "outputs": []
    },
    {
      "cell_type": "code",
      "metadata": {
        "id": "DAoTo8COi1FV"
      },
      "source": [
        "report12 = subtractAndTagName(_report_n, _report_n2, tagDF)\r\n",
        "report13 = subtractAndTagName(_report_n, _report_n3, tagDF)\r\n",
        "report23 = subtractAndTagName(_report_n2, _report_n3, tagDF)"
      ],
      "execution_count": 136,
      "outputs": []
    },
    {
      "cell_type": "code",
      "metadata": {
        "colab": {
          "base_uri": "https://localhost:8080/",
          "height": 400
        },
        "id": "HKQBLG7p7aE0",
        "outputId": "710e30a6-4296-4583-dd73-5ee8aae8c17b"
      },
      "source": [
        "plt.figure(figsize=(30,10))\r\n",
        "plt.plot(report12.tag_name, report12.f_score, label=\"report12\")\r\n",
        "plt.axhline(y=0, color='r', linestyle='-')\r\n",
        "plt.legend()\r\n",
        "plt.title(\"Different of f_score between 4.1 and 4.2.1\")\r\n",
        "plt.show()"
      ],
      "execution_count": 145,
      "outputs": [
        {
          "output_type": "display_data",
          "data": {
            "image/png": "[encoded data removed]",
            "text/plain": [
              "<Figure size 2160x720 with 1 Axes>"
            ]
          },
          "metadata": {
            "tags": [],
            "needs_background": "light"
          }
        }
      ]
    },
    {
      "cell_type": "code",
      "metadata": {
        "colab": {
          "base_uri": "https://localhost:8080/",
          "height": 400
        },
        "id": "8b8VvokP8Jy4",
        "outputId": "32e69437-476b-4a17-bd92-c8e31e40672f"
      },
      "source": [
        "plt.figure(figsize=(30,10))\r\n",
        "plt.plot(report13.tag_name, report13.f_score, label=\"report13\")\r\n",
        "plt.axhline(y=0, color='r', linestyle='-')\r\n",
        "plt.legend()\r\n",
        "plt.title(\"Different of f_score between 4.1 and 4.2.2\")\r\n",
        "plt.show()"
      ],
      "execution_count": 151,
      "outputs": [
        {
          "output_type": "display_data",
          "data": {
            "image/png": "[encoded data removed]",
            "text/plain": [
              "<Figure size 2160x720 with 1 Axes>"
            ]
          },
          "metadata": {
            "tags": [],
            "needs_background": "light"
          }
        }
      ]
    },
    {
      "cell_type": "markdown",
      "metadata": {
        "id": "CaGfum4yBDJ9"
      },
      "source": [
        "Line chart below show that CRf with and without pre-trained embedding are not significantly different, but CRF without is highly confident in some tags such as ADYM, ADVS and DDAQ which shown that the pre-trained embedding may have wider vocab that may affect these tags's accuracy."
      ]
    },
    {
      "cell_type": "code",
      "metadata": {
        "colab": {
          "base_uri": "https://localhost:8080/",
          "height": 401
        },
        "id": "lOEAwhSU8KZm",
        "outputId": "b6f66d1b-7e34-4d81-8927-9953a6ef9b36"
      },
      "source": [
        "plt.figure(figsize=(30,10))\r\n",
        "plt.plot(report23.tag_name, report23.f_score, label=\"report23\")\r\n",
        "plt.axhline(y=0, color='r', linestyle='-')\r\n",
        "plt.legend()\r\n",
        "plt.title(\"Different of f_score between 4.2.1 and 4.2.2\")\r\n",
        "plt.show()"
      ],
      "execution_count": 179,
      "outputs": [
        {
          "output_type": "display_data",
          "data": {
            "image/png": "[encoded data removed]",
            "text/plain": [
              "<Figure size 2160x720 with 1 Axes>"
            ]
          },
          "metadata": {
            "tags": [],
            "needs_background": "light"
          }
        }
      ]
    },
    {
      "cell_type": "markdown",
      "metadata": {
        "id": "dc8mUHJnBGj_"
      },
      "source": [
        "### Summarize\r\n",
        "Overall: Without CRF > with CRF+pre-trained embedding > CRF"
      ]
    },
    {
      "cell_type": "markdown",
      "metadata": {
        "id": "_Z8raWOawjxp"
      },
      "source": [
        "## #TODO 4\n",
        "\n",
        "Upon inference, the model also returns its transition matrix, which is learned during training. Your task is to observe and report whether the returned matrix is sensible. You can provide some examples to support your argument.\n",
        "\n",
        "#### Hint : The transition matrix must have the shape  of (num_class, num_class).\n",
        "\n",
        "<b>Write your answer here :</b> Since the distribution of the value in transition matrix to existent of tag_from, tag_to don't have significantly diferent, so the matrix is insensible. But the distribution graph do show that most of False exist around 0."
      ]
    },
    {
      "cell_type": "code",
      "metadata": {
        "id": "SXAEwYFEZ4Rt"
      },
      "source": [
        "def get_position(matrix):\r\n",
        "    myList = []\r\n",
        "    for i in range(len(matrix)):\r\n",
        "        for j in range(len(matrix[i])):\r\n",
        "            myList.append([matrix[i][j], i, j])\r\n",
        "    return pd.DataFrame(myList, columns=[\"value\", \"from\", \"to\"])"
      ],
      "execution_count": 326,
      "outputs": []
    },
    {
      "cell_type": "code",
      "metadata": {
        "id": "Nuu94FHodqtx"
      },
      "source": [
        "def sortAndTagTransition(matrix, tagDF):\r\n",
        "    data = get_position(matrix)\r\n",
        "    data_merge_from = data.merge(tagDF, how=\"right\", left_on=\"from\", right_on=\"tag\")\r\n",
        "    data_merge_to = data_merge_from.merge(tagDF, how=\"right\", left_on=\"to\", right_on=\"tag\")\r\n",
        "    data_sort = data_merge_to.sort_values(by=\"value\", ascending=False)\r\n",
        "    clean = data_sort.drop(columns=[\"from\", \"to\", \"tag_x\", \"tag_y\"], axis=1)\r\n",
        "    rename = clean.rename({\"tag_name_x\":\"tag_from\", \"tag_name_y\":\"tag_to\"}, axis=1)\r\n",
        "    out = rename.reset_index(drop=True)\r\n",
        "    return out"
      ],
      "execution_count": 327,
      "outputs": []
    },
    {
      "cell_type": "code",
      "metadata": {
        "id": "LqzjTVePm-Dy"
      },
      "source": [
        "def getFollower(datalist) :\r\n",
        "    tag_follower = dict()\r\n",
        "    for data in datalist:\r\n",
        "        for i in range(len(data)):\r\n",
        "            for j in range(len(data[i])-1):\r\n",
        "                a = data[i][j][1]\r\n",
        "                b = data[i][j+1][1]\r\n",
        "                if a in tag_follower : tag_follower[a][b] = (data[i][j][0], data[i][j+1][0])\r\n",
        "                else : tag_follower[a] = {b:(data[i][j][0], data[i][j+1][0])}\r\n",
        "    return tag_follower"
      ],
      "execution_count": 333,
      "outputs": []
    },
    {
      "cell_type": "code",
      "metadata": {
        "id": "QoaV0b1CxgdC"
      },
      "source": [
        "def checkExist(row, follower_dict):\r\n",
        "    return row.tag_from in follower_dict and row.tag_to in follower_dict[row.tag_from]"
      ],
      "execution_count": 334,
      "outputs": []
    },
    {
      "cell_type": "code",
      "metadata": {
        "id": "Sn8XpJn42Mud"
      },
      "source": [
        "def addWordAtTrue(row, follower_dict):\r\n",
        "    if row.check :\r\n",
        "        return follower_dict[row.tag_from][row.tag_to]\r\n",
        "    else :\r\n",
        "        return None"
      ],
      "execution_count": 357,
      "outputs": []
    },
    {
      "cell_type": "code",
      "metadata": {
        "id": "ZPaKwJnPuKwu"
      },
      "source": [
        "def print_information(matrix, tagDF, follower_dict):\r\n",
        "    sorted_val = sortAndTagTransition(matrix, tagDF)\r\n",
        "    sorted_val = sorted_val.replace(\"\", np.NaN).dropna(axis=0)\r\n",
        "    sorted_val[\"check\"] = sorted_val.apply(lambda row: checkExist(row, follower_dict), axis=1)\r\n",
        "    sorted_val[\"Sequence\"] = sorted_val.apply(lambda row: addWordAtTrue(row, follower_dict), axis=1)\r\n",
        "\r\n",
        "    print(\"All True count = {}\".format(sorted_val.check.sum()))\r\n",
        "    print(\"All count = {}\".format(len(sorted_val)))\r\n",
        "    print(\"Positive True count = {}\".format(sorted_val[sorted_val.value > 0].check.sum()))\r\n",
        "    print(\"Positive count = {}\".format(len(sorted_val[sorted_val.value > 0])))\r\n",
        "    print(\"Negative True count = {}\".format(sorted_val[sorted_val.value < 0].check.sum()))\r\n",
        "    print(\"Negative count = {}\".format(len(sorted_val[sorted_val.value < 0])))\r\n",
        "    \r\n",
        "    print(\"\\n---------------Top 20 data---------------\")\r\n",
        "    display(sorted_val.head(20))\r\n",
        "    print(\"\\n----------First false occurance----------\")\r\n",
        "    display(sorted_val[sorted_val.check==False].head(1))\r\n",
        "    return sorted_val"
      ],
      "execution_count": 403,
      "outputs": []
    },
    {
      "cell_type": "code",
      "metadata": {
        "id": "f7o7YQIk-HJP"
      },
      "source": [
        "crf_transitions = crf.transitions.numpy()\r\n",
        "crf_emb_transitions = crf_emb.transitions.numpy()"
      ],
      "execution_count": 348,
      "outputs": []
    },
    {
      "cell_type": "code",
      "metadata": {
        "id": "__CyWgKB1bAS"
      },
      "source": [
        "follower_dict = getFollower([train_data, test_data])"
      ],
      "execution_count": 349,
      "outputs": []
    },
    {
      "cell_type": "code",
      "metadata": {
        "colab": {
          "base_uri": "https://localhost:8080/",
          "height": 867
        },
        "id": "t6gKJFUMu40_",
        "outputId": "fe3b77e6-8225-4d64-caa0-8cbc65e4619c"
      },
      "source": [
        "crf_transition_p = print_information(crf_transitions, tagDF, follower_dict)"
      ],
      "execution_count": 401,
      "outputs": [
        {
          "output_type": "stream",
          "text": [
            "All True count = 1024\n",
            "All count = 2209\n",
            "Positive True count = 376\n",
            "Positive count = 573\n",
            "Negative True count = 648\n",
            "Negative count = 1636\n",
            "\n",
            "---------------Top 20 data---------------\n"
          ],
          "name": "stdout"
        },
        {
          "output_type": "display_data",
          "data": {
            "text/html": [
              "<div>\n",
              "<style scoped>\n",
              "    .dataframe tbody tr th:only-of-type {\n",
              "        vertical-align: middle;\n",
              "    }\n",
              "\n",
              "    .dataframe tbody tr th {\n",
              "        vertical-align: top;\n",
              "    }\n",
              "\n",
              "    .dataframe thead th {\n",
              "        text-align: right;\n",
              "    }\n",
              "</style>\n",
              "<table border=\"1\" class=\"dataframe\">\n",
              "  <thead>\n",
              "    <tr style=\"text-align: right;\">\n",
              "      <th></th>\n",
              "      <th>value</th>\n",
              "      <th>tag_from</th>\n",
              "      <th>tag_to</th>\n",
              "      <th>check</th>\n",
              "      <th>Sequence</th>\n",
              "    </tr>\n",
              "  </thead>\n",
              "  <tbody>\n",
              "    <tr>\n",
              "      <th>0</th>\n",
              "      <td>1.030347</td>\n",
              "      <td>DIBQ</td>\n",
              "      <td>CNIT</td>\n",
              "      <td>True</td>\n",
              "      <td>(หลาย, ชิ้น)</td>\n",
              "    </tr>\n",
              "    <tr>\n",
              "      <th>1</th>\n",
              "      <td>1.029874</td>\n",
              "      <td>FIXN</td>\n",
              "      <td>FIXV</td>\n",
              "      <td>True</td>\n",
              "      <td>(เป็น, อย่าง)</td>\n",
              "    </tr>\n",
              "    <tr>\n",
              "      <th>2</th>\n",
              "      <td>1.002321</td>\n",
              "      <td>FIXV</td>\n",
              "      <td>VSTA</td>\n",
              "      <td>True</td>\n",
              "      <td>(อย่าง, เหมาะสม)</td>\n",
              "    </tr>\n",
              "    <tr>\n",
              "      <th>3</th>\n",
              "      <td>0.984472</td>\n",
              "      <td>FIXV</td>\n",
              "      <td>VATT</td>\n",
              "      <td>True</td>\n",
              "      <td>(โดย, ง่าย)</td>\n",
              "    </tr>\n",
              "    <tr>\n",
              "      <th>4</th>\n",
              "      <td>0.883278</td>\n",
              "      <td>DCNM</td>\n",
              "      <td>CMTR</td>\n",
              "      <td>True</td>\n",
              "      <td>(3, mw.)</td>\n",
              "    </tr>\n",
              "    <tr>\n",
              "      <th>5</th>\n",
              "      <td>0.825680</td>\n",
              "      <td>JCMP</td>\n",
              "      <td>NCMN</td>\n",
              "      <td>True</td>\n",
              "      <td>(กว่า, ต่างประเทศ)</td>\n",
              "    </tr>\n",
              "    <tr>\n",
              "      <th>6</th>\n",
              "      <td>0.823390</td>\n",
              "      <td>CNIT</td>\n",
              "      <td>DCNM</td>\n",
              "      <td>True</td>\n",
              "      <td>(ประการ, หนึ่ง)</td>\n",
              "    </tr>\n",
              "    <tr>\n",
              "      <th>7</th>\n",
              "      <td>0.759282</td>\n",
              "      <td>NCMN</td>\n",
              "      <td>DDAN</td>\n",
              "      <td>True</td>\n",
              "      <td>(รถไฟฟ้า, ทั้งหมด)</td>\n",
              "    </tr>\n",
              "    <tr>\n",
              "      <th>8</th>\n",
              "      <td>0.739413</td>\n",
              "      <td>VATT</td>\n",
              "      <td>JCMP</td>\n",
              "      <td>True</td>\n",
              "      <td>(ถูก, กว่า)</td>\n",
              "    </tr>\n",
              "    <tr>\n",
              "      <th>9</th>\n",
              "      <td>0.735557</td>\n",
              "      <td>DCNM</td>\n",
              "      <td>CMTR@PUNC</td>\n",
              "      <td>True</td>\n",
              "      <td>(50, %)</td>\n",
              "    </tr>\n",
              "    <tr>\n",
              "      <th>10</th>\n",
              "      <td>0.695859</td>\n",
              "      <td>NTTL</td>\n",
              "      <td>NPRP</td>\n",
              "      <td>True</td>\n",
              "      <td>(Dr., Mongkol)</td>\n",
              "    </tr>\n",
              "    <tr>\n",
              "      <th>11</th>\n",
              "      <td>0.672799</td>\n",
              "      <td>NEG</td>\n",
              "      <td>XVAM</td>\n",
              "      <td>True</td>\n",
              "      <td>(ไม่, สามารถ)</td>\n",
              "    </tr>\n",
              "    <tr>\n",
              "      <th>12</th>\n",
              "      <td>0.672780</td>\n",
              "      <td>DCNM</td>\n",
              "      <td>CNIT</td>\n",
              "      <td>True</td>\n",
              "      <td>(สอง, ด้าน)</td>\n",
              "    </tr>\n",
              "    <tr>\n",
              "      <th>13</th>\n",
              "      <td>0.578657</td>\n",
              "      <td>NEG</td>\n",
              "      <td>VSTA</td>\n",
              "      <td>True</td>\n",
              "      <td>(ไม่, มี)</td>\n",
              "    </tr>\n",
              "    <tr>\n",
              "      <th>14</th>\n",
              "      <td>0.575179</td>\n",
              "      <td>RPRE</td>\n",
              "      <td>PPRS</td>\n",
              "      <td>True</td>\n",
              "      <td>(สำหรับ, ผู้)</td>\n",
              "    </tr>\n",
              "    <tr>\n",
              "      <th>15</th>\n",
              "      <td>0.557215</td>\n",
              "      <td>FIXN</td>\n",
              "      <td>VSTA</td>\n",
              "      <td>True</td>\n",
              "      <td>(ความ, แตกต่าง)</td>\n",
              "    </tr>\n",
              "    <tr>\n",
              "      <th>16</th>\n",
              "      <td>0.552028</td>\n",
              "      <td>CNIT</td>\n",
              "      <td>DDAC</td>\n",
              "      <td>True</td>\n",
              "      <td>(แบบ, นี้)</td>\n",
              "    </tr>\n",
              "    <tr>\n",
              "      <th>17</th>\n",
              "      <td>0.549891</td>\n",
              "      <td>XVAE</td>\n",
              "      <td>ADVS</td>\n",
              "      <td>True</td>\n",
              "      <td>(ได้, ตามปกติ)</td>\n",
              "    </tr>\n",
              "    <tr>\n",
              "      <th>18</th>\n",
              "      <td>0.538968</td>\n",
              "      <td>VACT</td>\n",
              "      <td>ADVN</td>\n",
              "      <td>True</td>\n",
              "      <td>(ทำงาน, ร่วมกัน)</td>\n",
              "    </tr>\n",
              "    <tr>\n",
              "      <th>19</th>\n",
              "      <td>0.538939</td>\n",
              "      <td>XVAE</td>\n",
              "      <td>ADVN</td>\n",
              "      <td>True</td>\n",
              "      <td>(ลง, ด้วย)</td>\n",
              "    </tr>\n",
              "  </tbody>\n",
              "</table>\n",
              "</div>"
            ],
            "text/plain": [
              "       value tag_from     tag_to  check            Sequence\n",
              "0   1.030347     DIBQ       CNIT   True        (หลาย, ชิ้น)\n",
              "1   1.029874     FIXN       FIXV   True       (เป็น, อย่าง)\n",
              "2   1.002321     FIXV       VSTA   True    (อย่าง, เหมาะสม)\n",
              "3   0.984472     FIXV       VATT   True         (โดย, ง่าย)\n",
              "4   0.883278     DCNM       CMTR   True            (3, mw.)\n",
              "5   0.825680     JCMP       NCMN   True  (กว่า, ต่างประเทศ)\n",
              "6   0.823390     CNIT       DCNM   True     (ประการ, หนึ่ง)\n",
              "7   0.759282     NCMN       DDAN   True  (รถไฟฟ้า, ทั้งหมด)\n",
              "8   0.739413     VATT       JCMP   True         (ถูก, กว่า)\n",
              "9   0.735557     DCNM  CMTR@PUNC   True             (50, %)\n",
              "10  0.695859     NTTL       NPRP   True      (Dr., Mongkol)\n",
              "11  0.672799      NEG       XVAM   True       (ไม่, สามารถ)\n",
              "12  0.672780     DCNM       CNIT   True         (สอง, ด้าน)\n",
              "13  0.578657      NEG       VSTA   True           (ไม่, มี)\n",
              "14  0.575179     RPRE       PPRS   True       (สำหรับ, ผู้)\n",
              "15  0.557215     FIXN       VSTA   True     (ความ, แตกต่าง)\n",
              "16  0.552028     CNIT       DDAC   True          (แบบ, นี้)\n",
              "17  0.549891     XVAE       ADVS   True      (ได้, ตามปกติ)\n",
              "18  0.538968     VACT       ADVN   True    (ทำงาน, ร่วมกัน)\n",
              "19  0.538939     XVAE       ADVN   True          (ลง, ด้วย)"
            ]
          },
          "metadata": {
            "tags": []
          }
        },
        {
          "output_type": "stream",
          "text": [
            "\n",
            "----------First false occurance----------\n"
          ],
          "name": "stdout"
        },
        {
          "output_type": "display_data",
          "data": {
            "text/html": [
              "<div>\n",
              "<style scoped>\n",
              "    .dataframe tbody tr th:only-of-type {\n",
              "        vertical-align: middle;\n",
              "    }\n",
              "\n",
              "    .dataframe tbody tr th {\n",
              "        vertical-align: top;\n",
              "    }\n",
              "\n",
              "    .dataframe thead th {\n",
              "        text-align: right;\n",
              "    }\n",
              "</style>\n",
              "<table border=\"1\" class=\"dataframe\">\n",
              "  <thead>\n",
              "    <tr style=\"text-align: right;\">\n",
              "      <th></th>\n",
              "      <th>value</th>\n",
              "      <th>tag_from</th>\n",
              "      <th>tag_to</th>\n",
              "      <th>check</th>\n",
              "      <th>Sequence</th>\n",
              "    </tr>\n",
              "  </thead>\n",
              "  <tbody>\n",
              "    <tr>\n",
              "      <th>113</th>\n",
              "      <td>0.288987</td>\n",
              "      <td>DIBQ</td>\n",
              "      <td>CVBL</td>\n",
              "      <td>False</td>\n",
              "      <td>None</td>\n",
              "    </tr>\n",
              "  </tbody>\n",
              "</table>\n",
              "</div>"
            ],
            "text/plain": [
              "        value tag_from tag_to  check Sequence\n",
              "113  0.288987     DIBQ   CVBL  False     None"
            ]
          },
          "metadata": {
            "tags": []
          }
        }
      ]
    },
    {
      "cell_type": "code",
      "metadata": {
        "colab": {
          "base_uri": "https://localhost:8080/",
          "height": 334
        },
        "id": "lHhRQVo7-RZR",
        "outputId": "c3de9e5b-d88c-4e5c-8aea-9570087ed7c8"
      },
      "source": [
        "crf_transition_p.groupby(\"check\").value.hist(alpha=0.5)"
      ],
      "execution_count": 410,
      "outputs": [
        {
          "output_type": "execute_result",
          "data": {
            "text/plain": [
              "check\n",
              "False    AxesSubplot(0.125,0.125;0.775x0.755)\n",
              "True     AxesSubplot(0.125,0.125;0.775x0.755)\n",
              "Name: value, dtype: object"
            ]
          },
          "metadata": {
            "tags": []
          },
          "execution_count": 410
        },
        {
          "output_type": "display_data",
          "data": {
            "image/png": "[encoded data removed]",
            "text/plain": [
              "<Figure size 432x288 with 1 Axes>"
            ]
          },
          "metadata": {
            "tags": [],
            "needs_background": "light"
          }
        }
      ]
    },
    {
      "cell_type": "code",
      "metadata": {
        "colab": {
          "base_uri": "https://localhost:8080/",
          "height": 867
        },
        "id": "UGf7-NFrvVl-",
        "outputId": "dcb46094-cdb4-4ab0-dc74-b8160ef3efd8"
      },
      "source": [
        "crf_emb_transition_p = print_information(crf_emb_transitions, tagDF, follower_dict)"
      ],
      "execution_count": 402,
      "outputs": [
        {
          "output_type": "stream",
          "text": [
            "All True count = 1024\n",
            "All count = 2209\n",
            "Positive True count = 389\n",
            "Positive count = 591\n",
            "Negative True count = 635\n",
            "Negative count = 1618\n",
            "\n",
            "---------------Top 20 data---------------\n"
          ],
          "name": "stdout"
        },
        {
          "output_type": "display_data",
          "data": {
            "text/html": [
              "<div>\n",
              "<style scoped>\n",
              "    .dataframe tbody tr th:only-of-type {\n",
              "        vertical-align: middle;\n",
              "    }\n",
              "\n",
              "    .dataframe tbody tr th {\n",
              "        vertical-align: top;\n",
              "    }\n",
              "\n",
              "    .dataframe thead th {\n",
              "        text-align: right;\n",
              "    }\n",
              "</style>\n",
              "<table border=\"1\" class=\"dataframe\">\n",
              "  <thead>\n",
              "    <tr style=\"text-align: right;\">\n",
              "      <th></th>\n",
              "      <th>value</th>\n",
              "      <th>tag_from</th>\n",
              "      <th>tag_to</th>\n",
              "      <th>check</th>\n",
              "      <th>Sequence</th>\n",
              "    </tr>\n",
              "  </thead>\n",
              "  <tbody>\n",
              "    <tr>\n",
              "      <th>0</th>\n",
              "      <td>0.814974</td>\n",
              "      <td>CNIT</td>\n",
              "      <td>DDAC</td>\n",
              "      <td>True</td>\n",
              "      <td>(แบบ, นี้)</td>\n",
              "    </tr>\n",
              "    <tr>\n",
              "      <th>1</th>\n",
              "      <td>0.809099</td>\n",
              "      <td>FIXV</td>\n",
              "      <td>VATT</td>\n",
              "      <td>True</td>\n",
              "      <td>(โดย, ง่าย)</td>\n",
              "    </tr>\n",
              "    <tr>\n",
              "      <th>2</th>\n",
              "      <td>0.758991</td>\n",
              "      <td>FIXN</td>\n",
              "      <td>FIXV</td>\n",
              "      <td>True</td>\n",
              "      <td>(เป็น, อย่าง)</td>\n",
              "    </tr>\n",
              "    <tr>\n",
              "      <th>3</th>\n",
              "      <td>0.707808</td>\n",
              "      <td>VATT</td>\n",
              "      <td>JCMP</td>\n",
              "      <td>True</td>\n",
              "      <td>(ถูก, กว่า)</td>\n",
              "    </tr>\n",
              "    <tr>\n",
              "      <th>4</th>\n",
              "      <td>0.654060</td>\n",
              "      <td>NTTL</td>\n",
              "      <td>NPRP</td>\n",
              "      <td>True</td>\n",
              "      <td>(Dr., Mongkol)</td>\n",
              "    </tr>\n",
              "    <tr>\n",
              "      <th>5</th>\n",
              "      <td>0.652345</td>\n",
              "      <td>FIXV</td>\n",
              "      <td>VSTA</td>\n",
              "      <td>True</td>\n",
              "      <td>(อย่าง, เหมาะสม)</td>\n",
              "    </tr>\n",
              "    <tr>\n",
              "      <th>6</th>\n",
              "      <td>0.641507</td>\n",
              "      <td>DIBQ</td>\n",
              "      <td>CNIT</td>\n",
              "      <td>True</td>\n",
              "      <td>(หลาย, ชิ้น)</td>\n",
              "    </tr>\n",
              "    <tr>\n",
              "      <th>7</th>\n",
              "      <td>0.622012</td>\n",
              "      <td>VSTA</td>\n",
              "      <td>XVAE</td>\n",
              "      <td>True</td>\n",
              "      <td>(แตกต่าง, ไป)</td>\n",
              "    </tr>\n",
              "    <tr>\n",
              "      <th>8</th>\n",
              "      <td>0.620279</td>\n",
              "      <td>NEG</td>\n",
              "      <td>VATT</td>\n",
              "      <td>True</td>\n",
              "      <td>(ไม่, มาก)</td>\n",
              "    </tr>\n",
              "    <tr>\n",
              "      <th>9</th>\n",
              "      <td>0.606275</td>\n",
              "      <td>NEG</td>\n",
              "      <td>XVAM</td>\n",
              "      <td>True</td>\n",
              "      <td>(ไม่, สามารถ)</td>\n",
              "    </tr>\n",
              "    <tr>\n",
              "      <th>10</th>\n",
              "      <td>0.605689</td>\n",
              "      <td>VSTA</td>\n",
              "      <td>NCMN</td>\n",
              "      <td>True</td>\n",
              "      <td>(มี, ค่า)</td>\n",
              "    </tr>\n",
              "    <tr>\n",
              "      <th>11</th>\n",
              "      <td>0.593550</td>\n",
              "      <td>CNIT</td>\n",
              "      <td>DCNM</td>\n",
              "      <td>True</td>\n",
              "      <td>(ประการ, หนึ่ง)</td>\n",
              "    </tr>\n",
              "    <tr>\n",
              "      <th>12</th>\n",
              "      <td>0.587634</td>\n",
              "      <td>NEG</td>\n",
              "      <td>VSTA</td>\n",
              "      <td>True</td>\n",
              "      <td>(ไม่, มี)</td>\n",
              "    </tr>\n",
              "    <tr>\n",
              "      <th>13</th>\n",
              "      <td>0.576129</td>\n",
              "      <td>NCMN</td>\n",
              "      <td>VATT</td>\n",
              "      <td>True</td>\n",
              "      <td>(ลูป, หลัก)</td>\n",
              "    </tr>\n",
              "    <tr>\n",
              "      <th>14</th>\n",
              "      <td>0.566521</td>\n",
              "      <td>XVAE</td>\n",
              "      <td>ADVN</td>\n",
              "      <td>True</td>\n",
              "      <td>(ลง, ด้วย)</td>\n",
              "    </tr>\n",
              "    <tr>\n",
              "      <th>15</th>\n",
              "      <td>0.563585</td>\n",
              "      <td>RPRE</td>\n",
              "      <td>NPRP</td>\n",
              "      <td>True</td>\n",
              "      <td>(สำหรับ, กองวิทยาลัยเทคนิค)</td>\n",
              "    </tr>\n",
              "    <tr>\n",
              "      <th>16</th>\n",
              "      <td>0.560284</td>\n",
              "      <td>RPRE</td>\n",
              "      <td>PPRS</td>\n",
              "      <td>True</td>\n",
              "      <td>(สำหรับ, ผู้)</td>\n",
              "    </tr>\n",
              "    <tr>\n",
              "      <th>17</th>\n",
              "      <td>0.558303</td>\n",
              "      <td>JSBR</td>\n",
              "      <td>VACT</td>\n",
              "      <td>True</td>\n",
              "      <td>(ซึ่ง, ยังผลทำให้)</td>\n",
              "    </tr>\n",
              "    <tr>\n",
              "      <th>18</th>\n",
              "      <td>0.536442</td>\n",
              "      <td>CLTV</td>\n",
              "      <td>DDAC</td>\n",
              "      <td>True</td>\n",
              "      <td>(ชนิด, นี้)</td>\n",
              "    </tr>\n",
              "    <tr>\n",
              "      <th>19</th>\n",
              "      <td>0.524900</td>\n",
              "      <td>DCNM</td>\n",
              "      <td>CMTR</td>\n",
              "      <td>True</td>\n",
              "      <td>(3, mw.)</td>\n",
              "    </tr>\n",
              "  </tbody>\n",
              "</table>\n",
              "</div>"
            ],
            "text/plain": [
              "       value tag_from tag_to  check                     Sequence\n",
              "0   0.814974     CNIT   DDAC   True                   (แบบ, นี้)\n",
              "1   0.809099     FIXV   VATT   True                  (โดย, ง่าย)\n",
              "2   0.758991     FIXN   FIXV   True                (เป็น, อย่าง)\n",
              "3   0.707808     VATT   JCMP   True                  (ถูก, กว่า)\n",
              "4   0.654060     NTTL   NPRP   True               (Dr., Mongkol)\n",
              "5   0.652345     FIXV   VSTA   True             (อย่าง, เหมาะสม)\n",
              "6   0.641507     DIBQ   CNIT   True                 (หลาย, ชิ้น)\n",
              "7   0.622012     VSTA   XVAE   True                (แตกต่าง, ไป)\n",
              "8   0.620279      NEG   VATT   True                   (ไม่, มาก)\n",
              "9   0.606275      NEG   XVAM   True                (ไม่, สามารถ)\n",
              "10  0.605689     VSTA   NCMN   True                    (มี, ค่า)\n",
              "11  0.593550     CNIT   DCNM   True              (ประการ, หนึ่ง)\n",
              "12  0.587634      NEG   VSTA   True                    (ไม่, มี)\n",
              "13  0.576129     NCMN   VATT   True                  (ลูป, หลัก)\n",
              "14  0.566521     XVAE   ADVN   True                   (ลง, ด้วย)\n",
              "15  0.563585     RPRE   NPRP   True  (สำหรับ, กองวิทยาลัยเทคนิค)\n",
              "16  0.560284     RPRE   PPRS   True                (สำหรับ, ผู้)\n",
              "17  0.558303     JSBR   VACT   True           (ซึ่ง, ยังผลทำให้)\n",
              "18  0.536442     CLTV   DDAC   True                  (ชนิด, นี้)\n",
              "19  0.524900     DCNM   CMTR   True                     (3, mw.)"
            ]
          },
          "metadata": {
            "tags": []
          }
        },
        {
          "output_type": "stream",
          "text": [
            "\n",
            "----------First false occurance----------\n"
          ],
          "name": "stdout"
        },
        {
          "output_type": "display_data",
          "data": {
            "text/html": [
              "<div>\n",
              "<style scoped>\n",
              "    .dataframe tbody tr th:only-of-type {\n",
              "        vertical-align: middle;\n",
              "    }\n",
              "\n",
              "    .dataframe tbody tr th {\n",
              "        vertical-align: top;\n",
              "    }\n",
              "\n",
              "    .dataframe thead th {\n",
              "        text-align: right;\n",
              "    }\n",
              "</style>\n",
              "<table border=\"1\" class=\"dataframe\">\n",
              "  <thead>\n",
              "    <tr style=\"text-align: right;\">\n",
              "      <th></th>\n",
              "      <th>value</th>\n",
              "      <th>tag_from</th>\n",
              "      <th>tag_to</th>\n",
              "      <th>check</th>\n",
              "      <th>Sequence</th>\n",
              "    </tr>\n",
              "  </thead>\n",
              "  <tbody>\n",
              "    <tr>\n",
              "      <th>60</th>\n",
              "      <td>0.352521</td>\n",
              "      <td>DDAN</td>\n",
              "      <td>NTTL</td>\n",
              "      <td>False</td>\n",
              "      <td>None</td>\n",
              "    </tr>\n",
              "  </tbody>\n",
              "</table>\n",
              "</div>"
            ],
            "text/plain": [
              "       value tag_from tag_to  check Sequence\n",
              "60  0.352521     DDAN   NTTL  False     None"
            ]
          },
          "metadata": {
            "tags": []
          }
        }
      ]
    },
    {
      "cell_type": "code",
      "metadata": {
        "colab": {
          "base_uri": "https://localhost:8080/",
          "height": 332
        },
        "id": "pMTUwwUm_M9i",
        "outputId": "a557757c-f8e1-4461-e89d-721f1c312f12"
      },
      "source": [
        "crf_emb_transition_p.groupby(\"check\").value.hist(alpha=0.5)"
      ],
      "execution_count": 416,
      "outputs": [
        {
          "output_type": "execute_result",
          "data": {
            "text/plain": [
              "check\n",
              "False    AxesSubplot(0.125,0.125;0.775x0.755)\n",
              "True     AxesSubplot(0.125,0.125;0.775x0.755)\n",
              "Name: value, dtype: object"
            ]
          },
          "metadata": {
            "tags": []
          },
          "execution_count": 416
        },
        {
          "output_type": "display_data",
          "data": {
            "image/png": "[encoded data removed]",
            "text/plain": [
              "<Figure size 432x288 with 1 Axes>"
            ]
          },
          "metadata": {
            "tags": [],
            "needs_background": "light"
          }
        }
      ]
    }
  ]
}