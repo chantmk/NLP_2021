{
  "nbformat": 4,
  "nbformat_minor": 0,
  "metadata": {
    "colab": {
      "name": "Midterm2",
      "provenance": [],
      "toc_visible": true
    },
    "kernelspec": {
      "name": "python3",
      "display_name": "Python 3"
    }
  },
  "cells": [
    {
      "cell_type": "markdown",
      "metadata": {
        "id": "O6N6Ms9kOz5e"
      },
      "source": [
        "# Import data"
      ]
    },
    {
      "cell_type": "code",
      "metadata": {
        "id": "kuLdA0SdYhpx",
        "colab": {
          "base_uri": "https://localhost:8080/"
        },
        "outputId": "ea2d703a-e76e-4720-f629-fee4bd8449da"
      },
      "source": [
        "!gdown --id 1LHo-ICoeKAOBotSv2gbWF0K7fAbrQQxq\r\n",
        "!gdown --id 15k6YNv4MxGt8N7LelCLfGx7xKSPPuhzD"
      ],
      "execution_count": null,
      "outputs": [
        {
          "output_type": "stream",
          "text": [
            "Downloading...\n",
            "From: https://drive.google.com/uc?id=1LHo-ICoeKAOBotSv2gbWF0K7fAbrQQxq\n",
            "To: /content/test_without_label.pkl\n",
            "100% 1.15M/1.15M [00:00<00:00, 72.7MB/s]\n",
            "Downloading...\n",
            "From: https://drive.google.com/uc?id=15k6YNv4MxGt8N7LelCLfGx7xKSPPuhzD\n",
            "To: /content/train_with_label.pkl\n",
            "3.18MB [00:00, 49.8MB/s]\n"
          ],
          "name": "stdout"
        }
      ]
    },
    {
      "cell_type": "code",
      "metadata": {
        "colab": {
          "base_uri": "https://localhost:8080/"
        },
        "id": "B8GoU0Oh041K",
        "outputId": "ac051276-694e-4ceb-9f21-e0dc19ebc83f"
      },
      "source": [
        "!pip install pythainlp\r\n",
        "!pip install fasttext"
      ],
      "execution_count": null,
      "outputs": [
        {
          "output_type": "stream",
          "text": [
            "Collecting pythainlp\n",
            "\u001b[?25l  Downloading https://files.pythonhosted.org/packages/c1/09/1215cb6f6ef0cfc9dbb427a961fda8a47c111955f782f659ca2d38c79adc/pythainlp-2.2.6-py3-none-any.whl (10.6MB)\n",
            "\u001b[K     |████████████████████████████████| 10.6MB 4.6MB/s \n",
            "\u001b[?25hCollecting python-crfsuite>=0.9.6\n",
            "\u001b[?25l  Downloading https://files.pythonhosted.org/packages/79/47/58f16c46506139f17de4630dbcfb877ce41a6355a1bbf3c443edb9708429/python_crfsuite-0.9.7-cp37-cp37m-manylinux1_x86_64.whl (743kB)\n",
            "\u001b[K     |████████████████████████████████| 747kB 43.5MB/s \n",
            "\u001b[?25hRequirement already satisfied: requests>=2.22.0 in /usr/local/lib/python3.7/dist-packages (from pythainlp) (2.23.0)\n",
            "Collecting tinydb>=3.0\n",
            "  Downloading https://files.pythonhosted.org/packages/af/cd/1ce3d93818cdeda0446b8033d21e5f32daeb3a866bbafd878a9a62058a9c/tinydb-4.4.0-py3-none-any.whl\n",
            "Requirement already satisfied: certifi>=2017.4.17 in /usr/local/lib/python3.7/dist-packages (from requests>=2.22.0->pythainlp) (2020.12.5)\n",
            "Requirement already satisfied: chardet<4,>=3.0.2 in /usr/local/lib/python3.7/dist-packages (from requests>=2.22.0->pythainlp) (3.0.4)\n",
            "Requirement already satisfied: idna<3,>=2.5 in /usr/local/lib/python3.7/dist-packages (from requests>=2.22.0->pythainlp) (2.10)\n",
            "Requirement already satisfied: urllib3!=1.25.0,!=1.25.1,<1.26,>=1.21.1 in /usr/local/lib/python3.7/dist-packages (from requests>=2.22.0->pythainlp) (1.24.3)\n",
            "Installing collected packages: python-crfsuite, tinydb, pythainlp\n",
            "Successfully installed pythainlp-2.2.6 python-crfsuite-0.9.7 tinydb-4.4.0\n",
            "Collecting fasttext\n",
            "\u001b[?25l  Downloading https://files.pythonhosted.org/packages/f8/85/e2b368ab6d3528827b147fdb814f8189acc981a4bc2f99ab894650e05c40/fasttext-0.9.2.tar.gz (68kB)\n",
            "\u001b[K     |████████████████████████████████| 71kB 3.5MB/s \n",
            "\u001b[?25hRequirement already satisfied: pybind11>=2.2 in /usr/local/lib/python3.7/dist-packages (from fasttext) (2.6.2)\n",
            "Requirement already satisfied: setuptools>=0.7.0 in /usr/local/lib/python3.7/dist-packages (from fasttext) (54.0.0)\n",
            "Requirement already satisfied: numpy in /usr/local/lib/python3.7/dist-packages (from fasttext) (1.19.5)\n",
            "Building wheels for collected packages: fasttext\n",
            "  Building wheel for fasttext (setup.py) ... \u001b[?25l\u001b[?25hdone\n",
            "  Created wheel for fasttext: filename=fasttext-0.9.2-cp37-cp37m-linux_x86_64.whl size=3094314 sha256=4f317eb2c355f26126f7fa08e0b6fff2957573dacd384340b91b5d327a069ec0\n",
            "  Stored in directory: /root/.cache/pip/wheels/98/ba/7f/b154944a1cf5a8cee91c154b75231136cc3a3321ab0e30f592\n",
            "Successfully built fasttext\n",
            "Installing collected packages: fasttext\n",
            "Successfully installed fasttext-0.9.2\n"
          ],
          "name": "stdout"
        }
      ]
    },
    {
      "cell_type": "code",
      "metadata": {
        "id": "NzYjJMRXPsRY"
      },
      "source": [
        "import pickle\r\n",
        "import numpy as np\r\n",
        "import pandas as pd\r\n",
        "import matplotlib.pyplot as plt\r\n",
        "\r\n",
        "import operator\r\n",
        "\r\n",
        "from pythainlp.spell import NorvigSpellChecker\r\n",
        "import fasttext\r\n",
        "from sklearn.neighbors import NearestNeighbors"
      ],
      "execution_count": null,
      "outputs": []
    },
    {
      "cell_type": "code",
      "metadata": {
        "id": "2DVOHTSfPuk4"
      },
      "source": [
        "x_train = pickle.load(open(\"train_with_label.pkl\", \"rb\"))\r\n",
        "x_test = pickle.load(open(\"test_without_label.pkl\", \"rb\"))"
      ],
      "execution_count": null,
      "outputs": []
    },
    {
      "cell_type": "code",
      "metadata": {
        "colab": {
          "base_uri": "https://localhost:8080/"
        },
        "id": "NHcM9-xlUnfr",
        "outputId": "274b876d-ddc2-4892-c856-a6c7f5875915"
      },
      "source": [
        "message = []\r\n",
        "pos = []\r\n",
        "correct = []\r\n",
        "incorrect = []\r\n",
        "corrected = []\r\n",
        "label = []\r\n",
        "train = []\r\n",
        "for msg, tag in x_train:\r\n",
        "    message.append(msg)\r\n",
        "    pos.append(tag[0][0])\r\n",
        "    incorrect.append(msg[tag[0][0][0]:tag[0][0][1]])\r\n",
        "    correct.append(tag[0][1])\r\n",
        "    label.append(tag[0][2])\r\n",
        "    crd = msg[:tag[0][0][0]]+tag[0][1]+msg[tag[0][0][1]:]\r\n",
        "    corrected.append(crd)\r\n",
        "    train.append([msg, tag[0][0], msg[tag[0][0][0]:tag[0][0][1]], tag[0][1], crd, tag[0][2]])\r\n",
        "\r\n",
        "print(\"MSG---\")\r\n",
        "print(message[:10])\r\n",
        "print(\"POS---\")\r\n",
        "print(pos[:10])\r\n",
        "print(\"WORD--\")\r\n",
        "print(correct[:10])\r\n",
        "print(\"LABEL-\")\r\n",
        "print(label[:10])\r\n",
        "print(\"INCORRECT\")\r\n",
        "print(incorrect[:10])\r\n",
        "print(\"CORRECTED\")\r\n",
        "print(corrected[:10])"
      ],
      "execution_count": null,
      "outputs": [
        {
          "output_type": "stream",
          "text": [
            "MSG---\n",
            "[['หริอ', 'มี', 'ปัญหา', 'อะไร', 'ช่วย', 'ตอบ', 'ด้วย', 'ครับ'], ['อยาก', 'สมัคร', ' ', 'sms', ' ', 'เงิน', 'เข้า', 'เงิน', 'ออก', 'ทาง', 'เน็ต', 'ต้อง', 'ทำ', 'ยังงัย'], ['ไม่', 'ทราบ', 'ว่า', 'คุณ', ' ', 'พัชชาา', ' ', 'ไม่', 'สน', 'โลก', ' ', 'เปลี่ยน', 'เฉพาะ', 'เครื่อง', ' ', 'หรือ', 'เปลี่ยน', 'ทั้ง', 'เครื่อง', 'และ', 'เบอร์', 'คะ'], ['ทำ', 'รายการ', 'ที่', 'ตู้', 'atm', ' ', 'อะ', 'คะ', ' ', 'เป็น', 'การ', 'ทำ', 'รายการ', 'เปลี่ยน', 'เบอ', 'โทรสับ', 'อะ', 'คะ'], ['ย่า', 'ยัง', 'ดี', 'ที่', 'สิริ', 'ตอบ', 'แบบ', 'นั้น', ' ', 'ดู', 'ของ', 'เค้า', 'ดิ'], ['จขกท', '.', ' ', '3', '3', '3', '3', '3', '3', '3', ' ', 'เจ้าของ', 'เม้นท์', 'นี้', ' ', '9', '9', '9', '9', '9', '9', ' ', ' ', 'บุพเพสันนิวาสรึเปล่า', 'เนี่ย'], ['ละ', 'เวลา', 'เชค', 'ยอด', 'เงิน', 'ใน', 'บัญชี', 'ด้วย', 'คะ'], ['เล็ก', 'ๆ', 'ไม่', 'ใหญ่', 'ๆ', 'นาง', 'ทำ', 'ได้', ' ', ' ', 'น้องพี', 'สู้', 'ๆ', ' ', 'หลบ', 'ไป', 'นอน', 'หน่อย', 'เถอะ', 'นะ', ' ', 'เด๋ว', 'ตาคล้ำไม่สวยนาจา', '.', '.', '.'], ['ยอดพย', ' ', 'รวม', 'พวก', ' ', 'LTF', ' ', 'RMF', ' ', 'ไหม', 'ครับ', ' ', 'เดือน', 'นั้น', 'ใส่', 'เงิน', 'ไป', 'เยอะ', 'เลย', ' '], ['ตกลง', ' ', 'ยังงัย', '?', '?', 'ให้', 'ข้อมูล', 'ได้', 'ใหม', 'ค่ะ']]\n",
            "POS---\n",
            "[[0, 1], [13, 14], [5, 6], [7, 8], [11, 13], [0, 1], [2, 3], [21, 23], [0, 1], [2, 3]]\n",
            "WORD--\n",
            "[['หรือ'], ['ยังไง'], ['พัชชา'], ['ค่ะ'], ['เขา', 'สิ'], ['เจ้าของ', 'กระทู้'], ['เช็ค'], ['เดี๋ยว', 'ตา', 'คล้ำ', 'ไม่', 'สวย', 'นะ', 'จ๊ะ'], ['ยอด', 'พ', '.', 'ย', '.'], ['ยังไง']]\n",
            "LABEL-\n",
            "['misspelled', 'morphed', 'misspelled', 'misspelled', 'morphed', 'abbreviation', 'misspelled', 'morphed', 'abbreviation', 'misspelled']\n",
            "INCORRECT\n",
            "[['หริอ'], ['ยังงัย'], ['พัชชาา'], ['คะ'], ['เค้า', 'ดิ'], ['จขกท'], ['เชค'], ['เด๋ว', 'ตาคล้ำไม่สวยนาจา'], ['ยอดพย'], ['ยังงัย']]\n",
            "CORRECTED\n",
            "[['หรือ', 'มี', 'ปัญหา', 'อะไร', 'ช่วย', 'ตอบ', 'ด้วย', 'ครับ'], ['อยาก', 'สมัคร', ' ', 'sms', ' ', 'เงิน', 'เข้า', 'เงิน', 'ออก', 'ทาง', 'เน็ต', 'ต้อง', 'ทำ', 'ยังไง'], ['ไม่', 'ทราบ', 'ว่า', 'คุณ', ' ', 'พัชชา', ' ', 'ไม่', 'สน', 'โลก', ' ', 'เปลี่ยน', 'เฉพาะ', 'เครื่อง', ' ', 'หรือ', 'เปลี่ยน', 'ทั้ง', 'เครื่อง', 'และ', 'เบอร์', 'คะ'], ['ทำ', 'รายการ', 'ที่', 'ตู้', 'atm', ' ', 'อะ', 'ค่ะ', ' ', 'เป็น', 'การ', 'ทำ', 'รายการ', 'เปลี่ยน', 'เบอ', 'โทรสับ', 'อะ', 'คะ'], ['ย่า', 'ยัง', 'ดี', 'ที่', 'สิริ', 'ตอบ', 'แบบ', 'นั้น', ' ', 'ดู', 'ของ', 'เขา', 'สิ'], ['เจ้าของ', 'กระทู้', '.', ' ', '3', '3', '3', '3', '3', '3', '3', ' ', 'เจ้าของ', 'เม้นท์', 'นี้', ' ', '9', '9', '9', '9', '9', '9', ' ', ' ', 'บุพเพสันนิวาสรึเปล่า', 'เนี่ย'], ['ละ', 'เวลา', 'เช็ค', 'ยอด', 'เงิน', 'ใน', 'บัญชี', 'ด้วย', 'คะ'], ['เล็ก', 'ๆ', 'ไม่', 'ใหญ่', 'ๆ', 'นาง', 'ทำ', 'ได้', ' ', ' ', 'น้องพี', 'สู้', 'ๆ', ' ', 'หลบ', 'ไป', 'นอน', 'หน่อย', 'เถอะ', 'นะ', ' ', 'เดี๋ยว', 'ตา', 'คล้ำ', 'ไม่', 'สวย', 'นะ', 'จ๊ะ', '.', '.', '.'], ['ยอด', 'พ', '.', 'ย', '.', ' ', 'รวม', 'พวก', ' ', 'LTF', ' ', 'RMF', ' ', 'ไหม', 'ครับ', ' ', 'เดือน', 'นั้น', 'ใส่', 'เงิน', 'ไป', 'เยอะ', 'เลย', ' '], ['ตกลง', ' ', 'ยังไง', '?', '?', 'ให้', 'ข้อมูล', 'ได้', 'ใหม', 'ค่ะ']]\n"
          ],
          "name": "stdout"
        }
      ]
    },
    {
      "cell_type": "code",
      "metadata": {
        "colab": {
          "base_uri": "https://localhost:8080/",
          "height": 419
        },
        "id": "blaZy0kmYTad",
        "outputId": "5364f10c-1eec-4464-cde7-5109a46abe63"
      },
      "source": [
        "train = pd.DataFrame(train, columns=[\"Message\", \"Position\", \"Incorrect\", \"Correct\", \"Corrected\", \"Label\"])\r\n",
        "train"
      ],
      "execution_count": null,
      "outputs": [
        {
          "output_type": "execute_result",
          "data": {
            "text/html": [
              "<div>\n",
              "<style scoped>\n",
              "    .dataframe tbody tr th:only-of-type {\n",
              "        vertical-align: middle;\n",
              "    }\n",
              "\n",
              "    .dataframe tbody tr th {\n",
              "        vertical-align: top;\n",
              "    }\n",
              "\n",
              "    .dataframe thead th {\n",
              "        text-align: right;\n",
              "    }\n",
              "</style>\n",
              "<table border=\"1\" class=\"dataframe\">\n",
              "  <thead>\n",
              "    <tr style=\"text-align: right;\">\n",
              "      <th></th>\n",
              "      <th>Message</th>\n",
              "      <th>Position</th>\n",
              "      <th>Incorrect</th>\n",
              "      <th>Correct</th>\n",
              "      <th>Corrected</th>\n",
              "      <th>Label</th>\n",
              "    </tr>\n",
              "  </thead>\n",
              "  <tbody>\n",
              "    <tr>\n",
              "      <th>0</th>\n",
              "      <td>[หริอ, มี, ปัญหา, อะไร, ช่วย, ตอบ, ด้วย, ครับ]</td>\n",
              "      <td>[0, 1]</td>\n",
              "      <td>[หริอ]</td>\n",
              "      <td>[หรือ]</td>\n",
              "      <td>[หรือ, มี, ปัญหา, อะไร, ช่วย, ตอบ, ด้วย, ครับ]</td>\n",
              "      <td>misspelled</td>\n",
              "    </tr>\n",
              "    <tr>\n",
              "      <th>1</th>\n",
              "      <td>[อยาก, สมัคร,  , sms,  , เงิน, เข้า, เงิน, ออก...</td>\n",
              "      <td>[13, 14]</td>\n",
              "      <td>[ยังงัย]</td>\n",
              "      <td>[ยังไง]</td>\n",
              "      <td>[อยาก, สมัคร,  , sms,  , เงิน, เข้า, เงิน, ออก...</td>\n",
              "      <td>morphed</td>\n",
              "    </tr>\n",
              "    <tr>\n",
              "      <th>2</th>\n",
              "      <td>[ไม่, ทราบ, ว่า, คุณ,  , พัชชาา,  , ไม่, สน, โ...</td>\n",
              "      <td>[5, 6]</td>\n",
              "      <td>[พัชชาา]</td>\n",
              "      <td>[พัชชา]</td>\n",
              "      <td>[ไม่, ทราบ, ว่า, คุณ,  , พัชชา,  , ไม่, สน, โล...</td>\n",
              "      <td>misspelled</td>\n",
              "    </tr>\n",
              "    <tr>\n",
              "      <th>3</th>\n",
              "      <td>[ทำ, รายการ, ที่, ตู้, atm,  , อะ, คะ,  , เป็น...</td>\n",
              "      <td>[7, 8]</td>\n",
              "      <td>[คะ]</td>\n",
              "      <td>[ค่ะ]</td>\n",
              "      <td>[ทำ, รายการ, ที่, ตู้, atm,  , อะ, ค่ะ,  , เป็...</td>\n",
              "      <td>misspelled</td>\n",
              "    </tr>\n",
              "    <tr>\n",
              "      <th>4</th>\n",
              "      <td>[ย่า, ยัง, ดี, ที่, สิริ, ตอบ, แบบ, นั้น,  , ด...</td>\n",
              "      <td>[11, 13]</td>\n",
              "      <td>[เค้า, ดิ]</td>\n",
              "      <td>[เขา, สิ]</td>\n",
              "      <td>[ย่า, ยัง, ดี, ที่, สิริ, ตอบ, แบบ, นั้น,  , ด...</td>\n",
              "      <td>morphed</td>\n",
              "    </tr>\n",
              "    <tr>\n",
              "      <th>...</th>\n",
              "      <td>...</td>\n",
              "      <td>...</td>\n",
              "      <td>...</td>\n",
              "      <td>...</td>\n",
              "      <td>...</td>\n",
              "      <td>...</td>\n",
              "    </tr>\n",
              "    <tr>\n",
              "      <th>9995</th>\n",
              "      <td>[ของ, การ, ชำระ, ค่า, งวด, รถ, อ่ะ, คะ]</td>\n",
              "      <td>[6, 8]</td>\n",
              "      <td>[อ่ะ, คะ]</td>\n",
              "      <td>[อะ, ค่ะ]</td>\n",
              "      <td>[ของ, การ, ชำระ, ค่า, งวด, รถ, อะ, ค่ะ]</td>\n",
              "      <td>misspelled</td>\n",
              "    </tr>\n",
              "    <tr>\n",
              "      <th>9996</th>\n",
              "      <td>[ทำ, ที่, ตู้, ได้, ปะ]</td>\n",
              "      <td>[4, 5]</td>\n",
              "      <td>[ปะ]</td>\n",
              "      <td>[เปล่า]</td>\n",
              "      <td>[ทำ, ที่, ตู้, ได้, เปล่า]</td>\n",
              "      <td>morphed</td>\n",
              "    </tr>\n",
              "    <tr>\n",
              "      <th>9997</th>\n",
              "      <td>[สมัค, กัน]</td>\n",
              "      <td>[0, 1]</td>\n",
              "      <td>[สมัค]</td>\n",
              "      <td>[สมัคร]</td>\n",
              "      <td>[สมัคร, กัน]</td>\n",
              "      <td>misspelled</td>\n",
              "    </tr>\n",
              "    <tr>\n",
              "      <th>9998</th>\n",
              "      <td>[งง, มาก, ค้ะ,  , คุย, อะไร, กัน,  ]</td>\n",
              "      <td>[2, 3]</td>\n",
              "      <td>[ค้ะ]</td>\n",
              "      <td>[ค่ะ]</td>\n",
              "      <td>[งง, มาก, ค่ะ,  , คุย, อะไร, กัน,  ]</td>\n",
              "      <td>misspelled</td>\n",
              "    </tr>\n",
              "    <tr>\n",
              "      <th>9999</th>\n",
              "      <td>[โอน, ผิด, ไป, เข้า, บช,  , นี้, ครับ]</td>\n",
              "      <td>[4, 5]</td>\n",
              "      <td>[บช]</td>\n",
              "      <td>[บัญชี]</td>\n",
              "      <td>[โอน, ผิด, ไป, เข้า, บัญชี,  , นี้, ครับ]</td>\n",
              "      <td>abbreviation</td>\n",
              "    </tr>\n",
              "  </tbody>\n",
              "</table>\n",
              "<p>10000 rows × 6 columns</p>\n",
              "</div>"
            ],
            "text/plain": [
              "                                                Message  ...         Label\n",
              "0        [หริอ, มี, ปัญหา, อะไร, ช่วย, ตอบ, ด้วย, ครับ]  ...    misspelled\n",
              "1     [อยาก, สมัคร,  , sms,  , เงิน, เข้า, เงิน, ออก...  ...       morphed\n",
              "2     [ไม่, ทราบ, ว่า, คุณ,  , พัชชาา,  , ไม่, สน, โ...  ...    misspelled\n",
              "3     [ทำ, รายการ, ที่, ตู้, atm,  , อะ, คะ,  , เป็น...  ...    misspelled\n",
              "4     [ย่า, ยัง, ดี, ที่, สิริ, ตอบ, แบบ, นั้น,  , ด...  ...       morphed\n",
              "...                                                 ...  ...           ...\n",
              "9995            [ของ, การ, ชำระ, ค่า, งวด, รถ, อ่ะ, คะ]  ...    misspelled\n",
              "9996                            [ทำ, ที่, ตู้, ได้, ปะ]  ...       morphed\n",
              "9997                                        [สมัค, กัน]  ...    misspelled\n",
              "9998               [งง, มาก, ค้ะ,  , คุย, อะไร, กัน,  ]  ...    misspelled\n",
              "9999             [โอน, ผิด, ไป, เข้า, บช,  , นี้, ครับ]  ...  abbreviation\n",
              "\n",
              "[10000 rows x 6 columns]"
            ]
          },
          "metadata": {
            "tags": []
          },
          "execution_count": 6
        }
      ]
    },
    {
      "cell_type": "markdown",
      "metadata": {
        "id": "SsrfABHulne3"
      },
      "source": [
        "# Data visualization"
      ]
    },
    {
      "cell_type": "code",
      "metadata": {
        "colab": {
          "base_uri": "https://localhost:8080/",
          "height": 173
        },
        "id": "Tp9tIiDUQ6br",
        "outputId": "f1044eea-93d0-4874-ef12-91dcc534a990"
      },
      "source": [
        "train.describe()"
      ],
      "execution_count": null,
      "outputs": [
        {
          "output_type": "execute_result",
          "data": {
            "text/html": [
              "<div>\n",
              "<style scoped>\n",
              "    .dataframe tbody tr th:only-of-type {\n",
              "        vertical-align: middle;\n",
              "    }\n",
              "\n",
              "    .dataframe tbody tr th {\n",
              "        vertical-align: top;\n",
              "    }\n",
              "\n",
              "    .dataframe thead th {\n",
              "        text-align: right;\n",
              "    }\n",
              "</style>\n",
              "<table border=\"1\" class=\"dataframe\">\n",
              "  <thead>\n",
              "    <tr style=\"text-align: right;\">\n",
              "      <th></th>\n",
              "      <th>Message</th>\n",
              "      <th>Position</th>\n",
              "      <th>Incorrect</th>\n",
              "      <th>Correct</th>\n",
              "      <th>Corrected</th>\n",
              "      <th>Label</th>\n",
              "    </tr>\n",
              "  </thead>\n",
              "  <tbody>\n",
              "    <tr>\n",
              "      <th>count</th>\n",
              "      <td>10000</td>\n",
              "      <td>10000</td>\n",
              "      <td>10000</td>\n",
              "      <td>10000</td>\n",
              "      <td>10000</td>\n",
              "      <td>10000</td>\n",
              "    </tr>\n",
              "    <tr>\n",
              "      <th>unique</th>\n",
              "      <td>9916</td>\n",
              "      <td>119</td>\n",
              "      <td>1360</td>\n",
              "      <td>1000</td>\n",
              "      <td>9669</td>\n",
              "      <td>7</td>\n",
              "    </tr>\n",
              "    <tr>\n",
              "      <th>top</th>\n",
              "      <td>[ค่าาา]</td>\n",
              "      <td>[0, 1]</td>\n",
              "      <td>[อ่ะ]</td>\n",
              "      <td>[อะ]</td>\n",
              "      <td>[ใช่, ค่ะ]</td>\n",
              "      <td>misspelled</td>\n",
              "    </tr>\n",
              "    <tr>\n",
              "      <th>freq</th>\n",
              "      <td>3</td>\n",
              "      <td>1162</td>\n",
              "      <td>735</td>\n",
              "      <td>760</td>\n",
              "      <td>14</td>\n",
              "      <td>7054</td>\n",
              "    </tr>\n",
              "  </tbody>\n",
              "</table>\n",
              "</div>"
            ],
            "text/plain": [
              "        Message Position Incorrect Correct   Corrected       Label\n",
              "count     10000    10000     10000   10000       10000       10000\n",
              "unique     9916      119      1360    1000        9669           7\n",
              "top     [ค่าาา]   [0, 1]     [อ่ะ]    [อะ]  [ใช่, ค่ะ]  misspelled\n",
              "freq          3     1162       735     760          14        7054"
            ]
          },
          "metadata": {
            "tags": []
          },
          "execution_count": 7
        }
      ]
    },
    {
      "cell_type": "code",
      "metadata": {
        "colab": {
          "base_uri": "https://localhost:8080/"
        },
        "id": "H8NRovDiQ_ZH",
        "outputId": "2e213bba-1065-4f05-8762-28673d1915db"
      },
      "source": [
        "train.Label.unique()"
      ],
      "execution_count": null,
      "outputs": [
        {
          "output_type": "execute_result",
          "data": {
            "text/plain": [
              "array(['misspelled', 'morphed', 'abbreviation', 'ws', 'other',\n",
              "       'spoonerism', 'new'], dtype=object)"
            ]
          },
          "metadata": {
            "tags": []
          },
          "execution_count": 8
        }
      ]
    },
    {
      "cell_type": "code",
      "metadata": {
        "colab": {
          "base_uri": "https://localhost:8080/"
        },
        "id": "Vj3au4MZmoim",
        "outputId": "c5e6c6b0-ce61-4e27-d841-6a9db49f9306"
      },
      "source": [
        "train.Label.value_counts()"
      ],
      "execution_count": null,
      "outputs": [
        {
          "output_type": "execute_result",
          "data": {
            "text/plain": [
              "misspelled      7054\n",
              "morphed         2468\n",
              "abbreviation     338\n",
              "other             69\n",
              "ws                61\n",
              "spoonerism         7\n",
              "new                3\n",
              "Name: Label, dtype: int64"
            ]
          },
          "metadata": {
            "tags": []
          },
          "execution_count": 9
        }
      ]
    },
    {
      "cell_type": "code",
      "metadata": {
        "colab": {
          "base_uri": "https://localhost:8080/"
        },
        "id": "mp1lQCrtUPDa",
        "outputId": "cfc3014a-a440-42fe-f01e-47cc5f05597f"
      },
      "source": [
        "correct_count = np.array(train.Correct.value_counts())\r\n",
        "print(correct_count.mean())\r\n",
        "print(correct_count.std())"
      ],
      "execution_count": null,
      "outputs": [
        {
          "output_type": "stream",
          "text": [
            "10.0\n",
            "48.73202232618712\n"
          ],
          "name": "stdout"
        }
      ]
    },
    {
      "cell_type": "code",
      "metadata": {
        "colab": {
          "base_uri": "https://localhost:8080/",
          "height": 265
        },
        "id": "NXy1cxkVVDhg",
        "outputId": "b2178cae-1f51-4b0e-90ac-8ab2f628401b"
      },
      "source": [
        "plt.hist(train.Label)\r\n",
        "plt.show()"
      ],
      "execution_count": null,
      "outputs": [
        {
          "output_type": "display_data",
          "data": {
            "image/png": "[encoded data removed]",
            "text/plain": [
              "<Figure size 432x288 with 1 Axes>"
            ]
          },
          "metadata": {
            "tags": [],
            "needs_background": "light"
          }
        }
      ]
    },
    {
      "cell_type": "markdown",
      "metadata": {
        "id": "htlJlh284uJp"
      },
      "source": [
        "# Helper function"
      ]
    },
    {
      "cell_type": "markdown",
      "metadata": {
        "id": "z8yO7UnMsnPM"
      },
      "source": [
        "## CER Checker"
      ]
    },
    {
      "cell_type": "code",
      "metadata": {
        "id": "PrqBIdJExqU2"
      },
      "source": [
        "def evaluate(pred, true):\r\n",
        "    \"\"\"\r\n",
        "    Call cer() on every pair of sentences.\r\n",
        "    Arguments:\r\n",
        "    - pred: list of corrected sentence \r\n",
        "    - true: list of ground truth sentence \r\n",
        "\r\n",
        "    Returns:\r\n",
        "    - average cer score as float\r\n",
        "    \"\"\"\r\n",
        "    sum = 0\r\n",
        "    for i in range(len(pred)):\r\n",
        "        sum += cer(pred[i], true[i])\r\n",
        "    return sum/len(pred)"
      ],
      "execution_count": null,
      "outputs": []
    },
    {
      "cell_type": "code",
      "metadata": {
        "id": "h42ywFZaspsp"
      },
      "source": [
        "def cer(pred, true):\r\n",
        "    \"\"\"\r\n",
        "    Calculation of CER with Levenshtein distance.\r\n",
        "    Arguments:\r\n",
        "    - pred: corrected sentence(list of characters)\r\n",
        "    - true: ground truth sentence(list of characters)\r\n",
        "\r\n",
        "    Returns:\r\n",
        "    - cer score as Integer\r\n",
        "    \"\"\"\r\n",
        "    # init\r\n",
        "    d = np.zeros(((len(true)),(len(pred))), dtype=np.uint8)\r\n",
        "    \r\n",
        "    # computation\r\n",
        "    for i in range(len(true)):\r\n",
        "        for j in range(len(pred)):\r\n",
        "            if true[i-1] == pred[j-1]:\r\n",
        "                d[i][j] = d[i-1][j-1]\r\n",
        "            else:\r\n",
        "                substitution = d[i-1][j-1] + 1\r\n",
        "                insertion    = d[i][j-1] + 1\r\n",
        "                deletion     = d[i-1][j] + 1\r\n",
        "                d[i][j] = min(substitution, insertion, deletion)\r\n",
        "    return d[len(true)-1][len(pred)-1]/len(true)"
      ],
      "execution_count": null,
      "outputs": []
    },
    {
      "cell_type": "code",
      "metadata": {
        "colab": {
          "base_uri": "https://localhost:8080/"
        },
        "id": "EY1TdwpOvX7m",
        "outputId": "99648874-f561-4c37-fadc-e67443e39352"
      },
      "source": [
        "cer(\"ขนอ\", \"ขนาน\")"
      ],
      "execution_count": null,
      "outputs": [
        {
          "output_type": "execute_result",
          "data": {
            "text/plain": [
              "0.5"
            ]
          },
          "metadata": {
            "tags": []
          },
          "execution_count": 14
        }
      ]
    },
    {
      "cell_type": "markdown",
      "metadata": {
        "id": "o4dLzivQzbig"
      },
      "source": [
        "## Create submission"
      ]
    },
    {
      "cell_type": "code",
      "metadata": {
        "id": "JaCjwqtJj6KR"
      },
      "source": [
        "def wordCheck(i, map, message, count):\r\n",
        "    \"\"\"\r\n",
        "        Argument: \r\n",
        "            i = position of word in message\r\n",
        "            message = list of word\r\n",
        "        Return:\r\n",
        "            list of resulted word\r\n",
        "    \"\"\"\r\n",
        "    word = message[i:i+count]\r\n",
        "    # print(word)\r\n",
        "    if tuple(word) in map:\r\n",
        "        # print(\"check:\", count)\r\n",
        "        return True, map[tuple(word)]\r\n",
        "    else:\r\n",
        "        return False, list(word[0:1])"
      ],
      "execution_count": null,
      "outputs": []
    },
    {
      "cell_type": "code",
      "metadata": {
        "id": "NxOYVMY7kW_M"
      },
      "source": [
        "def calculateResult(wordCheckFunc, count, map, data):\r\n",
        "    result = []\r\n",
        "    for message in data:\r\n",
        "        newMessage = []\r\n",
        "        i = 0\r\n",
        "        while i < len(message):\r\n",
        "            check, out = wordCheckFunc(i, map, message, count)\r\n",
        "            newMessage += out\r\n",
        "            if check:\r\n",
        "                i += count\r\n",
        "            else:\r\n",
        "                i += 1\r\n",
        "        result.append(newMessage)\r\n",
        "    return result"
      ],
      "execution_count": null,
      "outputs": []
    },
    {
      "cell_type": "code",
      "metadata": {
        "id": "eqf3DBDuO2eh"
      },
      "source": [
        "def writeSubmission(result, path=\"submission.txt\"):\r\n",
        "    submission = [\"\".join(sentence) for sentence in result]\r\n",
        "    f = open(path, \"wb\")\r\n",
        "    [f.write((i+\"\\n\").encode()) for i in submission]"
      ],
      "execution_count": null,
      "outputs": []
    },
    {
      "cell_type": "markdown",
      "metadata": {
        "id": "fG6OyS81A98A"
      },
      "source": [
        "# Rule-based "
      ]
    },
    {
      "cell_type": "code",
      "metadata": {
        "id": "ehUZ430gA98M"
      },
      "source": [
        "def getMap(row, oneMap, twoMap, threeMap):\r\n",
        "    ic = tuple(row.Incorrect)\r\n",
        "    c = row.Correct\r\n",
        "    if len(ic) == 1:\r\n",
        "        getNMap(ic, c, oneMap)\r\n",
        "    elif len(ic) == 2:\r\n",
        "        getNMap(ic, c, twoMap)\r\n",
        "    elif len(ic) == 3:\r\n",
        "        getNMap(ic, c, threeMap)\r\n",
        "\r\n",
        "def getNMap(incorrect, correct, map):\r\n",
        "    if incorrect not in map:\r\n",
        "        map[incorrect] = [[correct, 1]]\r\n",
        "    else:\r\n",
        "        for correctCount in map[incorrect]:\r\n",
        "            if correctCount[0] == correct:\r\n",
        "                correctCount[1] += 1\r\n",
        "                break\r\n",
        "            else:\r\n",
        "                map[incorrect].append([correct, 1])\r\n",
        "\r\n",
        "def getMaxMap(map, minThresh):\r\n",
        "    max_map = {}\r\n",
        "    for key, value in map.items():\r\n",
        "        current = minThresh\r\n",
        "        for v in value:\r\n",
        "            if v[1] > current:\r\n",
        "                max_map[key] = v[0]\r\n",
        "                current = v[1]\r\n",
        "    return max_map\r\n",
        "\r\n",
        "def removeBadKeys(listOfBad, map):\r\n",
        "    for key in listOfBad:\r\n",
        "        k = tuple([key])\r\n",
        "        map.pop(k, \"print(k)\")"
      ],
      "execution_count": null,
      "outputs": []
    },
    {
      "cell_type": "code",
      "metadata": {
        "colab": {
          "base_uri": "https://localhost:8080/"
        },
        "id": "Y3yqpForsdFU",
        "outputId": "cabeb78a-3e92-48cf-eca1-3f7f44f0307a"
      },
      "source": [
        "for i in range(20):\r\n",
        "    oneMax = getMaxMap(oneMap, i)\r\n",
        "    twoMax = getMaxMap(twoMap, i)\r\n",
        "    threeMax = getMaxMap(threeMap, i)\r\n",
        "    print(i, len(oneMax), len(twoMax), len(threeMax))"
      ],
      "execution_count": null,
      "outputs": [
        {
          "output_type": "stream",
          "text": [
            "0 439 697 194\n",
            "1 265 192 23\n",
            "2 206 108 10\n",
            "3 182 72 6\n",
            "4 163 54 3\n",
            "5 155 43 3\n",
            "6 144 33 2\n",
            "7 132 28 2\n",
            "8 119 21 2\n",
            "9 113 18 1\n",
            "10 104 14 1\n",
            "11 99 12 0\n",
            "12 93 10 0\n",
            "13 89 10 0\n",
            "14 86 9 0\n",
            "15 81 9 0\n",
            "16 79 8 0\n",
            "17 75 8 0\n",
            "18 74 8 0\n",
            "19 70 8 0\n"
          ],
          "name": "stdout"
        }
      ]
    },
    {
      "cell_type": "code",
      "metadata": {
        "colab": {
          "base_uri": "https://localhost:8080/"
        },
        "id": "UnyQEpU-A98O",
        "outputId": "edd7a2fd-9425-48cc-c4e5-bb56ef82bf13"
      },
      "source": [
        "%%time\r\n",
        "oneMap = dict()\r\n",
        "twoMap = dict()\r\n",
        "threeMap = dict()\r\n",
        "train.apply(lambda row: getMap(row, oneMap, twoMap, threeMap), axis=1)\r\n",
        "\r\n",
        "badKeys = [\"เขา\", \"อะ\", \"อยู่\", \"ค่ะ\", \"คะ\",\"ใช่\", \"ใช้\", \"ไม่\", \"ไหม\"]\r\n",
        "removeBadKeys(badKeys, oneMap)\r\n",
        "\r\n",
        "all_map = dict()\r\n",
        "min_score = 100\r\n",
        "min_map = ()\r\n",
        "\r\n",
        "groundTruth = list(train.Corrected)\r\n",
        "trainData = list(train.Message)\r\n",
        "for threeThresh in range(5):\r\n",
        "    for twoThresh in range(5):\r\n",
        "        for oneThresh in [0, 1, 2, 3, 4, 6, 8, 10, 12, 14, 16, 18, 20]:\r\n",
        "            oneMax = getMaxMap(oneMap, oneThresh)\r\n",
        "            twoMax = getMaxMap(twoMap, twoThresh)\r\n",
        "            threeMax = getMaxMap(threeMap, threeThresh)\r\n",
        "\r\n",
        "            result = calculateResult(wordCheck, 3, threeMax, trainData)\r\n",
        "            result = calculateResult(wordCheck, 2, twoMax, result)\r\n",
        "            result = calculateResult(wordCheck, 1, oneMax, result)\r\n",
        "\r\n",
        "            cer_score = evaluate(result, groundTruth)\r\n",
        "\r\n",
        "            # all_map[(threeThresh, twoThresh, oneThresh)] = (cer_score, threeMax, twoMax, oneMax)\r\n",
        "            if cer_score < min_score:\r\n",
        "                min_map = (threeMax, twoMax, oneMax)\r\n",
        "                min_score = cer_score\r\n",
        "            \r\n",
        "            print(\"{}, {}, {}, Score: {}\".format(threeThresh, twoThresh, oneThresh, cer_score))"
      ],
      "execution_count": null,
      "outputs": [
        {
          "output_type": "stream",
          "text": [
            "0, 0, 0, Score: 0.17489818201508564\n",
            "0, 0, 1, Score: 0.13363830166180923\n",
            "0, 0, 2, Score: 0.10926905245478642\n",
            "0, 0, 3, Score: 0.10599653975965657\n",
            "0, 0, 4, Score: 0.10312362738264451\n",
            "0, 0, 6, Score: 0.10141614515160732\n",
            "0, 0, 8, Score: 0.10292581853122854\n",
            "0, 0, 10, Score: 0.10455115080039082\n",
            "0, 0, 12, Score: 0.10443159226044067\n",
            "0, 0, 14, Score: 0.09317188026958183\n",
            "0, 0, 16, Score: 0.09355214540258502\n",
            "0, 0, 18, Score: 0.09392108810776909\n",
            "0, 0, 20, Score: 0.09568071622032083\n",
            "0, 1, 0, Score: 0.17982744463504416\n",
            "0, 1, 1, Score: 0.1390043569749869\n",
            "0, 1, 2, Score: 0.1129777725932923\n",
            "0, 1, 3, Score: 0.10848840300727161\n",
            "0, 1, 4, Score: 0.10596951896303781\n",
            "0, 1, 6, Score: 0.10457273210546775\n",
            "0, 1, 8, Score: 0.10307841697873693\n",
            "0, 1, 10, Score: 0.10496220846841718\n",
            "0, 1, 12, Score: 0.10523233962041756\n",
            "0, 1, 14, Score: 0.0943690263745761\n",
            "0, 1, 16, Score: 0.09502923559127338\n",
            "0, 1, 18, Score: 0.09573134929212837\n",
            "0, 1, 20, Score: 0.09800496581170738\n",
            "0, 2, 0, Score: 0.17999603376037385\n",
            "0, 2, 1, Score: 0.13929206697943758\n",
            "0, 2, 2, Score: 0.11317480327706363\n",
            "0, 2, 3, Score: 0.10868543369104285\n",
            "0, 2, 4, Score: 0.10616654964680913\n",
            "0, 2, 6, Score: 0.10482189954137575\n",
            "0, 2, 8, Score: 0.10342662287618345\n",
            "0, 2, 10, Score: 0.10549939280572451\n",
            "0, 2, 12, Score: 0.10571971904787206\n",
            "0, 2, 14, Score: 0.09510070936396568\n",
            "0, 2, 16, Score: 0.09581113856904801\n",
            "0, 2, 18, Score: 0.09659158560323639\n",
            "0, 2, 20, Score: 0.09895726561487893\n",
            "0, 3, 0, Score: 0.1800072198927445\n",
            "0, 3, 1, Score: 0.13941960897816422\n",
            "0, 3, 2, Score: 0.11330234527579017\n",
            "0, 3, 3, Score: 0.10874405896036356\n",
            "0, 3, 4, Score: 0.10626890507486005\n",
            "0, 3, 6, Score: 0.10487088969048602\n",
            "0, 3, 8, Score: 0.1034941478238286\n",
            "0, 3, 10, Score: 0.10562108442003626\n",
            "0, 3, 12, Score: 0.10598168777537753\n",
            "0, 3, 14, Score: 0.09550436982079444\n",
            "0, 3, 16, Score: 0.09627658474016253\n",
            "0, 3, 18, Score: 0.09705703177435089\n",
            "0, 3, 20, Score: 0.09960100904429071\n",
            "0, 4, 0, Score: 0.1788867805335561\n",
            "0, 4, 1, Score: 0.13836564397795\n",
            "0, 4, 2, Score: 0.11231599932319528\n",
            "0, 4, 3, Score: 0.10780826856332422\n",
            "0, 4, 4, Score: 0.10533311467782061\n",
            "0, 4, 6, Score: 0.10396509929344679\n",
            "0, 4, 8, Score: 0.10239090344968527\n",
            "0, 4, 10, Score: 0.10451784004589311\n",
            "0, 4, 12, Score: 0.10487844340123427\n",
            "0, 4, 14, Score: 0.09453541116093694\n",
            "0, 4, 16, Score: 0.0954568483803361\n",
            "0, 4, 18, Score: 0.0962372954145245\n",
            "0, 4, 20, Score: 0.09886793935113097\n",
            "1, 0, 0, Score: 0.17686300252767453\n",
            "1, 0, 1, Score: 0.13576451887266563\n",
            "1, 0, 2, Score: 0.11143693633230925\n",
            "1, 0, 3, Score: 0.10810712204987778\n",
            "1, 0, 4, Score: 0.10535968586334184\n",
            "1, 0, 6, Score: 0.10370220363230487\n",
            "1, 0, 8, Score: 0.10525057109561992\n",
            "1, 0, 10, Score: 0.1069055357177235\n",
            "1, 0, 12, Score: 0.10685982999162606\n",
            "1, 0, 14, Score: 0.09572182434997371\n",
            "1, 0, 16, Score: 0.09613363710202454\n",
            "1, 0, 18, Score: 0.09671625224588103\n",
            "1, 0, 20, Score: 0.098636991469544\n",
            "1, 1, 0, Score: 0.18195622546509324\n",
            "1, 1, 1, Score: 0.1413538202175892\n",
            "1, 1, 2, Score: 0.11535623583589447\n",
            "1, 1, 3, Score: 0.11098607259908012\n",
            "1, 1, 4, Score: 0.1085676647453226\n",
            "1, 1, 6, Score: 0.10722087788775257\n",
            "1, 1, 8, Score: 0.10589081240027116\n",
            "1, 1, 10, Score: 0.1078392362428928\n",
            "1, 1, 12, Score: 0.108195720208746\n",
            "1, 1, 14, Score: 0.09747911331211088\n",
            "1, 1, 16, Score: 0.09817087014785578\n",
            "1, 1, 18, Score: 0.09908665628738332\n",
            "1, 1, 20, Score: 0.10154138391807345\n",
            "1, 2, 0, Score: 0.18238732715955322\n",
            "1, 2, 1, Score: 0.141913133700261\n",
            "1, 2, 2, Score: 0.1158248699978869\n",
            "1, 2, 3, Score: 0.11145470676107257\n",
            "1, 2, 4, Score: 0.10903629890731505\n",
            "1, 2, 6, Score: 0.10774164880188164\n",
            "1, 2, 8, Score: 0.1065106217759389\n",
            "1, 2, 10, Score: 0.10868016691556409\n",
            "1, 2, 12, Score: 0.10905434597156441\n",
            "1, 2, 14, Score: 0.09861204263686446\n",
            "1, 2, 16, Score: 0.09933318612766111\n",
            "1, 2, 18, Score: 0.10039397226718863\n",
            "1, 2, 20, Score: 0.10294076338994236\n",
            "1, 3, 0, Score: 0.18234888597479657\n",
            "1, 3, 1, Score: 0.14199104838186033\n",
            "1, 3, 2, Score: 0.11590278467948613\n",
            "1, 3, 3, Score: 0.11146370471326593\n",
            "1, 3, 4, Score: 0.10908902701823854\n",
            "1, 3, 6, Score: 0.10775101163386462\n",
            "1, 3, 8, Score: 0.1065385194064567\n",
            "1, 3, 10, Score: 0.1087622312127485\n",
            "1, 3, 12, Score: 0.10928014058508612\n",
            "1, 3, 14, Score: 0.09902286231304291\n",
            "1, 3, 16, Score: 0.09980579151812528\n",
            "1, 3, 18, Score: 0.10086657765765283\n",
            "1, 3, 20, Score: 0.10359166603870383\n",
            "1, 4, 0, Score: 0.18120824459540613\n",
            "1, 4, 1, Score: 0.1409168813614442\n",
            "1, 4, 2, Score: 0.11489623670668918\n",
            "1, 4, 3, Score: 0.11052199801031018\n",
            "1, 4, 4, Score: 0.10814732031528286\n",
            "1, 4, 6, Score: 0.10685359064519476\n",
            "1, 4, 8, Score: 0.10544364444068278\n",
            "1, 4, 10, Score: 0.10766735624697471\n",
            "1, 4, 12, Score: 0.1081852656193123\n",
            "1, 4, 14, Score: 0.0980622730615548\n",
            "1, 4, 16, Score: 0.09899442456666825\n",
            "1, 4, 18, Score: 0.10005521070619577\n",
            "1, 4, 20, Score: 0.10286696575391341\n",
            "2, 0, 0, Score: 0.17720298887466088\n",
            "2, 0, 1, Score: 0.136104505219652\n",
            "2, 0, 2, Score: 0.11177692267929551\n",
            "2, 0, 3, Score: 0.10850484649210222\n",
            "2, 0, 4, Score: 0.10575741030556624\n",
            "2, 0, 6, Score: 0.10409992807452922\n",
            "2, 0, 8, Score: 0.10583845787550668\n",
            "2, 0, 10, Score: 0.10749342249761025\n",
            "2, 0, 12, Score: 0.10744771677151282\n",
            "2, 0, 14, Score: 0.09635213537228476\n",
            "2, 0, 16, Score: 0.09676394812433556\n",
            "2, 0, 18, Score: 0.0973465632681921\n",
            "2, 0, 20, Score: 0.09926730249185503\n",
            "2, 1, 0, Score: 0.18231287847874625\n",
            "2, 1, 1, Score: 0.14171047323124225\n",
            "2, 1, 2, Score: 0.1157128888495474\n",
            "2, 1, 3, Score: 0.11140939227939982\n",
            "2, 1, 4, Score: 0.1089909844256423\n",
            "2, 1, 6, Score: 0.10764419756807221\n",
            "2, 1, 8, Score: 0.1065132229896818\n",
            "2, 1, 10, Score: 0.10846164683230336\n",
            "2, 1, 12, Score: 0.1088181307981565\n",
            "2, 1, 14, Score: 0.0981439481439457\n",
            "2, 1, 16, Score: 0.09883570497969064\n",
            "2, 1, 18, Score: 0.09975149111921815\n",
            "2, 1, 20, Score: 0.10220621874990828\n",
            "2, 2, 0, Score: 0.18272064683987288\n",
            "2, 2, 1, Score: 0.14224645338058073\n",
            "2, 2, 2, Score: 0.11615818967820651\n",
            "2, 2, 3, Score: 0.11185469310805882\n",
            "2, 2, 4, Score: 0.10943628525430135\n",
            "2, 2, 6, Score: 0.10814163514886797\n",
            "2, 2, 8, Score: 0.1071096990320161\n",
            "2, 2, 10, Score: 0.10927924417164127\n",
            "2, 2, 12, Score: 0.10965342322764154\n",
            "2, 2, 14, Score: 0.0992768774686993\n",
            "2, 2, 16, Score: 0.09999802095949593\n",
            "2, 2, 18, Score: 0.10105880709902347\n",
            "2, 2, 20, Score: 0.10360559822177723\n",
            "2, 3, 0, Score: 0.18268220565511625\n",
            "2, 3, 1, Score: 0.14232436806218005\n",
            "2, 3, 2, Score: 0.1162361043598057\n",
            "2, 3, 3, Score: 0.1118636910602522\n",
            "2, 3, 4, Score: 0.10948901336522479\n",
            "2, 3, 6, Score: 0.10815099798085095\n",
            "2, 3, 8, Score: 0.10713759666253388\n",
            "2, 3, 10, Score: 0.10936130846882572\n",
            "2, 3, 12, Score: 0.10987921784116322\n",
            "2, 3, 14, Score: 0.09968769714487774\n",
            "2, 3, 16, Score: 0.10047062634996014\n",
            "2, 3, 18, Score: 0.10153141248948766\n",
            "2, 3, 20, Score: 0.10425650087053859\n",
            "2, 4, 0, Score: 0.18154156427572582\n",
            "2, 4, 1, Score: 0.14125020104176395\n",
            "2, 4, 2, Score: 0.1152295563870089\n",
            "2, 4, 3, Score: 0.11092198435729655\n",
            "2, 4, 4, Score: 0.1085473066622692\n",
            "2, 4, 6, Score: 0.10725357699218102\n",
            "2, 4, 8, Score: 0.10604272169676006\n",
            "2, 4, 10, Score: 0.10826643350305194\n",
            "2, 4, 12, Score: 0.10878434287538946\n",
            "2, 4, 14, Score: 0.0987271078933896\n",
            "2, 4, 16, Score: 0.09965925939850308\n",
            "2, 4, 18, Score: 0.10072004553803063\n",
            "2, 4, 20, Score: 0.10353180058574823\n",
            "3, 0, 0, Score: 0.17735491931549374\n",
            "3, 0, 1, Score: 0.13625643566048487\n",
            "3, 0, 2, Score: 0.1119288531201284\n",
            "3, 0, 3, Score: 0.10872511026626848\n",
            "3, 0, 4, Score: 0.10597767407973252\n",
            "3, 0, 6, Score: 0.10432019184869544\n",
            "3, 0, 8, Score: 0.10605872164967294\n",
            "3, 0, 10, Score: 0.1077136862717765\n",
            "3, 0, 12, Score: 0.10766798054567907\n",
            "3, 0, 14, Score: 0.09657239914645097\n",
            "3, 0, 16, Score: 0.09698421189850177\n",
            "3, 0, 18, Score: 0.09756682704235829\n",
            "3, 0, 20, Score: 0.09948756626602125\n",
            "3, 1, 0, Score: 0.18246480891957914\n",
            "3, 1, 1, Score: 0.14186240367207514\n",
            "3, 1, 2, Score: 0.1158648192903803\n",
            "3, 1, 3, Score: 0.11162965605356603\n",
            "3, 1, 4, Score: 0.10921124819980853\n",
            "3, 1, 6, Score: 0.1078644613422384\n",
            "3, 1, 8, Score: 0.1067334867638481\n",
            "3, 1, 10, Score: 0.10868191060646958\n",
            "3, 1, 12, Score: 0.1090383945723227\n",
            "3, 1, 14, Score: 0.09836421191811191\n",
            "3, 1, 16, Score: 0.09905596875385683\n",
            "3, 1, 18, Score: 0.09997175489338435\n",
            "3, 1, 20, Score: 0.10242648252407448\n",
            "3, 2, 0, Score: 0.18287257728070574\n",
            "3, 2, 1, Score: 0.14239838382141362\n",
            "3, 2, 2, Score: 0.11631012011903935\n",
            "3, 2, 3, Score: 0.11207495688222502\n",
            "3, 2, 4, Score: 0.10965654902846747\n",
            "3, 2, 6, Score: 0.10836189892303423\n",
            "3, 2, 8, Score: 0.10732996280618232\n",
            "3, 2, 10, Score: 0.1094995079458075\n",
            "3, 2, 12, Score: 0.10987368700180777\n",
            "3, 2, 14, Score: 0.0994971412428655\n",
            "3, 2, 16, Score: 0.10021828473366214\n",
            "3, 2, 18, Score: 0.1012790708731897\n",
            "3, 2, 20, Score: 0.10382586199594346\n",
            "3, 3, 0, Score: 0.18283413609594915\n",
            "3, 3, 1, Score: 0.1424762985030129\n",
            "3, 3, 2, Score: 0.11638803480063864\n",
            "3, 3, 3, Score: 0.11208395483441844\n",
            "3, 3, 4, Score: 0.10970927713939099\n",
            "3, 3, 6, Score: 0.10837126175501717\n",
            "3, 3, 8, Score: 0.10735786043670009\n",
            "3, 3, 10, Score: 0.10958157224299186\n",
            "3, 3, 12, Score: 0.1100994816153295\n",
            "3, 3, 14, Score: 0.09990796091904394\n",
            "3, 3, 16, Score: 0.10069089012412635\n",
            "3, 3, 18, Score: 0.10175167626365386\n",
            "3, 3, 20, Score: 0.10447676464470478\n",
            "3, 4, 0, Score: 0.18169349471655868\n",
            "3, 4, 1, Score: 0.14140213148259687\n",
            "3, 4, 2, Score: 0.11538148682784176\n",
            "3, 4, 3, Score: 0.1111422481314628\n",
            "3, 4, 4, Score: 0.10876757043643541\n",
            "3, 4, 6, Score: 0.10747384076634721\n",
            "3, 4, 8, Score: 0.10626298547092626\n",
            "3, 4, 10, Score: 0.10848669727721814\n",
            "3, 4, 12, Score: 0.10900460664955569\n",
            "3, 4, 14, Score: 0.09894737166755582\n",
            "3, 4, 16, Score: 0.09987952317266931\n",
            "3, 4, 18, Score: 0.10094030931219684\n",
            "3, 4, 20, Score: 0.10375206435991446\n",
            "4, 0, 0, Score: 0.17742140772904097\n",
            "4, 0, 1, Score: 0.1363229240740321\n",
            "4, 0, 2, Score: 0.11199534153367566\n",
            "4, 0, 3, Score: 0.10879159867981573\n",
            "4, 0, 4, Score: 0.10604416249327973\n",
            "4, 0, 6, Score: 0.10438668026224265\n",
            "4, 0, 8, Score: 0.10612521006322014\n",
            "4, 0, 10, Score: 0.10778017468532373\n",
            "4, 0, 12, Score: 0.10773446895922632\n",
            "4, 0, 14, Score: 0.09663888755999821\n",
            "4, 0, 16, Score: 0.097050700312049\n",
            "4, 0, 18, Score: 0.09763331545590552\n",
            "4, 0, 20, Score: 0.09955405467956847\n",
            "4, 1, 0, Score: 0.18252220642403544\n",
            "4, 1, 1, Score: 0.1419198011765315\n",
            "4, 1, 2, Score: 0.11592221679483666\n",
            "4, 1, 3, Score: 0.11168705355802233\n",
            "4, 1, 4, Score: 0.10926864570426482\n",
            "4, 1, 6, Score: 0.10792185884669472\n",
            "4, 1, 8, Score: 0.10679088426830442\n",
            "4, 1, 10, Score: 0.10873930811092587\n",
            "4, 1, 12, Score: 0.10909579207677902\n",
            "4, 1, 14, Score: 0.09842160942256824\n",
            "4, 1, 16, Score: 0.09911336625831316\n",
            "4, 1, 18, Score: 0.10002915239784067\n",
            "4, 1, 20, Score: 0.1024838800285308\n",
            "4, 2, 0, Score: 0.18292997478516204\n",
            "4, 2, 1, Score: 0.14245578132586995\n",
            "4, 2, 2, Score: 0.1163675176234957\n",
            "4, 2, 3, Score: 0.11213235438668134\n",
            "4, 2, 4, Score: 0.1097139465329238\n",
            "4, 2, 6, Score: 0.10841929642749053\n",
            "4, 2, 8, Score: 0.10738736031063861\n",
            "4, 2, 10, Score: 0.10955690545026378\n",
            "4, 2, 12, Score: 0.10993108450626407\n",
            "4, 2, 14, Score: 0.09955453874732184\n",
            "4, 2, 16, Score: 0.10027568223811846\n",
            "4, 2, 18, Score: 0.10133646837764602\n",
            "4, 2, 20, Score: 0.10388325950039975\n",
            "4, 3, 0, Score: 0.18289153360040547\n",
            "4, 3, 1, Score: 0.1425336960074693\n",
            "4, 3, 2, Score: 0.11644543230509496\n",
            "4, 3, 3, Score: 0.1121413523388747\n",
            "4, 3, 4, Score: 0.10976667464384735\n",
            "4, 3, 6, Score: 0.10842865925947347\n",
            "4, 3, 8, Score: 0.10741525794115638\n",
            "4, 3, 10, Score: 0.10963896974744819\n",
            "4, 3, 12, Score: 0.11015687911978582\n",
            "4, 3, 14, Score: 0.09996535842350027\n",
            "4, 3, 16, Score: 0.10074828762858266\n",
            "4, 3, 18, Score: 0.10180907376811019\n",
            "4, 3, 20, Score: 0.1045341621491611\n",
            "4, 4, 0, Score: 0.181750892221015\n",
            "4, 4, 1, Score: 0.14145952898705322\n",
            "4, 4, 2, Score: 0.11543888433229806\n",
            "4, 4, 3, Score: 0.11119964563591911\n",
            "4, 4, 4, Score: 0.10882496794089172\n",
            "4, 4, 6, Score: 0.10753123827080353\n",
            "4, 4, 8, Score: 0.10632038297538259\n",
            "4, 4, 10, Score: 0.10854409478167446\n",
            "4, 4, 12, Score: 0.10906200415401202\n",
            "4, 4, 14, Score: 0.09900476917201215\n",
            "4, 4, 16, Score: 0.09993692067712562\n",
            "4, 4, 18, Score: 0.10099770681665315\n",
            "4, 4, 20, Score: 0.10380946186437079\n",
            "CPU times: user 1h 11min 10s, sys: 849 ms, total: 1h 11min 10s\n",
            "Wall time: 1h 11min 17s\n"
          ],
          "name": "stdout"
        }
      ]
    },
    {
      "cell_type": "code",
      "metadata": {
        "colab": {
          "base_uri": "https://localhost:8080/"
        },
        "id": "9Uz4--wrEzyT",
        "outputId": "03d084ce-ac28-435c-f298-45ec34d41665"
      },
      "source": [
        "print(min_score)"
      ],
      "execution_count": null,
      "outputs": [
        {
          "output_type": "stream",
          "text": [
            "0.09317188026958183\n"
          ],
          "name": "stdout"
        }
      ]
    },
    {
      "cell_type": "markdown",
      "metadata": {
        "id": "rFuXlsHkA98Q"
      },
      "source": [
        "## Submission"
      ]
    },
    {
      "cell_type": "code",
      "metadata": {
        "id": "3BPvzcoRA98Q"
      },
      "source": [
        "result = calculateResult(wordCheck, 3, min_map[0], x_test)\r\n",
        "result = calculateResult(wordCheck, 2, min_map[1], result)\r\n",
        "submission = calculateResult(wordCheck, 1, min_map[2], result)\r\n",
        "writeSubmission(submission, \"ruleBased.txt\")"
      ],
      "execution_count": null,
      "outputs": []
    },
    {
      "cell_type": "code",
      "metadata": {
        "colab": {
          "base_uri": "https://localhost:8080/"
        },
        "id": "mJWxN5qgwWK2",
        "outputId": "fcb5db7b-0f8a-45fe-93e4-f9712741ba9d"
      },
      "source": [
        "len(submission)"
      ],
      "execution_count": null,
      "outputs": [
        {
          "output_type": "execute_result",
          "data": {
            "text/plain": [
              "5597"
            ]
          },
          "metadata": {
            "tags": []
          },
          "execution_count": 257
        }
      ]
    }
  ]
}