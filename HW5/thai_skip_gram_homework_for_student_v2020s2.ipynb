{
  "nbformat": 4,
  "nbformat_minor": 0,
  "metadata": {
    "anaconda-cloud": {},
    "kernelspec": {
      "name": "python3",
      "display_name": "Python 3"
    },
    "language_info": {
      "codemirror_mode": {
        "name": "ipython",
        "version": 3
      },
      "file_extension": ".py",
      "mimetype": "text/x-python",
      "name": "python",
      "nbconvert_exporter": "python",
      "pygments_lexer": "ipython3",
      "version": "3.5.2"
    },
    "colab": {
      "name": "thai_skip_gram_homework_for_student_v2020s2.ipynb",
      "provenance": [],
      "collapsed_sections": [],
      "machine_shape": "hm"
    },
    "accelerator": "GPU"
  },
  "cells": [
    {
      "cell_type": "markdown",
      "metadata": {
        "id": "ko8K6ntRi-W6"
      },
      "source": [
        "# Homework: Word Embedding\n",
        "\n",
        "In this exercise, you will work on the skip-gram neural network architecture for Word2Vec. You will be using Keras to train your model. \n",
        "\n",
        "You must complete the following tasks:\n",
        "1. Read/clean text files\n",
        "2. Indexing (Assign a number to each word)\n",
        "3. Create skip-grams (inputs for your model)\n",
        "4. Create the skip-gram neural network model\n",
        "5. Visualization\n",
        "6. Evaluation (Using pre-trained, not using pre-trained)\n",
        "    (classify topic from 4 categories) \n",
        "    \n",
        "This notebook assumes you have already installed Tensorflow and Keras with python3 and had GPU enabled. If you run this exercise on GCloud using the provided disk image you are all set.\n",
        "\n"
      ]
    },
    {
      "cell_type": "code",
      "metadata": {
        "id": "Jw11OhLsi-W8"
      },
      "source": [
        "%tensorflow_version 2.x\n",
        "%matplotlib inline\n",
        "import numpy as np\n",
        "import pandas as pd\n",
        "import math\n",
        "import glob\n",
        "import re\n",
        "import random\n",
        "import collections\n",
        "import os\n",
        "import sys\n",
        "import tensorflow as tf\n",
        "from tensorflow.keras.preprocessing import sequence\n",
        "from tensorflow.keras.models import Sequential, Model\n",
        "from tensorflow.keras.layers import GRU, Dropout\n",
        "from tensorflow.keras.models import load_model\n",
        "from tensorflow.keras.layers import Embedding, Reshape, Activation, Input, Dense, Masking, Conv1D, Bidirectional\n",
        "from tensorflow.python.keras.layers.merge import Dot\n",
        "from tensorflow.python.keras.utils import np_utils\n",
        "from tensorflow.python.keras.utils.data_utils import get_file\n",
        "from tensorflow.python.keras.utils.np_utils import to_categorical\n",
        "from tensorflow.keras.preprocessing.sequence import skipgrams\n",
        "from tensorflow.keras.preprocessing import sequence\n",
        "from tensorflow.keras import backend as K\n",
        "from tensorflow.keras.optimizers import Adam\n",
        "\n",
        "random.seed(42)"
      ],
      "execution_count": null,
      "outputs": []
    },
    {
      "cell_type": "markdown",
      "metadata": {
        "id": "RdYpL3Uyi-XD"
      },
      "source": [
        "# Step 1: Read/clean text files\n",
        "\n",
        "The given code can be used to processed the pre-tokenzied text file from the wikipedia corpus. In your homework, you must replace those text files with raw text files.  You must use your own tokenizer to process your text files"
      ]
    },
    {
      "cell_type": "code",
      "metadata": {
        "id": "Wco1eVRVzn6O"
      },
      "source": [
        "!wget https://www.dropbox.com/s/eexden7246sgfzf/BEST-TrainingSet.zip\n",
        "!wget https://www.dropbox.com/s/n87fiy25f2yc3gt/wiki.zip\n",
        "!unzip wiki.zip\n",
        "!unzip BEST-TrainingSet.zip"
      ],
      "execution_count": null,
      "outputs": []
    },
    {
      "cell_type": "code",
      "metadata": {
        "id": "s0ALwvtzDZ-f"
      },
      "source": [
        "#Step 1: read the wikipedia text file\n",
        "with open(\"wiki/thwiki_chk.txt\") as f:\n",
        "    #the delimiter is one or more whitespace characters\n",
        "    input_text = re.compile(r\"\\s+\").split(f.read()) \n",
        "    #exclude an empty string from our input\n",
        "    input_text = [word for word in input_text if word != ''] "
      ],
      "execution_count": null,
      "outputs": []
    },
    {
      "cell_type": "code",
      "metadata": {
        "id": "KXoFAfjaDcJ2"
      },
      "source": [
        "tokens = input_text\n",
        "print(tokens[:10])\n",
        "print(\"total word count:\", len(tokens))"
      ],
      "execution_count": null,
      "outputs": []
    },
    {
      "cell_type": "markdown",
      "metadata": {
        "id": "GDVMvTRci-Xu"
      },
      "source": [
        "# Step 2: Indexing (Assign a number to each word)\n",
        "\n",
        "The code below generates an indexed dataset(each word is represented by a number), a dictionary, a reversed dictionary\n",
        "\n",
        "## <font color='blue'>Homework Question 1:</font>\n",
        "<font color='blue'>“UNK” is often used to represent an unknown word (a word which does not exist in your dictionary/training set). You can also represent a rare word with this token as well.  How do you define a rare word in your program? Explain in your own words and capture the screenshot of your code segment that is a part of this process</font>\n",
        "\n",
        " + <font color='blue'>edit or replace create_index with your own code to set a threshold for rare words and replace them with \"UNK\"</font>"
      ]
    },
    {
      "cell_type": "code",
      "metadata": {
        "id": "O6NP7nQGi-Xw"
      },
      "source": [
        "#step 2:Build dictionary and build a dataset(replace each word with its index)\n",
        "def create_index(input_text, min_thres_unk = 0, max_word_count = None):\n",
        "    # TODO#1 : edit or replace this function\n",
        "    words = [word for word in input_text ]\n",
        "    word_count = list()\n",
        "\n",
        "    #use set and len to get the number of unique words\n",
        "    word_count.extend(collections.Counter(words).most_common(len(set(words))))\n",
        "    #include a token for unknown word\n",
        "    word_count.append((\"UNK\",0))\n",
        "    #print out 10 most frequent words\n",
        "    print(word_count[:10])\n",
        "\n",
        "    dictionary = dict()\n",
        "    dictionary[\"for_keras_zero_padding\"] = 0\n",
        "    for word in word_count:\n",
        "        dictionary[word[0]] = len(dictionary)\n",
        "    reverse_dictionary = dict(zip(dictionary.values(), dictionary.keys()))\n",
        "    data = list()\n",
        "    for word in input_text:\n",
        "        data.append(dictionary[word])\n",
        "\n",
        "    return data,dictionary, reverse_dictionary\n",
        "\n",
        "# call method with min_thres_unk=1ß\n",
        "dataset, dictionary, reverse_dictionary = create_index(tokens, 1)\n",
        "print(len(dataset))\n",
        "print(len(dictionary))"
      ],
      "execution_count": null,
      "outputs": []
    },
    {
      "cell_type": "code",
      "metadata": {
        "id": "2fotaYMgi-Xz"
      },
      "source": [
        "print(\"output sample (dataset):\",dataset[:10])\n",
        "print(\"output sample (dictionary):\",{k: dictionary[k] for k in list(dictionary)[:10]})\n",
        "print(\"output sample (reverse dictionary):\",{k: reverse_dictionary[k] for k in list(reverse_dictionary)[:10]})"
      ],
      "execution_count": null,
      "outputs": []
    },
    {
      "cell_type": "markdown",
      "metadata": {
        "id": "HutTzPO7i-X3"
      },
      "source": [
        "# Step3: Create skip-grams (inputs for your model)\n",
        "Keras has a skipgrams-generator, the cell below shows us how it generates skipgrams \n",
        "\n",
        "## <font color='blue'>Homework Question 2:</font>\n",
        "<font color='blue'>The negative samples are sampled from sampling_table.  Look through Keras source code to find out how they sample negative samples. Discuss the sampling technique taught in class and compare it to the Keras source code.</font>\n",
        "\n"
      ]
    },
    {
      "cell_type": "markdown",
      "metadata": {
        "id": "cwYFRO3YGryQ"
      },
      "source": [
        "<font color='red'>Q2: PUT YOUR ANSER HERE!!!</font>"
      ]
    },
    {
      "cell_type": "code",
      "metadata": {
        "id": "C520WnI0i-X4"
      },
      "source": [
        "# Step 3: Create data samples\n",
        "vocab_size = len(dictionary)\n",
        "skip_window = 1       # How many words to consider left and right.\n",
        "\n",
        "# TODO#2 check out keras source code and find out how their sampling technique works. Describe it in your own words.\n",
        "sample_set= dataset[:10]\n",
        "sampling_table = sequence.make_sampling_table(vocab_size)\n",
        "couples, labels = skipgrams(sample_set, vocab_size, window_size=skip_window, sampling_table=sampling_table)\n",
        "word_target, word_context = zip(*couples)\n",
        "word_target = np.array(word_target, dtype=\"int32\")\n",
        "word_context = np.array(word_context, dtype=\"int32\")\n",
        "\n",
        "print(couples, labels)\n",
        "\n",
        "for i in range(8):\n",
        "    print(reverse_dictionary[couples[i][0]],reverse_dictionary[couples[i][1]])\n",
        "\n"
      ],
      "execution_count": null,
      "outputs": []
    },
    {
      "cell_type": "markdown",
      "metadata": {
        "id": "F6UL0FhEi-X6"
      },
      "source": [
        "# Step 4: create the skip-gram model\n",
        "## <font color='blue'>Homework Question 3:</font>\n",
        " <font color='blue'>Q3:  In your own words, discuss why Sigmoid is chosen as the activation function in the  skip-gram model.</font>"
      ]
    },
    {
      "cell_type": "markdown",
      "metadata": {
        "id": "-oQLGkkuHG7o"
      },
      "source": [
        "<font color='red'>Q3: PUT YOUR ANSER HERE!!!</font>"
      ]
    },
    {
      "cell_type": "code",
      "metadata": {
        "id": "kq7Eh9pXi-X7"
      },
      "source": [
        "#reference: https://github.com/nzw0301/keras-examples/blob/master/Skip-gram-with-NS.ipynb\n",
        "dim_embedddings = 32\n",
        "V= len(dictionary)\n",
        "\n",
        "#step1: select the embedding of the target word from W\n",
        "w_inputs = Input(shape=(1, ), dtype='int32')\n",
        "w = Embedding(V+1, dim_embedddings)(w_inputs)\n",
        "\n",
        "#step2: select the embedding of the context word from C\n",
        "c_inputs = Input(shape=(1, ), dtype='int32')\n",
        "c  = Embedding(V+1, dim_embedddings)(c_inputs)\n",
        "\n",
        "#step3: compute the dot product:c_k*v_j\n",
        "o = Dot(axes=2)([w, c])\n",
        "o = Reshape((1,), input_shape=(1, 1))(o)\n",
        "\n",
        "#step4: normailize dot products into probability\n",
        "o = Activation('sigmoid')(o)\n",
        "#TO DO#4 Question: Why sigmoid?\n",
        "\n",
        "SkipGram = Model(inputs=[w_inputs, c_inputs], outputs=o)\n",
        "SkipGram.summary()\n",
        "opt=Adam(lr=0.01)\n",
        "SkipGram.compile(loss='binary_crossentropy', optimizer=opt)"
      ],
      "execution_count": null,
      "outputs": []
    },
    {
      "cell_type": "code",
      "metadata": {
        "id": "MgR5p_h1i-X9"
      },
      "source": [
        "# you don't have to spend too much time training for your homework, you are allowed to do it on a smaller corpus\n",
        "# currently the dataset is 1/20 of the full text file.\n",
        "for _ in range(5):\n",
        "    prev_i=0\n",
        "    #it is likely that your GPU won't be able to handle large input\n",
        "    #just do it 100000 words at a time\n",
        "    for i in range(len(dataset)//100000):\n",
        "        #generate skipgrams\n",
        "        data, labels = skipgrams(sequence=dataset[prev_i*100000:(i*100000)+100000], vocabulary_size=V, window_size=2, negative_samples=4.)\n",
        "        x = [np.array(x) for x in zip(*data)]\n",
        "        y = np.array(labels, dtype=np.int32)\n",
        "        if x:\n",
        "            loss = SkipGram.train_on_batch(x, y)\n",
        "        prev_i = i \n",
        "        print(loss,i*100000)\n"
      ],
      "execution_count": null,
      "outputs": []
    },
    {
      "cell_type": "code",
      "metadata": {
        "id": "sY69_WFHi-X_"
      },
      "source": [
        "SkipGram.save_weights('my_skipgram32_weights-hw.h5')"
      ],
      "execution_count": null,
      "outputs": []
    },
    {
      "cell_type": "code",
      "metadata": {
        "scrolled": true,
        "id": "7UD13eKki-YA"
      },
      "source": [
        "#Get weight of the embedding layer\n",
        "final_embeddings=SkipGram.get_weights()[0]\n",
        "print(final_embeddings)\n",
        "print(final_embeddings.shape)"
      ],
      "execution_count": null,
      "outputs": []
    },
    {
      "cell_type": "markdown",
      "metadata": {
        "id": "8ovPmh6Ri-YC"
      },
      "source": [
        "# Step 5: Intrinsic Evaluation: Word Vector Analogies\n",
        "## <font color='blue'>Homework Question 4: </font>\n",
        "<font color='blue'> Read section 2.1 and 2.3 in this [lecture note](http://web.stanford.edu/class/cs224n/readings/cs224n-2019-notes02-wordvecs2.pdf). Come up with 10 semantic analogy examples and report results produced by your word embeddings </font>\n"
      ]
    },
    {
      "cell_type": "code",
      "metadata": {
        "id": "k8rTxYaLi-YD"
      },
      "source": [
        "# TODO#4:Come up with 10 semantic analogy examples and report results produced by your word embeddings \n",
        "#and tell us what you observe "
      ],
      "execution_count": null,
      "outputs": []
    },
    {
      "cell_type": "markdown",
      "metadata": {
        "id": "sLqG8WaNi-YE"
      },
      "source": [
        "# Step 6: Extrinsic Evaluation\n",
        "\n",
        "## <font color='blue'>Homework Question5:</font>\n",
        "<font color='blue'>\n",
        "Use the word embeddings from the skip-gram model as pre-trained weights in a classification model. Compare the result the with the same classification model that does not use the pre-trained weights. \n",
        "</font>\n"
      ]
    },
    {
      "cell_type": "code",
      "metadata": {
        "id": "dBPutcxEi-YF"
      },
      "source": [
        "all_news_filepath = glob.glob('BEST-TrainingSet/news/*.txt')\n",
        "all_novel_filepath = glob.glob('BEST-TrainingSet/novel/*.txt')\n",
        "all_article_filepath = glob.glob('BEST-TrainingSet/article/*.txt')\n",
        "all_encyclopedia_filepath = glob.glob('BEST-TrainingSet/encyclopedia/*.txt')"
      ],
      "execution_count": null,
      "outputs": []
    },
    {
      "cell_type": "code",
      "metadata": {
        "id": "ZaX-L5n4i-YG"
      },
      "source": [
        "#preparing data for the classificaiton model\n",
        "#In your homework, we will only use the first 2000 words in each text file\n",
        "#any text file that has less than 2000 words will be padded\n",
        "#reason:just to make this homework feasible under limited time and resource\n",
        "max_length = 2000\n",
        "def word_to_index(word):\n",
        "    if word in dictionary:\n",
        "        return dictionary[word]\n",
        "    else:#if unknown\n",
        "        return dictionary[\"UNK\"]\n",
        "\n",
        "\n",
        "def prep_data():\n",
        "    input_text = list()\n",
        "    for textfile_path in [all_news_filepath, all_novel_filepath, all_article_filepath, all_encyclopedia_filepath]:\n",
        "        for input_file in textfile_path:\n",
        "            f = open(input_file,\"r\") #open file with name of \"*.txt\"\n",
        "            text = re.sub(r'\\|', ' ', f.read()) # replace separation symbol with white space           \n",
        "            text = re.sub(r'<\\W?\\w+>', '', text)# remove <NE> </NE> <AB> </AB> tags\n",
        "            text = text.split() #split() method without an argument splits on whitespace \n",
        "            indexed_text = list(map(lambda x:word_to_index(x), text[:max_length])) #map raw word string to its index   \n",
        "            if 'news' in input_file:\n",
        "                input_text.append([indexed_text,0]) \n",
        "            elif 'novel' in input_file:\n",
        "                input_text.append([indexed_text,1]) \n",
        "            elif 'article' in input_file:\n",
        "                input_text.append([indexed_text,2]) \n",
        "            elif 'encyclopedia' in input_file:\n",
        "                input_text.append([indexed_text,3]) \n",
        "            \n",
        "            f.close()\n",
        "    random.shuffle(input_text)\n",
        "    return input_text\n",
        "\n",
        "input_data = prep_data()\n",
        "train_data = input_data[:int(len(input_data)*0.6)]\n",
        "val_data = input_data[int(len(input_data)*0.6):int(len(input_data)*0.8)]\n",
        "test_data = input_data[int(len(input_data)*0.8):]\n",
        "\n",
        "train_input = [data[0] for data in train_data]\n",
        "train_input = sequence.pad_sequences(train_input, maxlen=max_length) #padding\n",
        "train_target = [data[1] for data in train_data]\n",
        "train_target=to_categorical(train_target, num_classes=4)\n",
        "\n",
        "val_input = [data[0] for data in val_data]\n",
        "val_input = sequence.pad_sequences(val_input, maxlen=max_length) #padding\n",
        "val_target = [data[1] for data in val_data]\n",
        "val_target=to_categorical(val_target, num_classes=4)\n",
        "\n",
        "test_input = [data[0] for data in test_data]\n",
        "test_input = sequence.pad_sequences(test_input, maxlen=max_length) #padding\n",
        "test_target = [data[1] for data in test_data]\n",
        "test_target=to_categorical(test_target, num_classes=4)\n",
        "\n",
        "del input_data, val_data,train_data, test_data"
      ],
      "execution_count": null,
      "outputs": []
    },
    {
      "cell_type": "code",
      "metadata": {
        "id": "syrKnUxWi-YI"
      },
      "source": [
        "#the classification model\n",
        "#TODO#5 find out how to initialize your embedding layer with pre-trained weights, evaluate and observe\n",
        "#don't forget to compare it with the same model that does not use pre-trained weights\n",
        "#you can use your own model too! and feel free to customize this model as you wish\n",
        "cls_model = Sequential()\n",
        "cls_model.add(Embedding(len(dictionary)+1, 32, input_length=max_length,mask_zero=True))\n",
        "cls_model.add(GRU(32))\n",
        "cls_model.add(Dropout(0.5))\n",
        "cls_model.add(Dense(4, activation='softmax'))\n",
        "opt=Adam(lr=0.01)\n",
        "cls_model.compile(loss='categorical_crossentropy', optimizer=opt, metrics=['accuracy'])\n",
        "cls_model.summary()\n",
        "print('Train...')\n",
        "cls_model.fit(train_input, train_target,\n",
        "          epochs=10,\n",
        "          validation_data=[val_input, val_target])"
      ],
      "execution_count": null,
      "outputs": []
    },
    {
      "cell_type": "code",
      "metadata": {
        "id": "4t_dK8l9H92h"
      },
      "source": [
        "results = cls_model.evaluate(test_input, test_target)\n",
        "print(\"test loss, test acc:\", results)"
      ],
      "execution_count": null,
      "outputs": []
    },
    {
      "cell_type": "code",
      "metadata": {
        "id": "4wZU9eEkHy2i"
      },
      "source": [
        ""
      ],
      "execution_count": null,
      "outputs": []
    }
  ]
}