{
  "nbformat": 4,
  "nbformat_minor": 0,
  "metadata": {
    "kernelspec": {
      "display_name": "Python 3",
      "language": "python",
      "name": "python3"
    },
    "language_info": {
      "codemirror_mode": {
        "name": "ipython",
        "version": 3
      },
      "file_extension": ".py",
      "mimetype": "text/x-python",
      "name": "python",
      "nbconvert_exporter": "python",
      "pygments_lexer": "ipython3",
      "version": "3.5.2"
    },
    "colab": {
      "name": "hw6_text_classification.ipynb",
      "provenance": [],
      "collapsed_sections": [],
      "toc_visible": true,
      "include_colab_link": true
    },
    "accelerator": "GPU"
  },
  "cells": [
    {
      "cell_type": "markdown",
      "metadata": {
        "id": "view-in-github",
        "colab_type": "text"
      },
      "source": [
        "<a href=\"https://colab.research.google.com/github/chantmk/NLP_2021/blob/main/HW6/hw6_text_classification_finished.ipynb\" target=\"_parent\"><img src=\"https://colab.research.google.com/assets/colab-badge.svg\" alt=\"Open In Colab\"/></a>"
      ]
    },
    {
      "cell_type": "markdown",
      "metadata": {
        "id": "VQ8FRFIYMc5X"
      },
      "source": [
        "# HOMEWORK 5: TEXT CLASSIFICATION\n",
        "In this homework, you will create models to classify texts from TRUE call-center. There are two classification tasks:\n",
        "1. Action Classification: Identify which action the customer would like to take (e.g. enquire, report, cancle)\n",
        "2. Object Classification: Identify which object the customer is referring to (e.g. payment, truemoney, internet, roaming) \n",
        "\n",
        "In this homework, you are asked to do the following tasks:\n",
        "1. Data Cleaning\n",
        "2. Preprocessing data for keras\n",
        "3. Build and evaluate a model for \"action\" classification\n",
        "4. Build and evaluate a model for \"object\" classification\n",
        "5. Build and evaluate a multi-task model that does both \"action\" and \"object\" classifications in one-go \n",
        "\n",
        "\n",
        "Note: we have removed phone numbers from the dataset for privacy purposes. "
      ]
    },
    {
      "cell_type": "code",
      "metadata": {
        "id": "kHqkFSyaNvOt",
        "colab": {
          "base_uri": "https://localhost:8080/"
        },
        "outputId": "69eabdc5-c154-43df-e094-acf94ec2e4b3"
      },
      "source": [
        "!wget --no-check-certificate https://www.dropbox.com/s/37u83g55p19kvrl/clean-phone-data-for-students.csv"
      ],
      "execution_count": 1,
      "outputs": [
        {
          "output_type": "stream",
          "text": [
            "--2021-02-27 07:34:36--  https://www.dropbox.com/s/37u83g55p19kvrl/clean-phone-data-for-students.csv\n",
            "Resolving www.dropbox.com (www.dropbox.com)... 162.125.6.18, 2620:100:601c:18::a27d:612\n",
            "Connecting to www.dropbox.com (www.dropbox.com)|162.125.6.18|:443... connected.\n",
            "HTTP request sent, awaiting response... 301 Moved Permanently\n",
            "Location: /s/raw/37u83g55p19kvrl/clean-phone-data-for-students.csv [following]\n",
            "--2021-02-27 07:34:36--  https://www.dropbox.com/s/raw/37u83g55p19kvrl/clean-phone-data-for-students.csv\n",
            "Reusing existing connection to www.dropbox.com:443.\n",
            "HTTP request sent, awaiting response... 302 Found\n",
            "Location: https://uc0eba5ff79bce0641717c45d4d6.dl.dropboxusercontent.com/cd/0/inline/BJs0uZ4isV5RqP1glbEwLwSvZUqlDKT1YXtB1BA1A1F7t6Le6Y4iGXmVZI-I_EFdHEucc-IFKCskruExy27YXx2StF33S5nKKr98ltHz9JbiXw/file# [following]\n",
            "--2021-02-27 07:34:37--  https://uc0eba5ff79bce0641717c45d4d6.dl.dropboxusercontent.com/cd/0/inline/BJs0uZ4isV5RqP1glbEwLwSvZUqlDKT1YXtB1BA1A1F7t6Le6Y4iGXmVZI-I_EFdHEucc-IFKCskruExy27YXx2StF33S5nKKr98ltHz9JbiXw/file\n",
            "Resolving uc0eba5ff79bce0641717c45d4d6.dl.dropboxusercontent.com (uc0eba5ff79bce0641717c45d4d6.dl.dropboxusercontent.com)... 162.125.6.15, 2620:100:601c:15::a27d:60f\n",
            "Connecting to uc0eba5ff79bce0641717c45d4d6.dl.dropboxusercontent.com (uc0eba5ff79bce0641717c45d4d6.dl.dropboxusercontent.com)|162.125.6.15|:443... connected.\n",
            "HTTP request sent, awaiting response... 200 OK\n",
            "Length: 2518977 (2.4M) [text/plain]\n",
            "Saving to: ‘clean-phone-data-for-students.csv’\n",
            "\n",
            "clean-phone-data-fo 100%[===================>]   2.40M  --.-KB/s    in 0.02s   \n",
            "\n",
            "2021-02-27 07:34:37 (117 MB/s) - ‘clean-phone-data-for-students.csv’ saved [2518977/2518977]\n",
            "\n"
          ],
          "name": "stdout"
        }
      ]
    },
    {
      "cell_type": "markdown",
      "metadata": {
        "id": "2YprqbOPMc5a"
      },
      "source": [
        "## Import Libs"
      ]
    },
    {
      "cell_type": "code",
      "metadata": {
        "id": "heICP79cMc5e"
      },
      "source": [
        "%matplotlib inline\n",
        "import pandas\n",
        "import sklearn\n",
        "from sklearn.model_selection import train_test_split\n",
        "from sklearn.naive_bayes import MultinomialNB\n",
        "import numpy as np\n",
        "from IPython.display import display\n",
        "\n",
        "import matplotlib.pyplot as plt\n",
        "\n",
        "from tensorflow.keras.utils import to_categorical\n",
        "from tensorflow.keras.models import Model\n",
        "from tensorflow.keras.layers import Input, Dense, GRU, Embedding\n",
        "from tensorflow.keras.optimizers import Adam\n",
        "\n",
        "import random\n",
        "random.seed(11)"
      ],
      "execution_count": 2,
      "outputs": []
    },
    {
      "cell_type": "markdown",
      "metadata": {
        "id": "GPaUf4PLMc5k"
      },
      "source": [
        "## Loading data\n",
        "First, we load the data from disk into a Dataframe.\n",
        "\n",
        "A Dataframe is essentially a table, or 2D-array/Matrix with a name for each column."
      ]
    },
    {
      "cell_type": "code",
      "metadata": {
        "id": "JhZ2eBAWMc5l"
      },
      "source": [
        "data_df = pandas.read_csv('clean-phone-data-for-students.csv')"
      ],
      "execution_count": 3,
      "outputs": []
    },
    {
      "cell_type": "markdown",
      "metadata": {
        "id": "cje3yruTMc5p"
      },
      "source": [
        "Let's preview the data."
      ]
    },
    {
      "cell_type": "code",
      "metadata": {
        "id": "aNqRNz1PMc5q",
        "colab": {
          "base_uri": "https://localhost:8080/",
          "height": 344
        },
        "outputId": "8d70d6d2-fa01-4dd8-fcf7-53238b3cb889"
      },
      "source": [
        "# Show the top 5 rows\n",
        "display(data_df.head())\n",
        "# Summarize the data\n",
        "data_df.describe()"
      ],
      "execution_count": 4,
      "outputs": [
        {
          "output_type": "display_data",
          "data": {
            "text/html": [
              "<div>\n",
              "<style scoped>\n",
              "    .dataframe tbody tr th:only-of-type {\n",
              "        vertical-align: middle;\n",
              "    }\n",
              "\n",
              "    .dataframe tbody tr th {\n",
              "        vertical-align: top;\n",
              "    }\n",
              "\n",
              "    .dataframe thead th {\n",
              "        text-align: right;\n",
              "    }\n",
              "</style>\n",
              "<table border=\"1\" class=\"dataframe\">\n",
              "  <thead>\n",
              "    <tr style=\"text-align: right;\">\n",
              "      <th></th>\n",
              "      <th>Sentence Utterance</th>\n",
              "      <th>Action</th>\n",
              "      <th>Object</th>\n",
              "    </tr>\n",
              "  </thead>\n",
              "  <tbody>\n",
              "    <tr>\n",
              "      <th>0</th>\n",
              "      <td>&lt;PHONE_NUMBER_REMOVED&gt; ผมไปจ่ายเงินที่ Counte...</td>\n",
              "      <td>enquire</td>\n",
              "      <td>payment</td>\n",
              "    </tr>\n",
              "    <tr>\n",
              "      <th>1</th>\n",
              "      <td>internet ยังความเร็วอยุ่เท่าไหร ครับ</td>\n",
              "      <td>enquire</td>\n",
              "      <td>package</td>\n",
              "    </tr>\n",
              "    <tr>\n",
              "      <th>2</th>\n",
              "      <td>ตะกี้ไปชำระค่าบริการไปแล้ว แต่ยังใช้งานไม่ได้...</td>\n",
              "      <td>report</td>\n",
              "      <td>suspend</td>\n",
              "    </tr>\n",
              "    <tr>\n",
              "      <th>3</th>\n",
              "      <td>พี่ค่ะยังใช้ internet ไม่ได้เลยค่ะ เป็นเครื่อ...</td>\n",
              "      <td>enquire</td>\n",
              "      <td>internet</td>\n",
              "    </tr>\n",
              "    <tr>\n",
              "      <th>4</th>\n",
              "      <td>ฮาโหล คะ พอดีว่าเมื่อวานเปิดซิมทรูมูฟ แต่มันโ...</td>\n",
              "      <td>report</td>\n",
              "      <td>phone_issues</td>\n",
              "    </tr>\n",
              "  </tbody>\n",
              "</table>\n",
              "</div>"
            ],
            "text/plain": [
              "                                  Sentence Utterance   Action        Object\n",
              "0   <PHONE_NUMBER_REMOVED> ผมไปจ่ายเงินที่ Counte...  enquire       payment\n",
              "1               internet ยังความเร็วอยุ่เท่าไหร ครับ  enquire       package\n",
              "2   ตะกี้ไปชำระค่าบริการไปแล้ว แต่ยังใช้งานไม่ได้...   report       suspend\n",
              "3   พี่ค่ะยังใช้ internet ไม่ได้เลยค่ะ เป็นเครื่อ...  enquire      internet\n",
              "4   ฮาโหล คะ พอดีว่าเมื่อวานเปิดซิมทรูมูฟ แต่มันโ...   report  phone_issues"
            ]
          },
          "metadata": {
            "tags": []
          }
        },
        {
          "output_type": "execute_result",
          "data": {
            "text/html": [
              "<div>\n",
              "<style scoped>\n",
              "    .dataframe tbody tr th:only-of-type {\n",
              "        vertical-align: middle;\n",
              "    }\n",
              "\n",
              "    .dataframe tbody tr th {\n",
              "        vertical-align: top;\n",
              "    }\n",
              "\n",
              "    .dataframe thead th {\n",
              "        text-align: right;\n",
              "    }\n",
              "</style>\n",
              "<table border=\"1\" class=\"dataframe\">\n",
              "  <thead>\n",
              "    <tr style=\"text-align: right;\">\n",
              "      <th></th>\n",
              "      <th>Sentence Utterance</th>\n",
              "      <th>Action</th>\n",
              "      <th>Object</th>\n",
              "    </tr>\n",
              "  </thead>\n",
              "  <tbody>\n",
              "    <tr>\n",
              "      <th>count</th>\n",
              "      <td>16175</td>\n",
              "      <td>16175</td>\n",
              "      <td>16175</td>\n",
              "    </tr>\n",
              "    <tr>\n",
              "      <th>unique</th>\n",
              "      <td>13389</td>\n",
              "      <td>10</td>\n",
              "      <td>33</td>\n",
              "    </tr>\n",
              "    <tr>\n",
              "      <th>top</th>\n",
              "      <td>บริการอื่นๆ</td>\n",
              "      <td>enquire</td>\n",
              "      <td>service</td>\n",
              "    </tr>\n",
              "    <tr>\n",
              "      <th>freq</th>\n",
              "      <td>97</td>\n",
              "      <td>10377</td>\n",
              "      <td>2525</td>\n",
              "    </tr>\n",
              "  </tbody>\n",
              "</table>\n",
              "</div>"
            ],
            "text/plain": [
              "       Sentence Utterance   Action   Object\n",
              "count               16175    16175    16175\n",
              "unique              13389       10       33\n",
              "top           บริการอื่นๆ  enquire  service\n",
              "freq                   97    10377     2525"
            ]
          },
          "metadata": {
            "tags": []
          },
          "execution_count": 4
        }
      ]
    },
    {
      "cell_type": "markdown",
      "metadata": {
        "id": "jGd8BNvMMc5y"
      },
      "source": [
        "## Data cleaning\n",
        "\n",
        "We call the DataFrame.describe() again.\n",
        "Notice that there are 33 unique labels/classes for object and 10 unique labels for action that the model will try to predict.\n",
        "But there are unwanted duplications e.g. Idd,idd,lotalty_card,Lotalty_card\n",
        "\n",
        "Also note that, there are 13389 unqiue sentence utterances from 16175 utterances. You have to clean that too!\n",
        "\n",
        "## #TODO 1: \n",
        "You will have to remove unwanted label duplications as well as duplications in text inputs. \n",
        "Also, you will have to trim out unwanted whitespaces from the text inputs. \n",
        "This shouldn't be too hard, as you have already seen it in the demo.\n",
        "\n"
      ]
    },
    {
      "cell_type": "code",
      "metadata": {
        "id": "V0bGLblVMc5z",
        "colab": {
          "base_uri": "https://localhost:8080/",
          "height": 317
        },
        "outputId": "4300b158-0d81-4b4e-9877-6efae485d17d"
      },
      "source": [
        "display(data_df.describe())\n",
        "display(data_df.Object.unique())\n",
        "display(data_df.Action.unique())"
      ],
      "execution_count": 5,
      "outputs": [
        {
          "output_type": "display_data",
          "data": {
            "text/html": [
              "<div>\n",
              "<style scoped>\n",
              "    .dataframe tbody tr th:only-of-type {\n",
              "        vertical-align: middle;\n",
              "    }\n",
              "\n",
              "    .dataframe tbody tr th {\n",
              "        vertical-align: top;\n",
              "    }\n",
              "\n",
              "    .dataframe thead th {\n",
              "        text-align: right;\n",
              "    }\n",
              "</style>\n",
              "<table border=\"1\" class=\"dataframe\">\n",
              "  <thead>\n",
              "    <tr style=\"text-align: right;\">\n",
              "      <th></th>\n",
              "      <th>Sentence Utterance</th>\n",
              "      <th>Action</th>\n",
              "      <th>Object</th>\n",
              "    </tr>\n",
              "  </thead>\n",
              "  <tbody>\n",
              "    <tr>\n",
              "      <th>count</th>\n",
              "      <td>16175</td>\n",
              "      <td>16175</td>\n",
              "      <td>16175</td>\n",
              "    </tr>\n",
              "    <tr>\n",
              "      <th>unique</th>\n",
              "      <td>13389</td>\n",
              "      <td>10</td>\n",
              "      <td>33</td>\n",
              "    </tr>\n",
              "    <tr>\n",
              "      <th>top</th>\n",
              "      <td>บริการอื่นๆ</td>\n",
              "      <td>enquire</td>\n",
              "      <td>service</td>\n",
              "    </tr>\n",
              "    <tr>\n",
              "      <th>freq</th>\n",
              "      <td>97</td>\n",
              "      <td>10377</td>\n",
              "      <td>2525</td>\n",
              "    </tr>\n",
              "  </tbody>\n",
              "</table>\n",
              "</div>"
            ],
            "text/plain": [
              "       Sentence Utterance   Action   Object\n",
              "count               16175    16175    16175\n",
              "unique              13389       10       33\n",
              "top           บริการอื่นๆ  enquire  service\n",
              "freq                   97    10377     2525"
            ]
          },
          "metadata": {
            "tags": []
          }
        },
        {
          "output_type": "display_data",
          "data": {
            "text/plain": [
              "array(['payment', 'package', 'suspend', 'internet', 'phone_issues',\n",
              "       'service', 'nonTrueMove', 'balance', 'detail', 'bill', 'credit',\n",
              "       'promotion', 'mobile_setting', 'iservice', 'roaming', 'truemoney',\n",
              "       'information', 'lost_stolen', 'balance_minutes', 'idd',\n",
              "       'TrueMoney', 'garbage', 'Payment', 'IDD', 'ringtone', 'Idd',\n",
              "       'rate', 'loyalty_card', 'contact', 'officer', 'Balance', 'Service',\n",
              "       'Loyalty_card'], dtype=object)"
            ]
          },
          "metadata": {
            "tags": []
          }
        },
        {
          "output_type": "display_data",
          "data": {
            "text/plain": [
              "array(['enquire', 'report', 'cancel', 'Enquire', 'buy', 'activate',\n",
              "       'request', 'Report', 'garbage', 'change'], dtype=object)"
            ]
          },
          "metadata": {
            "tags": []
          }
        }
      ]
    },
    {
      "cell_type": "code",
      "metadata": {
        "id": "wZM0THAhsr10"
      },
      "source": [
        "def lowerString(dataframe, column):\r\n",
        "    newColumn = column + \"_clean\"\r\n",
        "    dataframe[newColumn] = dataframe[column].str.lower().copy()\r\n",
        "    return dataframe"
      ],
      "execution_count": 6,
      "outputs": []
    },
    {
      "cell_type": "code",
      "metadata": {
        "id": "19onNNUZMc54"
      },
      "source": [
        "# TODO1: Data cleaning\r\n",
        "clean_df = data_df.copy()\r\n",
        "clean_df = clean_df.applymap(lambda x: x.strip())\r\n",
        "clean_df = lowerString(clean_df, \"Action\")\r\n",
        "clean_df = lowerString(clean_df, \"Object\")\r\n",
        "clean_df = clean_df.drop_duplicates(\"Sentence Utterance\", keep=\"first\")"
      ],
      "execution_count": 7,
      "outputs": []
    },
    {
      "cell_type": "code",
      "metadata": {
        "colab": {
          "base_uri": "https://localhost:8080/",
          "height": 451
        },
        "id": "WkucuXKbuAwr",
        "outputId": "9340e02d-e3a3-48ce-e8ab-dba0b6ccc2bf"
      },
      "source": [
        "display(clean_df.describe())\r\n",
        "display(clean_df.Object.unique())\r\n",
        "display(clean_df.Object_clean.unique())\r\n",
        "display(clean_df.Action.unique())\r\n",
        "display(clean_df.Action_clean.unique())"
      ],
      "execution_count": 8,
      "outputs": [
        {
          "output_type": "display_data",
          "data": {
            "text/html": [
              "<div>\n",
              "<style scoped>\n",
              "    .dataframe tbody tr th:only-of-type {\n",
              "        vertical-align: middle;\n",
              "    }\n",
              "\n",
              "    .dataframe tbody tr th {\n",
              "        vertical-align: top;\n",
              "    }\n",
              "\n",
              "    .dataframe thead th {\n",
              "        text-align: right;\n",
              "    }\n",
              "</style>\n",
              "<table border=\"1\" class=\"dataframe\">\n",
              "  <thead>\n",
              "    <tr style=\"text-align: right;\">\n",
              "      <th></th>\n",
              "      <th>Sentence Utterance</th>\n",
              "      <th>Action</th>\n",
              "      <th>Object</th>\n",
              "      <th>Action_clean</th>\n",
              "      <th>Object_clean</th>\n",
              "    </tr>\n",
              "  </thead>\n",
              "  <tbody>\n",
              "    <tr>\n",
              "      <th>count</th>\n",
              "      <td>13367</td>\n",
              "      <td>13367</td>\n",
              "      <td>13367</td>\n",
              "      <td>13367</td>\n",
              "      <td>13367</td>\n",
              "    </tr>\n",
              "    <tr>\n",
              "      <th>unique</th>\n",
              "      <td>13367</td>\n",
              "      <td>10</td>\n",
              "      <td>32</td>\n",
              "      <td>8</td>\n",
              "      <td>26</td>\n",
              "    </tr>\n",
              "    <tr>\n",
              "      <th>top</th>\n",
              "      <td>ขอเปิดใช้งานบริการโรมมิ่ง 3 เดือน พอดีจะไปทำงา...</td>\n",
              "      <td>enquire</td>\n",
              "      <td>service</td>\n",
              "      <td>enquire</td>\n",
              "      <td>service</td>\n",
              "    </tr>\n",
              "    <tr>\n",
              "      <th>freq</th>\n",
              "      <td>1</td>\n",
              "      <td>8541</td>\n",
              "      <td>2105</td>\n",
              "      <td>8644</td>\n",
              "      <td>2108</td>\n",
              "    </tr>\n",
              "  </tbody>\n",
              "</table>\n",
              "</div>"
            ],
            "text/plain": [
              "                                       Sentence Utterance  ... Object_clean\n",
              "count                                               13367  ...        13367\n",
              "unique                                              13367  ...           26\n",
              "top     ขอเปิดใช้งานบริการโรมมิ่ง 3 เดือน พอดีจะไปทำงา...  ...      service\n",
              "freq                                                    1  ...         2108\n",
              "\n",
              "[4 rows x 5 columns]"
            ]
          },
          "metadata": {
            "tags": []
          }
        },
        {
          "output_type": "display_data",
          "data": {
            "text/plain": [
              "array(['payment', 'package', 'suspend', 'internet', 'phone_issues',\n",
              "       'service', 'nonTrueMove', 'balance', 'detail', 'bill', 'credit',\n",
              "       'promotion', 'mobile_setting', 'iservice', 'roaming', 'truemoney',\n",
              "       'information', 'lost_stolen', 'balance_minutes', 'idd',\n",
              "       'TrueMoney', 'garbage', 'Payment', 'ringtone', 'rate',\n",
              "       'loyalty_card', 'Idd', 'contact', 'officer', 'Balance', 'Service',\n",
              "       'Loyalty_card'], dtype=object)"
            ]
          },
          "metadata": {
            "tags": []
          }
        },
        {
          "output_type": "display_data",
          "data": {
            "text/plain": [
              "array(['payment', 'package', 'suspend', 'internet', 'phone_issues',\n",
              "       'service', 'nontruemove', 'balance', 'detail', 'bill', 'credit',\n",
              "       'promotion', 'mobile_setting', 'iservice', 'roaming', 'truemoney',\n",
              "       'information', 'lost_stolen', 'balance_minutes', 'idd', 'garbage',\n",
              "       'ringtone', 'rate', 'loyalty_card', 'contact', 'officer'],\n",
              "      dtype=object)"
            ]
          },
          "metadata": {
            "tags": []
          }
        },
        {
          "output_type": "display_data",
          "data": {
            "text/plain": [
              "array(['enquire', 'report', 'cancel', 'Enquire', 'buy', 'activate',\n",
              "       'request', 'Report', 'garbage', 'change'], dtype=object)"
            ]
          },
          "metadata": {
            "tags": []
          }
        },
        {
          "output_type": "display_data",
          "data": {
            "text/plain": [
              "array(['enquire', 'report', 'cancel', 'buy', 'activate', 'request',\n",
              "       'garbage', 'change'], dtype=object)"
            ]
          },
          "metadata": {
            "tags": []
          }
        }
      ]
    },
    {
      "cell_type": "markdown",
      "metadata": {
        "id": "7BZZYPuIMc59"
      },
      "source": [
        "## #TODO 2: Preprocessing data for Keras\n",
        "You will be using Tensorflow 2 keras in this assignment. Please show us how you prepare your data for keras.\n",
        "Don't forget to split data into train and test sets (+ validation set if you want)"
      ]
    },
    {
      "cell_type": "code",
      "metadata": {
        "id": "aKk_abpgyIxl"
      },
      "source": [
        "def label2num(dataframe, column):\r\n",
        "    uniqueLabel = dataframe[column].unique()\r\n",
        "    label2numMap = dict(zip(uniqueLabel, range(len(uniqueLabel))))\r\n",
        "    num2labelMap = dict(zip(range(len(uniqueLabel)), uniqueLabel))\r\n",
        "    dataframe[column+\"_id\"] = dataframe[column].map(label2numMap)\r\n",
        "    return dataframe, label2numMap, num2labelMap"
      ],
      "execution_count": 9,
      "outputs": []
    },
    {
      "cell_type": "code",
      "metadata": {
        "id": "Juht1APQ4kwr"
      },
      "source": [
        "def getAllChar(dataframe, column):\r\n",
        "    allString = \"\".join(dataframe[column])\r\n",
        "    allChar = sorted(np.unique(np.array(list(allString))))\r\n",
        "    charMap = dict(zip(allChar, range(len(allChar))))\r\n",
        "    return allChar, charMap"
      ],
      "execution_count": 10,
      "outputs": []
    },
    {
      "cell_type": "code",
      "metadata": {
        "id": "njY1JQgg56Xx"
      },
      "source": [
        "def countChar(row, column, charMap):\r\n",
        "    result = np.zeros(len(charMap))\r\n",
        "    np_str = np.array(list(row[column]))\r\n",
        "    str_char, str_char_count = np.unique(np_str, return_counts=True)\r\n",
        "    for char, count in zip(str_char, str_char_count):\r\n",
        "        result[charMap[char]] = count\r\n",
        "    return result"
      ],
      "execution_count": 11,
      "outputs": []
    },
    {
      "cell_type": "code",
      "metadata": {
        "id": "fuVTvCZM2GJB"
      },
      "source": [
        "def dataframeToNumpy(dataframe, input, label):\r\n",
        "    test_size = 0.3\r\n",
        "    random_state = 11\r\n",
        "    data_input = np.array([[e for e in sl] for sl in dataframe[input]])\r\n",
        "    data_train, data_test = train_test_split(data_input, test_size=test_size, random_state=random_state)\r\n",
        "    label = to_categorical(dataframe[label])\r\n",
        "    label_train, label_test = train_test_split(label, test_size=test_size, random_state=random_state)\r\n",
        "    return data_train, data_test, label_train, label_test"
      ],
      "execution_count": 12,
      "outputs": []
    },
    {
      "cell_type": "code",
      "metadata": {
        "id": "SycOJ6cDMc5_"
      },
      "source": [
        "# TODO2: Preprocessing data for Keras\r\n",
        "map_df = clean_df.copy()\r\n",
        "map_df, l2n_action, n2l_action = label2num(map_df, \"Action_clean\")\r\n",
        "map_df, l2n_object, n2l_object = label2num(map_df, \"Object_clean\")\r\n",
        "allChar, charMap = getAllChar(map_df, \"Sentence Utterance\")\r\n",
        "map_df[\"Char_count\"] = map_df.apply(lambda row: countChar(row,\"Sentence Utterance\", charMap), axis=1)\r\n",
        "action_train, action_test, action_train_label, action_test_label  = dataframeToNumpy(map_df, \"Char_count\", \"Action_clean_id\")\r\n",
        "object_train, object_test, object_train_label, object_test_label = dataframeToNumpy(map_df, \"Char_count\", \"Object_clean_id\")"
      ],
      "execution_count": 13,
      "outputs": []
    },
    {
      "cell_type": "markdown",
      "metadata": {
        "id": "-tXZiLZ4Mc6E"
      },
      "source": [
        "## #TODO 3: Build and evaluate a model for \"action\" classification\n"
      ]
    },
    {
      "cell_type": "code",
      "metadata": {
        "id": "IoZAhUWjyJww"
      },
      "source": [
        "def evaluate(y_pred, y_true):\r\n",
        "    sum = 0\r\n",
        "    size = len(y_pred)\r\n",
        "    for i in range(size):\r\n",
        "        if y_pred[i].argmax() == y_true[i].argmax():\r\n",
        "            sum += 1\r\n",
        "    print(\"Accuracy: \"+str(sum/size))\r\n",
        "    return sum/size"
      ],
      "execution_count": 14,
      "outputs": []
    },
    {
      "cell_type": "code",
      "metadata": {
        "id": "CFMdtqKheu9m"
      },
      "source": [
        "def model(outSize):\r\n",
        "    input = Input(shape=(152,))\r\n",
        "    ff = Dense(128, activation=\"relu\")(input)\r\n",
        "    ff = Dense(128, activation=\"relu\")(ff)\r\n",
        "    ff = Dense(128, activation=\"relu\")(ff)\r\n",
        "\r\n",
        "    out = Dense(outSize, activation=\"softmax\")(ff)\r\n",
        "\r\n",
        "    model = Model(inputs=input, outputs=out)\r\n",
        "    model.compile(optimizer=Adam(), loss=\"categorical_crossentropy\", metrics=[\"acc\"])\r\n",
        "    return model"
      ],
      "execution_count": 15,
      "outputs": []
    },
    {
      "cell_type": "code",
      "metadata": {
        "colab": {
          "base_uri": "https://localhost:8080/"
        },
        "id": "9dlkFvNHhbuV",
        "outputId": "b896011d-efdc-44d1-b6c1-2d54bb6b363a"
      },
      "source": [
        "m1 = model(8)\r\n",
        "m1.summary()"
      ],
      "execution_count": 16,
      "outputs": [
        {
          "output_type": "stream",
          "text": [
            "Model: \"model\"\n",
            "_________________________________________________________________\n",
            "Layer (type)                 Output Shape              Param #   \n",
            "=================================================================\n",
            "input_1 (InputLayer)         [(None, 152)]             0         \n",
            "_________________________________________________________________\n",
            "dense (Dense)                (None, 128)               19584     \n",
            "_________________________________________________________________\n",
            "dense_1 (Dense)              (None, 128)               16512     \n",
            "_________________________________________________________________\n",
            "dense_2 (Dense)              (None, 128)               16512     \n",
            "_________________________________________________________________\n",
            "dense_3 (Dense)              (None, 8)                 1032      \n",
            "=================================================================\n",
            "Total params: 53,640\n",
            "Trainable params: 53,640\n",
            "Non-trainable params: 0\n",
            "_________________________________________________________________\n"
          ],
          "name": "stdout"
        }
      ]
    },
    {
      "cell_type": "code",
      "metadata": {
        "colab": {
          "base_uri": "https://localhost:8080/"
        },
        "id": "YjWTgw5Hy-Ut",
        "outputId": "88e06b2a-3b09-4d9f-9834-0bbfda43f0e8"
      },
      "source": [
        "m1.fit(action_train, action_train_label, epochs=10, batch_size=128, verbose=1)"
      ],
      "execution_count": 17,
      "outputs": [
        {
          "output_type": "stream",
          "text": [
            "Epoch 1/10\n",
            "74/74 [==============================] - 2s 2ms/step - loss: 1.2867 - acc: 0.6239\n",
            "Epoch 2/10\n",
            "74/74 [==============================] - 0s 2ms/step - loss: 0.7249 - acc: 0.7745\n",
            "Epoch 3/10\n",
            "74/74 [==============================] - 0s 2ms/step - loss: 0.6405 - acc: 0.7970\n",
            "Epoch 4/10\n",
            "74/74 [==============================] - 0s 2ms/step - loss: 0.5950 - acc: 0.8017\n",
            "Epoch 5/10\n",
            "74/74 [==============================] - 0s 2ms/step - loss: 0.5528 - acc: 0.8128\n",
            "Epoch 6/10\n",
            "74/74 [==============================] - 0s 2ms/step - loss: 0.4900 - acc: 0.8370\n",
            "Epoch 7/10\n",
            "74/74 [==============================] - 0s 2ms/step - loss: 0.4766 - acc: 0.8432\n",
            "Epoch 8/10\n",
            "74/74 [==============================] - 0s 2ms/step - loss: 0.4358 - acc: 0.8548\n",
            "Epoch 9/10\n",
            "74/74 [==============================] - 0s 2ms/step - loss: 0.4272 - acc: 0.8540\n",
            "Epoch 10/10\n",
            "74/74 [==============================] - 0s 2ms/step - loss: 0.3762 - acc: 0.8701\n"
          ],
          "name": "stdout"
        },
        {
          "output_type": "execute_result",
          "data": {
            "text/plain": [
              "<tensorflow.python.keras.callbacks.History at 0x7f55f3cb4a50>"
            ]
          },
          "metadata": {
            "tags": []
          },
          "execution_count": 17
        }
      ]
    },
    {
      "cell_type": "code",
      "metadata": {
        "colab": {
          "base_uri": "https://localhost:8080/"
        },
        "id": "nffmJBX5h5Oy",
        "outputId": "7d10f19f-cbaf-4fa7-e780-244c88541f77"
      },
      "source": [
        "y_pred1 = m1.predict(action_test)\r\n",
        "evaluate(y_pred1, action_test_label)"
      ],
      "execution_count": 18,
      "outputs": [
        {
          "output_type": "stream",
          "text": [
            "Accuracy: 0.7895786586886063\n"
          ],
          "name": "stdout"
        },
        {
          "output_type": "execute_result",
          "data": {
            "text/plain": [
              "0.7895786586886063"
            ]
          },
          "metadata": {
            "tags": []
          },
          "execution_count": 18
        }
      ]
    },
    {
      "cell_type": "code",
      "metadata": {
        "colab": {
          "base_uri": "https://localhost:8080/"
        },
        "id": "Abzzt5YFacu9",
        "outputId": "01b1e505-c68c-4d6e-bd53-ec778bb47d18"
      },
      "source": [
        "m1.evaluate(action_test, action_test_label)"
      ],
      "execution_count": 27,
      "outputs": [
        {
          "output_type": "stream",
          "text": [
            "126/126 [==============================] - 0s 2ms/step - loss: 0.6631 - acc: 0.7896\n"
          ],
          "name": "stdout"
        },
        {
          "output_type": "execute_result",
          "data": {
            "text/plain": [
              "[0.663093626499176, 0.7895786762237549]"
            ]
          },
          "metadata": {
            "tags": []
          },
          "execution_count": 27
        }
      ]
    },
    {
      "cell_type": "markdown",
      "metadata": {
        "id": "JLRUK0Q8Mc6J"
      },
      "source": [
        "## #TODO 4: Build and evaluate a model for \"object\" classification\n",
        "\n"
      ]
    },
    {
      "cell_type": "code",
      "metadata": {
        "colab": {
          "base_uri": "https://localhost:8080/"
        },
        "id": "AZm9cUOEzA9H",
        "outputId": "beea47ea-5fba-4fce-a324-1ffd1bb523f3"
      },
      "source": [
        "m2 = model(26)\r\n",
        "m2.summary()"
      ],
      "execution_count": 19,
      "outputs": [
        {
          "output_type": "stream",
          "text": [
            "Model: \"model_1\"\n",
            "_________________________________________________________________\n",
            "Layer (type)                 Output Shape              Param #   \n",
            "=================================================================\n",
            "input_2 (InputLayer)         [(None, 152)]             0         \n",
            "_________________________________________________________________\n",
            "dense_4 (Dense)              (None, 128)               19584     \n",
            "_________________________________________________________________\n",
            "dense_5 (Dense)              (None, 128)               16512     \n",
            "_________________________________________________________________\n",
            "dense_6 (Dense)              (None, 128)               16512     \n",
            "_________________________________________________________________\n",
            "dense_7 (Dense)              (None, 26)                3354      \n",
            "=================================================================\n",
            "Total params: 55,962\n",
            "Trainable params: 55,962\n",
            "Non-trainable params: 0\n",
            "_________________________________________________________________\n"
          ],
          "name": "stdout"
        }
      ]
    },
    {
      "cell_type": "code",
      "metadata": {
        "colab": {
          "base_uri": "https://localhost:8080/"
        },
        "id": "x78gWi3_zEt7",
        "outputId": "0a418f32-ad11-4951-f929-b36a81df0101"
      },
      "source": [
        "m2.fit(object_train, object_train_label, epochs=10, batch_size=128, verbose=1)"
      ],
      "execution_count": 20,
      "outputs": [
        {
          "output_type": "stream",
          "text": [
            "Epoch 1/10\n",
            "74/74 [==============================] - 0s 2ms/step - loss: 2.6976 - acc: 0.2521\n",
            "Epoch 2/10\n",
            "74/74 [==============================] - 0s 2ms/step - loss: 1.8913 - acc: 0.4649\n",
            "Epoch 3/10\n",
            "74/74 [==============================] - 0s 2ms/step - loss: 1.6296 - acc: 0.5325\n",
            "Epoch 4/10\n",
            "74/74 [==============================] - 0s 2ms/step - loss: 1.4456 - acc: 0.5810\n",
            "Epoch 5/10\n",
            "74/74 [==============================] - 0s 2ms/step - loss: 1.3548 - acc: 0.5975\n",
            "Epoch 6/10\n",
            "74/74 [==============================] - 0s 2ms/step - loss: 1.2519 - acc: 0.6289\n",
            "Epoch 7/10\n",
            "74/74 [==============================] - 0s 2ms/step - loss: 1.2046 - acc: 0.6362\n",
            "Epoch 8/10\n",
            "74/74 [==============================] - 0s 2ms/step - loss: 1.1583 - acc: 0.6487\n",
            "Epoch 9/10\n",
            "74/74 [==============================] - 0s 2ms/step - loss: 1.0789 - acc: 0.6715\n",
            "Epoch 10/10\n",
            "74/74 [==============================] - 0s 2ms/step - loss: 1.0513 - acc: 0.6813\n"
          ],
          "name": "stdout"
        },
        {
          "output_type": "execute_result",
          "data": {
            "text/plain": [
              "<tensorflow.python.keras.callbacks.History at 0x7f55f3c84350>"
            ]
          },
          "metadata": {
            "tags": []
          },
          "execution_count": 20
        }
      ]
    },
    {
      "cell_type": "code",
      "metadata": {
        "colab": {
          "base_uri": "https://localhost:8080/"
        },
        "id": "HhSun35czLYa",
        "outputId": "65045542-956a-4a6a-d796-dde3a891d6e2"
      },
      "source": [
        "y_pred2 = m2.predict(object_test)\r\n",
        "evaluate(y_pred2, object_test_label)"
      ],
      "execution_count": 21,
      "outputs": [
        {
          "output_type": "stream",
          "text": [
            "Accuracy: 0.5893792071802543\n"
          ],
          "name": "stdout"
        },
        {
          "output_type": "execute_result",
          "data": {
            "text/plain": [
              "0.5893792071802543"
            ]
          },
          "metadata": {
            "tags": []
          },
          "execution_count": 21
        }
      ]
    },
    {
      "cell_type": "code",
      "metadata": {
        "colab": {
          "base_uri": "https://localhost:8080/"
        },
        "id": "ekAQQtFlalqv",
        "outputId": "f39ba2e0-3aab-4365-9ad4-2780f972b658"
      },
      "source": [
        "m2.evaluate(object_test, object_test_label)"
      ],
      "execution_count": 28,
      "outputs": [
        {
          "output_type": "stream",
          "text": [
            "126/126 [==============================] - 0s 2ms/step - loss: 1.4165 - acc: 0.5894\n"
          ],
          "name": "stdout"
        },
        {
          "output_type": "execute_result",
          "data": {
            "text/plain": [
              "[1.4165138006210327, 0.5893791913986206]"
            ]
          },
          "metadata": {
            "tags": []
          },
          "execution_count": 28
        }
      ]
    },
    {
      "cell_type": "markdown",
      "metadata": {
        "id": "bsAxmXfGMc6N"
      },
      "source": [
        "## #TODO 5: Build and evaluate a multi-task model that does both \"action\" and \"object\" classifications in one-go \n",
        "\n",
        "This can be a bit tricky, if you are not familiar with the Keras functional API. PLEASE READ these webpages(https://www.tensorflow.org/guide/keras/functional, https://keras.io/getting-started/functional-api-guide/) before you start this task.   \n",
        "\n",
        "Your model will have 2 separate output layers one for action classification task and another for object classification task. \n",
        "\n",
        "This is a rough sketch of what your model might look like:\n",
        "![image](https://raw.githubusercontent.com/ekapolc/nlp_course/master/HW5/multitask_sketch.png)"
      ]
    },
    {
      "cell_type": "code",
      "metadata": {
        "id": "iQzrjznWz3W2"
      },
      "source": [
        "def getMultitaskModel():\r\n",
        "    input = Input(shape=(152,))\r\n",
        "    ff = Dense(128, activation=\"relu\")(input)\r\n",
        "    ff = Dense(128, activation=\"relu\")(ff)\r\n",
        "    ff = Dense(128, activation=\"relu\")(ff)\r\n",
        "    \r\n",
        "    out1 = Dense(8, activation=\"softmax\")(ff)\r\n",
        "    out2 = Dense(26, activation=\"softmax\")(ff)\r\n",
        "\r\n",
        "    model = Model(inputs=input, outputs=[out1, out2])\r\n",
        "    model.compile(optimizer=Adam(), loss=\"categorical_crossentropy\", metrics=[\"accuracy\"])\r\n",
        "    return model"
      ],
      "execution_count": 22,
      "outputs": []
    },
    {
      "cell_type": "code",
      "metadata": {
        "colab": {
          "base_uri": "https://localhost:8080/"
        },
        "id": "-JUhj0Fd9MoB",
        "outputId": "0ae71269-7a4a-4966-aaf5-696311ddd586"
      },
      "source": [
        "mcomb = getMultitaskModel()\r\n",
        "mcomb.summary()"
      ],
      "execution_count": 23,
      "outputs": [
        {
          "output_type": "stream",
          "text": [
            "Model: \"model_2\"\n",
            "__________________________________________________________________________________________________\n",
            "Layer (type)                    Output Shape         Param #     Connected to                     \n",
            "==================================================================================================\n",
            "input_3 (InputLayer)            [(None, 152)]        0                                            \n",
            "__________________________________________________________________________________________________\n",
            "dense_8 (Dense)                 (None, 128)          19584       input_3[0][0]                    \n",
            "__________________________________________________________________________________________________\n",
            "dense_9 (Dense)                 (None, 128)          16512       dense_8[0][0]                    \n",
            "__________________________________________________________________________________________________\n",
            "dense_10 (Dense)                (None, 128)          16512       dense_9[0][0]                    \n",
            "__________________________________________________________________________________________________\n",
            "dense_11 (Dense)                (None, 8)            1032        dense_10[0][0]                   \n",
            "__________________________________________________________________________________________________\n",
            "dense_12 (Dense)                (None, 26)           3354        dense_10[0][0]                   \n",
            "==================================================================================================\n",
            "Total params: 56,994\n",
            "Trainable params: 56,994\n",
            "Non-trainable params: 0\n",
            "__________________________________________________________________________________________________\n"
          ],
          "name": "stdout"
        }
      ]
    },
    {
      "cell_type": "code",
      "metadata": {
        "colab": {
          "base_uri": "https://localhost:8080/"
        },
        "id": "2-F9Rt4-9Sp_",
        "outputId": "ab831153-593c-4ccd-f7ba-1d37d9548a21"
      },
      "source": [
        "mcomb.fit(x=action_train, y=[action_train_label, object_train_label], epochs=10, batch_size=128, verbose=1)"
      ],
      "execution_count": 24,
      "outputs": [
        {
          "output_type": "stream",
          "text": [
            "Epoch 1/10\n",
            "74/74 [==============================] - 1s 3ms/step - loss: 4.1638 - dense_11_loss: 1.3494 - dense_12_loss: 2.8144 - dense_11_accuracy: 0.6067 - dense_12_accuracy: 0.1991\n",
            "Epoch 2/10\n",
            "74/74 [==============================] - 0s 3ms/step - loss: 2.7288 - dense_11_loss: 0.8053 - dense_12_loss: 1.9236 - dense_11_accuracy: 0.7495 - dense_12_accuracy: 0.4554\n",
            "Epoch 3/10\n",
            "74/74 [==============================] - 0s 3ms/step - loss: 2.2954 - dense_11_loss: 0.6634 - dense_12_loss: 1.6320 - dense_11_accuracy: 0.7885 - dense_12_accuracy: 0.5213\n",
            "Epoch 4/10\n",
            "74/74 [==============================] - 0s 3ms/step - loss: 2.0902 - dense_11_loss: 0.6109 - dense_12_loss: 1.4793 - dense_11_accuracy: 0.8038 - dense_12_accuracy: 0.5698\n",
            "Epoch 5/10\n",
            "74/74 [==============================] - 0s 3ms/step - loss: 1.9495 - dense_11_loss: 0.5687 - dense_12_loss: 1.3808 - dense_11_accuracy: 0.8073 - dense_12_accuracy: 0.5835\n",
            "Epoch 6/10\n",
            "74/74 [==============================] - 0s 3ms/step - loss: 1.8662 - dense_11_loss: 0.5443 - dense_12_loss: 1.3219 - dense_11_accuracy: 0.8127 - dense_12_accuracy: 0.6128\n",
            "Epoch 7/10\n",
            "74/74 [==============================] - 0s 3ms/step - loss: 1.7561 - dense_11_loss: 0.5146 - dense_12_loss: 1.2415 - dense_11_accuracy: 0.8257 - dense_12_accuracy: 0.6315\n",
            "Epoch 8/10\n",
            "74/74 [==============================] - 0s 3ms/step - loss: 1.6849 - dense_11_loss: 0.5025 - dense_12_loss: 1.1824 - dense_11_accuracy: 0.8288 - dense_12_accuracy: 0.6492\n",
            "Epoch 9/10\n",
            "74/74 [==============================] - 0s 3ms/step - loss: 1.5790 - dense_11_loss: 0.4559 - dense_12_loss: 1.1231 - dense_11_accuracy: 0.8419 - dense_12_accuracy: 0.6653\n",
            "Epoch 10/10\n",
            "74/74 [==============================] - 0s 3ms/step - loss: 1.5143 - dense_11_loss: 0.4459 - dense_12_loss: 1.0684 - dense_11_accuracy: 0.8488 - dense_12_accuracy: 0.6781\n"
          ],
          "name": "stdout"
        },
        {
          "output_type": "execute_result",
          "data": {
            "text/plain": [
              "<tensorflow.python.keras.callbacks.History at 0x7f55efc9c050>"
            ]
          },
          "metadata": {
            "tags": []
          },
          "execution_count": 24
        }
      ]
    },
    {
      "cell_type": "code",
      "metadata": {
        "colab": {
          "base_uri": "https://localhost:8080/"
        },
        "id": "0BqajhOp9oYz",
        "outputId": "41f0c413-0aba-404f-cde0-87930bf7c28e"
      },
      "source": [
        "y_pred_comb = mcomb.predict(action_test)\r\n",
        "evaluate(y_pred_comb[0], action_test_label)"
      ],
      "execution_count": 25,
      "outputs": [
        {
          "output_type": "stream",
          "text": [
            "Accuracy: 0.7968087758663674\n"
          ],
          "name": "stdout"
        },
        {
          "output_type": "execute_result",
          "data": {
            "text/plain": [
              "0.7968087758663674"
            ]
          },
          "metadata": {
            "tags": []
          },
          "execution_count": 25
        }
      ]
    },
    {
      "cell_type": "code",
      "metadata": {
        "colab": {
          "base_uri": "https://localhost:8080/"
        },
        "id": "8uphhy0P-CM-",
        "outputId": "5bdf06ed-d764-42c1-8d46-742792042126"
      },
      "source": [
        "y_pred_comb = mcomb.predict(object_test)\r\n",
        "evaluate(y_pred_comb[1], object_test_label)"
      ],
      "execution_count": 26,
      "outputs": [
        {
          "output_type": "stream",
          "text": [
            "Accuracy: 0.5846422338568935\n"
          ],
          "name": "stdout"
        },
        {
          "output_type": "execute_result",
          "data": {
            "text/plain": [
              "0.5846422338568935"
            ]
          },
          "metadata": {
            "tags": []
          },
          "execution_count": 26
        }
      ]
    },
    {
      "cell_type": "code",
      "metadata": {
        "colab": {
          "base_uri": "https://localhost:8080/"
        },
        "id": "FgUU5NKOa5J8",
        "outputId": "29b25a84-d0a1-46b8-d543-0f5845954444"
      },
      "source": [
        "m1.evaluate(action_test, action_test_label)\r\n",
        "m2.evaluate(object_test, object_test_label)\r\n",
        "mcomb.evaluate(action_test, [action_test_label, object_test_label])"
      ],
      "execution_count": 32,
      "outputs": [
        {
          "output_type": "stream",
          "text": [
            "126/126 [==============================] - 0s 2ms/step - loss: 0.6631 - acc: 0.7896\n",
            "126/126 [==============================] - 0s 2ms/step - loss: 1.4165 - acc: 0.5894\n",
            "126/126 [==============================] - 0s 3ms/step - loss: 2.0578 - dense_11_loss: 0.6422 - dense_12_loss: 1.4157 - dense_11_accuracy: 0.7968 - dense_12_accuracy: 0.5846\n"
          ],
          "name": "stdout"
        },
        {
          "output_type": "execute_result",
          "data": {
            "text/plain": [
              "[2.0578253269195557,\n",
              " 0.6421725153923035,\n",
              " 1.4156533479690552,\n",
              " 0.7968087792396545,\n",
              " 0.584642231464386]"
            ]
          },
          "metadata": {
            "tags": []
          },
          "execution_count": 32
        }
      ]
    }
  ]
}